{
  "nbformat": 4,
  "nbformat_minor": 0,
  "metadata": {
    "colab": {
      "provenance": [],
      "authorship_tag": "ABX9TyO8IOoQ+0WFT78krG5us4VZ",
      "include_colab_link": true
    },
    "kernelspec": {
      "name": "python3",
      "display_name": "Python 3"
    },
    "language_info": {
      "name": "python"
    }
  },
  "cells": [
    {
      "cell_type": "markdown",
      "metadata": {
        "id": "view-in-github",
        "colab_type": "text"
      },
      "source": [
        "<a href=\"https://colab.research.google.com/github/Andicleomj/Machine-Learning/blob/main/Week10/Classification%20model%3A%20MLP%20Classification/Iris.ipynb\" target=\"_parent\"><img src=\"https://colab.research.google.com/assets/colab-badge.svg\" alt=\"Open In Colab\"/></a>"
      ]
    },
    {
      "cell_type": "markdown",
      "source": [],
      "metadata": {
        "id": "UZQYqznTBXLv"
      }
    },
    {
      "cell_type": "markdown",
      "source": [
        "#### Andi Cleopatra Maryam jamila\n",
        "#### 1103213071\n",
        "#### Classification model: MLP Classification\n"
      ],
      "metadata": {
        "id": "PAwk1fMLJGFO"
      }
    },
    {
      "cell_type": "code",
      "execution_count": 26,
      "metadata": {
        "id": "XIMJZKDrBVC7"
      },
      "outputs": [],
      "source": [
        "import torch\n",
        "import torch.nn as nn\n",
        "import torch.optim as optim\n",
        "from torch.utils.data import DataLoader, TensorDataset\n",
        "from sklearn.datasets import load_iris\n",
        "from sklearn.preprocessing import StandardScaler\n",
        "from sklearn.model_selection import train_test_split\n",
        "import numpy as np\n",
        "import matplotlib.pyplot as plt"
      ]
    },
    {
      "cell_type": "code",
      "source": [
        "# Memuat dataset Iris\n",
        "iris = load_iris()\n",
        "X = iris.data\n",
        "y = iris.target"
      ],
      "metadata": {
        "id": "TMVOBtokBdku"
      },
      "execution_count": 27,
      "outputs": []
    },
    {
      "cell_type": "code",
      "source": [
        "# Menstandarisasi fitur\n",
        "scaler = StandardScaler()\n",
        "X = scaler.fit_transform(X)"
      ],
      "metadata": {
        "id": "ylGZ-DgvB2oJ"
      },
      "execution_count": 28,
      "outputs": []
    },
    {
      "cell_type": "code",
      "source": [
        "# Membagi dataset menjadi training dan testing\n",
        "X_train, X_test, y_train, y_test = train_test_split(X, y, test_size=0.3, random_state=42)"
      ],
      "metadata": {
        "id": "zjwlGjysCG6E"
      },
      "execution_count": 29,
      "outputs": []
    },
    {
      "cell_type": "code",
      "source": [
        "# Mengonversi ke tensor\n",
        "X_train_tensor = torch.Tensor(X_train)\n",
        "X_test_tensor = torch.Tensor(X_test)\n",
        "y_train_tensor = torch.Tensor(y_train).long()\n",
        "y_test_tensor = torch.Tensor(y_test).long()"
      ],
      "metadata": {
        "id": "rTIH07TfCJzj"
      },
      "execution_count": 30,
      "outputs": []
    },
    {
      "cell_type": "code",
      "source": [
        "# Membuat DataLoader untuk training dan testing\n",
        "train_data = TensorDataset(X_train_tensor, y_train_tensor)\n",
        "test_data = TensorDataset(X_test_tensor, y_test_tensor)"
      ],
      "metadata": {
        "id": "g4kt3POPCM71"
      },
      "execution_count": 31,
      "outputs": []
    },
    {
      "cell_type": "code",
      "source": [
        "# Fungsi untuk membuat DataLoader\n",
        "def create_dataloader(batch_size):\n",
        "    train_loader = DataLoader(train_data, batch_size=batch_size, shuffle=True)\n",
        "    test_loader = DataLoader(test_data, batch_size=batch_size, shuffle=False)\n",
        "    return train_loader, test_loader"
      ],
      "metadata": {
        "id": "YXu_lzEECP4b"
      },
      "execution_count": 32,
      "outputs": []
    },
    {
      "cell_type": "code",
      "source": [
        "# Mendefinisikan Model MLP\n",
        "class MLP(nn.Module):\n",
        "    def __init__(self, input_dim, hidden_layers, neurons_per_layer, activation_fn):\n",
        "        super(MLP, self).__init__()\n",
        "        layers = []\n",
        "        current_input = input_dim\n",
        "\n",
        "        # Membuat hidden layers\n",
        "        for _ in range(hidden_layers):\n",
        "            layers.append(nn.Linear(current_input, neurons_per_layer))\n",
        "            if activation_fn == 'ReLU':\n",
        "                layers.append(nn.ReLU())\n",
        "            elif activation_fn == 'Sigmoid':\n",
        "                layers.append(nn.Sigmoid())\n",
        "            elif activation_fn == 'Tanh':\n",
        "                layers.append(nn.Tanh())\n",
        "            current_input = neurons_per_layer\n",
        "\n",
        "        # Output layer\n",
        "        layers.append(nn.Linear(current_input, 3))  # 3 kelas pada dataset Iris\n",
        "        layers.append(nn.Softmax(dim=1))  # Softmax untuk klasifikasi multi-kelas\n",
        "\n",
        "        self.model = nn.Sequential(*layers)\n",
        "\n",
        "    def forward(self, x):\n",
        "        return self.model(x)\n"
      ],
      "metadata": {
        "id": "M9edH41aCW13"
      },
      "execution_count": 33,
      "outputs": []
    },
    {
      "cell_type": "code",
      "source": [
        "# Fungsi Pelatihan\n",
        "def train_model(model, train_loader, learning_rate, epochs):\n",
        "    criterion = nn.CrossEntropyLoss()\n",
        "    optimizer = optim.Adam(model.parameters(), lr=learning_rate)\n",
        "\n",
        "    model.train()\n",
        "    train_loss = []\n",
        "    for epoch in range(epochs):\n",
        "        epoch_loss = 0\n",
        "        for X_batch, y_batch in train_loader:\n",
        "            optimizer.zero_grad()\n",
        "            output = model(X_batch)\n",
        "            loss = criterion(output, y_batch)\n",
        "            loss.backward()\n",
        "            optimizer.step()\n",
        "            epoch_loss += loss.item()\n",
        "\n",
        "        train_loss.append(epoch_loss / len(train_loader))\n",
        "        print(f'Epoch {epoch+1}/{epochs}, Loss: {epoch_loss / len(train_loader)}')\n",
        "\n",
        "    return train_loss\n"
      ],
      "metadata": {
        "id": "jzjTbQB2CYb_"
      },
      "execution_count": 34,
      "outputs": []
    },
    {
      "cell_type": "code",
      "source": [
        "# Contoh eksperimen\n",
        "hidden_layers = 2\n",
        "neurons_per_layer = 16\n",
        "activation_fn = 'ReLU'\n",
        "learning_rate = 0.01\n",
        "epochs = 50\n",
        "batch_size = 64\n",
        "\n",
        "train_loader, test_loader = create_dataloader(batch_size)\n",
        "model = MLP(input_dim=4, hidden_layers=hidden_layers, neurons_per_layer=neurons_per_layer, activation_fn=activation_fn)\n",
        "\n",
        "# Melatih model\n",
        "train_loss = train_model(model, train_loader, learning_rate, epochs)\n"
      ],
      "metadata": {
        "colab": {
          "base_uri": "https://localhost:8080/"
        },
        "id": "--GMCPm-FDfX",
        "outputId": "7214abd6-83e2-483e-d3ae-50332fed005b"
      },
      "execution_count": 35,
      "outputs": [
        {
          "output_type": "stream",
          "name": "stdout",
          "text": [
            "Epoch 1/50, Loss: 1.0898390412330627\n",
            "Epoch 2/50, Loss: 1.061174988746643\n",
            "Epoch 3/50, Loss: 1.0321409106254578\n",
            "Epoch 4/50, Loss: 1.0003392398357391\n",
            "Epoch 5/50, Loss: 0.9642347693443298\n",
            "Epoch 6/50, Loss: 0.9184033870697021\n",
            "Epoch 7/50, Loss: 0.8969387710094452\n",
            "Epoch 8/50, Loss: 0.8513369560241699\n",
            "Epoch 9/50, Loss: 0.8078986406326294\n",
            "Epoch 10/50, Loss: 0.7815707325935364\n",
            "Epoch 11/50, Loss: 0.7582186162471771\n",
            "Epoch 12/50, Loss: 0.736363559961319\n",
            "Epoch 13/50, Loss: 0.7200369238853455\n",
            "Epoch 14/50, Loss: 0.7127375602722168\n",
            "Epoch 15/50, Loss: 0.6880621314048767\n",
            "Epoch 16/50, Loss: 0.6804692447185516\n",
            "Epoch 17/50, Loss: 0.6741258203983307\n",
            "Epoch 18/50, Loss: 0.6526428461074829\n",
            "Epoch 19/50, Loss: 0.6499209105968475\n",
            "Epoch 20/50, Loss: 0.6417641937732697\n",
            "Epoch 21/50, Loss: 0.6269614100456238\n",
            "Epoch 22/50, Loss: 0.6249173879623413\n",
            "Epoch 23/50, Loss: 0.6199700832366943\n",
            "Epoch 24/50, Loss: 0.6097123026847839\n",
            "Epoch 25/50, Loss: 0.6029579341411591\n",
            "Epoch 26/50, Loss: 0.5973392426967621\n",
            "Epoch 27/50, Loss: 0.597431480884552\n",
            "Epoch 28/50, Loss: 0.5934716761112213\n",
            "Epoch 29/50, Loss: 0.5949709415435791\n",
            "Epoch 30/50, Loss: 0.5901989340782166\n",
            "Epoch 31/50, Loss: 0.5888497829437256\n",
            "Epoch 32/50, Loss: 0.5863027274608612\n",
            "Epoch 33/50, Loss: 0.5830478966236115\n",
            "Epoch 34/50, Loss: 0.5833465754985809\n",
            "Epoch 35/50, Loss: 0.5866381824016571\n",
            "Epoch 36/50, Loss: 0.5865837633609772\n",
            "Epoch 37/50, Loss: 0.5809867680072784\n",
            "Epoch 38/50, Loss: 0.5802251398563385\n",
            "Epoch 39/50, Loss: 0.582557201385498\n",
            "Epoch 40/50, Loss: 0.5797225534915924\n",
            "Epoch 41/50, Loss: 0.5823532938957214\n",
            "Epoch 42/50, Loss: 0.5851759016513824\n",
            "Epoch 43/50, Loss: 0.5779244899749756\n",
            "Epoch 44/50, Loss: 0.5812886357307434\n",
            "Epoch 45/50, Loss: 0.5768979787826538\n",
            "Epoch 46/50, Loss: 0.578278511762619\n",
            "Epoch 47/50, Loss: 0.5775479376316071\n",
            "Epoch 48/50, Loss: 0.5768348574638367\n",
            "Epoch 49/50, Loss: 0.5822421014308929\n",
            "Epoch 50/50, Loss: 0.5808062851428986\n"
          ]
        }
      ]
    },
    {
      "cell_type": "code",
      "source": [
        "def evaluate_model(model, test_loader):\n",
        "    model.eval()\n",
        "    correct = 0\n",
        "    total = 0\n",
        "    with torch.no_grad():\n",
        "        for X_batch, y_batch in test_loader:\n",
        "            outputs = model(X_batch)\n",
        "            _, predicted = torch.max(outputs, 1)\n",
        "            total += y_batch.size(0)\n",
        "            correct += (predicted == y_batch).sum().item()\n",
        "\n",
        "    accuracy = correct / total\n",
        "    return accuracy\n",
        "\n",
        "# Evaluasi model\n",
        "accuracy = evaluate_model(model, test_loader)\n",
        "print(f'Accuracy: {accuracy * 100:.2f}%')\n"
      ],
      "metadata": {
        "colab": {
          "base_uri": "https://localhost:8080/"
        },
        "id": "og4YgfslI9tB",
        "outputId": "9397fba0-fd4a-422b-a3a2-c283b4ee180a"
      },
      "execution_count": 36,
      "outputs": [
        {
          "output_type": "stream",
          "name": "stdout",
          "text": [
            "Accuracy: 100.00%\n"
          ]
        }
      ]
    }
  ]
}