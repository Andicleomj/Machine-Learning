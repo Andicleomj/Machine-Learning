{
  "nbformat": 4,
  "nbformat_minor": 0,
  "metadata": {
    "colab": {
      "provenance": [],
      "authorship_tag": "ABX9TyMoQcg8xF+RZtYn81FfnGaw",
      "include_colab_link": true
    },
    "kernelspec": {
      "name": "python3",
      "display_name": "Python 3"
    },
    "language_info": {
      "name": "python"
    }
  },
  "cells": [
    {
      "cell_type": "markdown",
      "metadata": {
        "id": "view-in-github",
        "colab_type": "text"
      },
      "source": [
        "<a href=\"https://colab.research.google.com/github/Andicleomj/Machine-Learning/blob/main/Week10/Regression%20Model%3A%20MLP%20Regression/Iris.ipynb\" target=\"_parent\"><img src=\"https://colab.research.google.com/assets/colab-badge.svg\" alt=\"Open In Colab\"/></a>"
      ]
    },
    {
      "cell_type": "markdown",
      "source": [
        "#### Andi Cleopatra Maryam Jamila\n",
        "#### 1103213071\n",
        "#### Regression Model: MLP Regression\n"
      ],
      "metadata": {
        "id": "0h65b6juY99-"
      }
    },
    {
      "cell_type": "code",
      "execution_count": 1,
      "metadata": {
        "id": "ykjEBAaVRjDT"
      },
      "outputs": [],
      "source": [
        "# Install dan import library\n",
        "import torch\n",
        "import torch.nn as nn\n",
        "import torch.optim as optim\n",
        "from torch.utils.data import DataLoader, Dataset, random_split\n",
        "from sklearn.datasets import load_iris\n",
        "from sklearn.model_selection import train_test_split\n",
        "from sklearn.preprocessing import StandardScaler\n",
        "import numpy as np\n",
        "import pandas as pd\n",
        "import itertools\n",
        "from tqdm import tqdm"
      ]
    },
    {
      "cell_type": "code",
      "source": [
        "# Load dataset\n",
        "iris = load_iris()\n",
        "X = iris.data\n",
        "y = iris.data[:, 0]"
      ],
      "metadata": {
        "id": "0jLjxKkxRtMk"
      },
      "execution_count": 6,
      "outputs": []
    },
    {
      "cell_type": "code",
      "source": [
        "# Preprocessing data\n",
        "scaler = StandardScaler()\n",
        "X = scaler.fit_transform(X)"
      ],
      "metadata": {
        "id": "twFYNoWJRyLC"
      },
      "execution_count": 4,
      "outputs": []
    },
    {
      "cell_type": "code",
      "source": [
        "# Split dataset\n",
        "X_train, X_test, y_train, y_test = train_test_split(X, y, test_size=0.2, random_state=42)"
      ],
      "metadata": {
        "id": "qX7brdFxSJS4"
      },
      "execution_count": 5,
      "outputs": []
    },
    {
      "cell_type": "code",
      "source": [
        "# Konversi ke tensor PyTorch\n",
        "X_train = torch.tensor(X_train, dtype=torch.float32)\n",
        "y_train = torch.tensor(y_train, dtype=torch.float32).view(-1, 1)\n",
        "X_test = torch.tensor(X_test, dtype=torch.float32)\n",
        "y_test = torch.tensor(y_test, dtype=torch.float32).view(-1, 1)"
      ],
      "metadata": {
        "id": "PL100-3ASLWB"
      },
      "execution_count": 7,
      "outputs": []
    },
    {
      "cell_type": "code",
      "source": [
        "# Dataset dan DataLoader\n",
        "class IrisDataset(Dataset):\n",
        "    def __init__(self, features, targets):\n",
        "        self.features = features\n",
        "        self.targets = targets\n",
        "\n",
        "    def __len__(self):\n",
        "        return len(self.features)\n",
        "\n",
        "    def __getitem__(self, idx):\n",
        "        return self.features[idx], self.targets[idx]\n",
        "\n",
        "train_dataset = IrisDataset(X_train, y_train)\n",
        "test_dataset = IrisDataset(X_test, y_test)"
      ],
      "metadata": {
        "id": "0u5fx8aiSOXi"
      },
      "execution_count": 8,
      "outputs": []
    },
    {
      "cell_type": "code",
      "source": [
        "# Model MLP\n",
        "class MLPRegression(nn.Module):\n",
        "    def __init__(self, input_dim, hidden_layers, activation_function):\n",
        "        super(MLPRegression, self).__init__()\n",
        "        layers = []\n",
        "        current_dim = input_dim\n",
        "        for hidden_dim in hidden_layers:\n",
        "            layers.append(nn.Linear(current_dim, hidden_dim))\n",
        "            layers.append(activation_function)\n",
        "            current_dim = hidden_dim\n",
        "        layers.append(nn.Linear(current_dim, 1))  # Output layer\n",
        "        self.model = nn.Sequential(*layers)\n",
        "\n",
        "    def forward(self, x):\n",
        "        return self.model(x)"
      ],
      "metadata": {
        "id": "Oh9KUVasSSKd"
      },
      "execution_count": 9,
      "outputs": []
    },
    {
      "cell_type": "code",
      "source": [
        "# Grid Hyperparameter\n",
        "hidden_layer_configurations = [[4], [8, 16], [32, 64, 32]]\n",
        "activation_functions = {\n",
        "    \"ReLU\": nn.ReLU(),\n",
        "    \"Sigmoid\": nn.Sigmoid(),\n",
        "    \"Tanh\": nn.Tanh(),\n",
        "    \"Linear\": nn.Identity()\n",
        "}\n",
        "learning_rates = [10, 1, 0.1, 0.01, 0.001, 0.0001]\n",
        "epochs_list = [1, 10, 25, 50, 100, 250]\n",
        "batch_sizes = [16, 32, 64, 128, 256, 512]"
      ],
      "metadata": {
        "id": "FoG5bcjDSVuM"
      },
      "execution_count": 10,
      "outputs": []
    },
    {
      "cell_type": "code",
      "source": [
        "# Loop eksperimen dengan itertools.product\n",
        "hyperparameter_combinations = itertools.product(\n",
        "    hidden_layer_configurations,  # Kombinasi hidden layers\n",
        "    activation_functions.keys(),  # Nama fungsi aktivasi\n",
        "    learning_rates,               # Daftar learning rate\n",
        "    epochs_list,                  # Daftar epoch\n",
        "    batch_sizes                   # Daftar batch size\n",
        ")"
      ],
      "metadata": {
        "id": "MlLY2wD1Sesv"
      },
      "execution_count": 16,
      "outputs": []
    },
    {
      "cell_type": "code",
      "source": [
        "# Total kombinasi\n",
        "total_combinations = (\n",
        "    len(hidden_layer_configurations)\n",
        "    * len(activation_functions)\n",
        "    * len(learning_rates)\n",
        "    * len(epochs_list)\n",
        "    * len(batch_sizes)\n",
        ")"
      ],
      "metadata": {
        "id": "gJ4tfBboTtDB"
      },
      "execution_count": 17,
      "outputs": []
    },
    {
      "cell_type": "code",
      "source": [
        "# List untuk menyimpan hasil eksperimen\n",
        "results = []"
      ],
      "metadata": {
        "id": "uwIiONq_U97E"
      },
      "execution_count": 23,
      "outputs": []
    },
    {
      "cell_type": "code",
      "source": [
        "# Iterasi kombinasi hyperparameter dengan tqdm\n",
        "for hidden_layers, activation_name, learning_rate, epochs, batch_size in tqdm(\n",
        "    hyperparameter_combinations,\n",
        "    total=total_combinations\n",
        "):\n",
        "    # DataLoader untuk training dan testing\n",
        "    train_loader = DataLoader(train_dataset, batch_size=batch_size, shuffle=True)\n",
        "    test_loader = DataLoader(test_dataset, batch_size=batch_size, shuffle=False)\n",
        "\n",
        "    # Inisialisasi model, loss function, dan optimizer\n",
        "    model = MLPRegression(input_dim=4, hidden_layers=hidden_layers, activation_function=activation_functions[activation_name])\n",
        "    criterion = nn.MSELoss()\n",
        "    optimizer = optim.Adam(model.parameters(), lr=learning_rate)\n",
        "\n",
        "    # Proses training\n",
        "    for epoch in range(epochs):\n",
        "        model.train()\n",
        "        for X_batch, y_batch in train_loader:\n",
        "            optimizer.zero_grad()\n",
        "            predictions = model(X_batch)\n",
        "            loss = criterion(predictions, y_batch)\n",
        "            loss.backward()\n",
        "            optimizer.step()\n",
        "\n",
        "    # Evaluasi model\n",
        "    model.eval()\n",
        "    with torch.no_grad():\n",
        "        y_pred = model(X_test)\n",
        "        test_loss = criterion(y_pred, y_test).item()\n",
        "\n",
        "    # Menyimpan hasil eksperimen\n",
        "    results.append({\n",
        "        \"Hidden Layers\": hidden_layers,\n",
        "        \"Activation Function\": activation_name,\n",
        "        \"Learning Rate\": learning_rate,\n",
        "        \"Epochs\": epochs,\n",
        "        \"Batch Size\": batch_size,\n",
        "        \"Test Loss\": test_loss\n",
        "    })"
      ],
      "metadata": {
        "colab": {
          "base_uri": "https://localhost:8080/"
        },
        "id": "ge4G6i_STybx",
        "outputId": "8485d257-a59b-4ebf-fca2-8cf085080805"
      },
      "execution_count": 24,
      "outputs": [
        {
          "output_type": "stream",
          "name": "stderr",
          "text": [
            "100%|█████████▉| 2591/2592 [16:31<00:00,  2.61it/s]\n"
          ]
        }
      ]
    },
    {
      "cell_type": "code",
      "source": [
        "# Konversi hasil eksperimen ke DataFrame\n",
        "results_df = pd.DataFrame(results)\n",
        "print(results_df.sort_values(by=\"Test Loss\").head())"
      ],
      "metadata": {
        "colab": {
          "base_uri": "https://localhost:8080/"
        },
        "id": "Q0BazFmSYyXU",
        "outputId": "3dac3256-cd10-47a9-8649-f93bae3b5f7f"
      },
      "execution_count": 25,
      "outputs": [
        {
          "output_type": "stream",
          "name": "stdout",
          "text": [
            "     Hidden Layers Activation Function  Learning Rate  Epochs  Batch Size  \\\n",
            "1643       [8, 16]              Linear           0.01     100          16   \n",
            "751            [4]              Linear           0.10     250          64   \n",
            "2478  [32, 64, 32]              Linear           0.10     250          32   \n",
            "1614       [8, 16]              Linear           0.10     250          32   \n",
            "2515  [32, 64, 32]              Linear           0.01     250          64   \n",
            "\n",
            "         Test Loss  \n",
            "1643  6.063298e-14  \n",
            "751   6.821211e-14  \n",
            "2478  7.579123e-14  \n",
            "1614  7.579123e-14  \n",
            "2515  7.579123e-14  \n"
          ]
        }
      ]
    }
  ]
}