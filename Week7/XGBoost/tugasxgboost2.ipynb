{
  "nbformat": 4,
  "nbformat_minor": 0,
  "metadata": {
    "colab": {
      "provenance": [],
      "authorship_tag": "ABX9TyMiFkfoJ9PYXCGK/F9MjNWz",
      "include_colab_link": true
    },
    "kernelspec": {
      "name": "python3",
      "display_name": "Python 3"
    },
    "language_info": {
      "name": "python"
    }
  },
  "cells": [
    {
      "cell_type": "markdown",
      "metadata": {
        "id": "view-in-github",
        "colab_type": "text"
      },
      "source": [
        "<a href=\"https://colab.research.google.com/github/Andicleomj/Machine-Learning/blob/main/Week7/XGBoost/tugasxgboost2.ipynb\" target=\"_parent\"><img src=\"https://colab.research.google.com/assets/colab-badge.svg\" alt=\"Open In Colab\"/></a>"
      ]
    },
    {
      "cell_type": "markdown",
      "source": [
        "**Langkah 1: Import Library dan Persiapkan Dataset**"
      ],
      "metadata": {
        "id": "ftHSDMgGHsTD"
      }
    },
    {
      "cell_type": "code",
      "source": [
        "# Instalasi Library yang Dibutuhkan\n",
        "!pip install --upgrade scikit-learn\n"
      ],
      "metadata": {
        "colab": {
          "base_uri": "https://localhost:8080/"
        },
        "id": "u9oVD1MvLoI9",
        "outputId": "c7fb9e36-22c2-41f7-d5e4-93b934510447"
      },
      "execution_count": 70,
      "outputs": [
        {
          "output_type": "stream",
          "name": "stdout",
          "text": [
            "Requirement already satisfied: scikit-learn in /usr/local/lib/python3.10/dist-packages (1.5.2)\n",
            "Requirement already satisfied: numpy>=1.19.5 in /usr/local/lib/python3.10/dist-packages (from scikit-learn) (1.26.4)\n",
            "Requirement already satisfied: scipy>=1.6.0 in /usr/local/lib/python3.10/dist-packages (from scikit-learn) (1.13.1)\n",
            "Requirement already satisfied: joblib>=1.2.0 in /usr/local/lib/python3.10/dist-packages (from scikit-learn) (1.4.2)\n",
            "Requirement already satisfied: threadpoolctl>=3.1.0 in /usr/local/lib/python3.10/dist-packages (from scikit-learn) (3.5.0)\n"
          ]
        }
      ]
    },
    {
      "cell_type": "markdown",
      "source": [
        "* Ini memastikan bahwa versi terbaru dari scikit-learn diinstal di lingkungan Python Anda. scikit-learn adalah pustaka Python yang digunakan untuk machine learning, dan banyak digunakan untuk model regresi, klasifikasi, dan evaluasi model."
      ],
      "metadata": {
        "id": "40v3whSgPi_n"
      }
    },
    {
      "cell_type": "code",
      "execution_count": 71,
      "metadata": {
        "id": "mgBMwphCHaSC"
      },
      "outputs": [],
      "source": [
        "# Import Library\n",
        "import pandas as pd\n",
        "import numpy as np\n",
        "from xgboost import XGBRegressor, plot_importance, plot_tree\n",
        "from sklearn.model_selection import train_test_split, learning_curve\n",
        "from sklearn.metrics import mean_squared_error\n",
        "import matplotlib.pyplot as plt\n",
        "import shap\n",
        "from sklearn.inspection import PartialDependenceDisplay"
      ]
    },
    {
      "cell_type": "markdown",
      "source": [
        "* pandas: Untuk manipulasi data.\n",
        "* numpy: Untuk operasi numerik.\n",
        "* XGBRegressor: Model regresi dari XGBoost, digunakan untuk membangun * model regresi berbasis boosting.\n",
        "* train_test_split: Fungsi untuk membagi data menjadi data pelatihan dan pengujian.\n",
        "* learning_curve: Untuk melihat kurva pembelajaran.\n",
        "* mean_squared_error: Untuk evaluasi performa model regresi.\n",
        "* shap: Digunakan untuk interpretasi model, memberikan pemahaman bagaimana fitur memengaruhi prediksi.\n",
        "* PartialDependenceDisplay: Untuk visualisasi pengaruh fitur terhadap prediksi."
      ],
      "metadata": {
        "id": "5ldBv9YePnaw"
      }
    },
    {
      "cell_type": "code",
      "source": [
        "# Membaca dataset\n",
        "df = pd.read_csv(\"/content/sample_data/tugasxgboost2.csv\", delimiter=';')"
      ],
      "metadata": {
        "id": "zI9zmDofHhSa"
      },
      "execution_count": 72,
      "outputs": []
    },
    {
      "cell_type": "markdown",
      "source": [
        "* Dataset dibaca dengan menggunakan pd.read_csv dan memisahkan kolom berdasarkan tanda titik koma (;)."
      ],
      "metadata": {
        "id": "G_qzK2f6P6g1"
      }
    },
    {
      "cell_type": "code",
      "source": [
        "# Menampilkan 5 baris pertama untuk melihat struktur data\n",
        "print(df.head())\n"
      ],
      "metadata": {
        "colab": {
          "base_uri": "https://localhost:8080/"
        },
        "id": "TLC-BjpCHlIB",
        "outputId": "db32c843-1570-4a47-d4d8-ebbbe51e5718"
      },
      "execution_count": 73,
      "outputs": [
        {
          "output_type": "stream",
          "name": "stdout",
          "text": [
            "   fixed acidity  volatile acidity  citric acid  residual sugar  chlorides  \\\n",
            "0            7.0              0.27         0.36            20.7      0.045   \n",
            "1            6.3              0.30         0.34             1.6      0.049   \n",
            "2            8.1              0.28         0.40             6.9      0.050   \n",
            "3            7.2              0.23         0.32             8.5      0.058   \n",
            "4            7.2              0.23         0.32             8.5      0.058   \n",
            "\n",
            "   free sulfur dioxide  total sulfur dioxide  density    pH  sulphates  \\\n",
            "0                 45.0                 170.0   1.0010  3.00       0.45   \n",
            "1                 14.0                 132.0   0.9940  3.30       0.49   \n",
            "2                 30.0                  97.0   0.9951  3.26       0.44   \n",
            "3                 47.0                 186.0   0.9956  3.19       0.40   \n",
            "4                 47.0                 186.0   0.9956  3.19       0.40   \n",
            "\n",
            "   alcohol  quality  \n",
            "0      8.8        6  \n",
            "1      9.5        6  \n",
            "2     10.1        6  \n",
            "3      9.9        6  \n",
            "4      9.9        6  \n"
          ]
        }
      ]
    },
    {
      "cell_type": "markdown",
      "source": [
        "* head() digunakan untuk menampilkan 5 baris pertama dari dataset sehingga Anda dapat memverifikasi struktur data."
      ],
      "metadata": {
        "id": "Tg3fNbMSP9ai"
      }
    },
    {
      "cell_type": "code",
      "source": [
        "print(df.columns)"
      ],
      "metadata": {
        "colab": {
          "base_uri": "https://localhost:8080/"
        },
        "id": "8NWa5xp8H9zS",
        "outputId": "b405908f-fbb1-4f9e-d797-2d5a810ae069"
      },
      "execution_count": 74,
      "outputs": [
        {
          "output_type": "stream",
          "name": "stdout",
          "text": [
            "Index(['fixed acidity', 'volatile acidity', 'citric acid', 'residual sugar',\n",
            "       'chlorides', 'free sulfur dioxide', 'total sulfur dioxide', 'density',\n",
            "       'pH', 'sulphates', 'alcohol', 'quality'],\n",
            "      dtype='object')\n"
          ]
        }
      ]
    },
    {
      "cell_type": "markdown",
      "source": [
        "* df.columns digunakan untuk menampilkan nama-nama kolom dalam dataset untuk memastikan bahwa nama kolom sudah benar."
      ],
      "metadata": {
        "id": "RavRfQMkH150"
      }
    },
    {
      "cell_type": "markdown",
      "source": [
        "**Langkah 2: Preprocessing Data**"
      ],
      "metadata": {
        "id": "b4scDw3BJpzC"
      }
    },
    {
      "cell_type": "code",
      "source": [
        "# Memisahkan nama kolom berdasarkan titik koma dan menghapus spasi ekstra\n",
        "df.columns = df.columns.str.split(';').str[0]  # Ini akan memperbaiki nama kolom\n"
      ],
      "metadata": {
        "id": "ypUwx9lTJbEP"
      },
      "execution_count": 75,
      "outputs": []
    },
    {
      "cell_type": "markdown",
      "source": [
        "* Ini akan memperbaiki nama kolom yang mungkin mengandung karakter aneh atau spasi ekstra setelah pemisahan menggunakan ;. Dengan .str.split(';').str[0], kita memastikan hanya nama kolom yang relevan yang diambil."
      ],
      "metadata": {
        "id": "I5wnf_3YQKa3"
      }
    },
    {
      "cell_type": "code",
      "source": [
        "# Memisahkan fitur (X) dan target (y)\n",
        "X = df.drop(columns=['volatile acidity'])  # Sesuaikan dengan kolom target di dataset\n",
        "y = df['volatile acidity']  # Sesuaikan dengan kolom target di dataset"
      ],
      "metadata": {
        "id": "Eu8kj_GwHnhu"
      },
      "execution_count": 76,
      "outputs": []
    },
    {
      "cell_type": "markdown",
      "source": [
        "* Fitur (X) adalah semua kolom selain target (y). Dalam hal ini, volatile acidity adalah target yang ingin diprediksi oleh model, sehingga X adalah data yang akan digunakan untuk prediksi, dan y adalah nilai target."
      ],
      "metadata": {
        "id": "y766j4zyQO2K"
      }
    },
    {
      "cell_type": "code",
      "source": [
        "# Menampilkan distribusi kelas pada target\n",
        "unique, counts = np.unique(y, return_counts=True)\n",
        "print(\"Distribusi Kelas pada Target:\", dict(zip(unique, counts)))"
      ],
      "metadata": {
        "colab": {
          "base_uri": "https://localhost:8080/"
        },
        "id": "WnEtommfJkyu",
        "outputId": "6e5b4ab1-e127-41f1-9fab-8391dfe2bd9b"
      },
      "execution_count": 77,
      "outputs": [
        {
          "output_type": "stream",
          "name": "stdout",
          "text": [
            "Distribusi Kelas pada Target: {0.08: 4, 0.085: 1, 0.09: 1, 0.1: 6, 0.105: 6, 0.11: 13, 0.115: 3, 0.12: 34, 0.125: 3, 0.13: 44, 0.135: 1, 0.14: 56, 0.145: 4, 0.15: 88, 0.155: 5, 0.16: 141, 0.165: 2, 0.17: 140, 0.175: 1, 0.18: 177, 0.185: 5, 0.19: 170, 0.2: 214, 0.205: 4, 0.21: 191, 0.215: 1, 0.22: 229, 0.225: 4, 0.23: 216, 0.235: 4, 0.24: 253, 0.245: 4, 0.25: 231, 0.255: 10, 0.26: 240, 0.265: 5, 0.27: 218, 0.275: 3, 0.28: 263, 0.285: 5, 0.29: 160, 0.295: 3, 0.3: 198, 0.305: 4, 0.31: 148, 0.315: 4, 0.32: 182, 0.325: 2, 0.33: 134, 0.335: 7, 0.34: 135, 0.345: 9, 0.35: 86, 0.355: 1, 0.36: 104, 0.365: 2, 0.37: 65, 0.375: 2, 0.38: 63, 0.385: 2, 0.39: 61, 0.395: 2, 0.4: 59, 0.405: 1, 0.41: 54, 0.415: 4, 0.42: 36, 0.425: 2, 0.43: 35, 0.435: 2, 0.44: 46, 0.445: 4, 0.45: 25, 0.455: 2, 0.46: 30, 0.47: 15, 0.475: 3, 0.48: 17, 0.485: 3, 0.49: 14, 0.495: 2, 0.5: 14, 0.51: 10, 0.52: 10, 0.53: 8, 0.54: 10, 0.545: 1, 0.55: 14, 0.555: 2, 0.56: 9, 0.57: 4, 0.58: 7, 0.585: 2, 0.59: 4, 0.595: 2, 0.6: 7, 0.61: 7, 0.615: 4, 0.62: 5, 0.63: 2, 0.64: 7, 0.65: 2, 0.655: 3, 0.66: 4, 0.67: 5, 0.68: 3, 0.685: 1, 0.69: 2, 0.695: 3, 0.705: 2, 0.71: 1, 0.73: 1, 0.74: 1, 0.75: 1, 0.76: 2, 0.78: 1, 0.785: 1, 0.815: 1, 0.85: 1, 0.905: 1, 0.91: 1, 0.93: 1, 0.965: 1, 1.005: 1, 1.1: 1}\n"
          ]
        }
      ]
    },
    {
      "cell_type": "markdown",
      "source": [
        "* Penjelasan:\n",
        "Di sini, distribusi kelas target ditampilkan. Jika target adalah kategori (klasifikasi), Anda akan melihat berapa banyak data yang termasuk dalam setiap kelas. Namun, karena target Anda berupa data kontinu (regresi), ini lebih berguna untuk memverifikasi nilai unik dalam target.\n",
        "\n",
        "* Insights:\n",
        "Jika target adalah variabel kontinu, Anda tidak akan melihat distribusi kelas dalam bentuk kategori, tetapi Anda akan melihat sebaran nilai target."
      ],
      "metadata": {
        "id": "Aj93KpmEQYEA"
      }
    },
    {
      "cell_type": "code",
      "source": [
        "# Memfilter kelas yang memiliki lebih dari satu contoh\n",
        "valid_classes = [cls for cls, count in zip(unique, counts) if count > 1]\n",
        "mask = np.isin(y, valid_classes)\n",
        "X_filtered = X[mask]\n",
        "y_filtered = y[mask]"
      ],
      "metadata": {
        "id": "OpHNHTKeJwWZ"
      },
      "execution_count": 78,
      "outputs": []
    },
    {
      "cell_type": "markdown",
      "source": [
        "* Digunakan untuk memfilter data yang memiliki lebih dari satu contoh dalam target. Hal ini dilakukan untuk memastikan bahwa tidak ada kelas atau nilai target yang terlalu jarang muncul, yang bisa menyebabkan masalah dalam pelatihan model."
      ],
      "metadata": {
        "id": "J1VriXHoQf3n"
      }
    },
    {
      "cell_type": "code",
      "source": [
        "# Membagi data menjadi training dan testing set\n",
        "X_train, X_test, y_train, y_test = train_test_split(X_filtered, y_filtered, test_size=0.2, random_state=42, stratify=y_filtered)"
      ],
      "metadata": {
        "id": "Z_WOBk6YJzmz"
      },
      "execution_count": 79,
      "outputs": []
    },
    {
      "cell_type": "markdown",
      "source": [
        "* Penjelasan:\n",
        "Data dibagi menjadi 80% data pelatihan dan 20% data pengujian. train_test_split memastikan data pelatihan dan pengujian terpisah, dan stratify memastikan distribusi target yang seimbang pada kedua set.\n",
        "\n",
        "* Insights:\n",
        "Stratifikasi berguna untuk dataset yang memiliki distribusi target tidak seimbang, meskipun dalam kasus regresi, ini lebih jarang digunakan."
      ],
      "metadata": {
        "id": "6JfGTyMLQkbA"
      }
    },
    {
      "cell_type": "code",
      "source": [
        "# Menampilkan informasi tentang pembagian data\n",
        "print(\"Jumlah data training:\", X_train.shape[0])\n",
        "print(\"Jumlah data testing:\", X_test.shape[0])"
      ],
      "metadata": {
        "colab": {
          "base_uri": "https://localhost:8080/"
        },
        "id": "aRikHsFWJ2pD",
        "outputId": "d0ebfb89-40c7-4b0f-fbff-c7038db5ca22"
      },
      "execution_count": 80,
      "outputs": [
        {
          "output_type": "stream",
          "name": "stdout",
          "text": [
            "Jumlah data training: 3900\n",
            "Jumlah data testing: 975\n"
          ]
        }
      ]
    },
    {
      "cell_type": "markdown",
      "source": [
        "**Langkah 3: Melatih Model XGBoost**"
      ],
      "metadata": {
        "id": "sbfefc3dJ7GB"
      }
    },
    {
      "cell_type": "code",
      "source": [
        "# Inisialisasi model XGBoost\n",
        "model = XGBClassifier(random_state=42)"
      ],
      "metadata": {
        "id": "w7HEUEFFJ4H8"
      },
      "execution_count": 81,
      "outputs": []
    },
    {
      "cell_type": "markdown",
      "source": [
        "* Model XGBoost diinisialisasi sebagai XGBRegressor karena kita melakukan tugas regres."
      ],
      "metadata": {
        "id": "4els0uoyQ8Es"
      }
    },
    {
      "cell_type": "code",
      "source": [
        "from sklearn.metrics import mean_squared_error\n",
        "\n",
        "# Evaluasi model regresi\n",
        "mse = mean_squared_error(y_test, y_pred)\n",
        "print(f\"Mean Squared Error (MSE): {mse:.2f}\")\n"
      ],
      "metadata": {
        "colab": {
          "base_uri": "https://localhost:8080/"
        },
        "id": "FHSXF9joM7N3",
        "outputId": "d3591407-7fba-4810-d9b4-d11a758c5a71"
      },
      "execution_count": 82,
      "outputs": [
        {
          "output_type": "stream",
          "name": "stdout",
          "text": [
            "Mean Squared Error (MSE): 0.00\n"
          ]
        }
      ]
    },
    {
      "cell_type": "markdown",
      "source": [
        "* Mean Squared Error (MSE) mengukur rata-rata kuadrat selisih antara nilai yang diprediksi dan nilai yang sesungguhnya. MSE lebih sensitif terhadap kesalahan besar.\n"
      ],
      "metadata": {
        "id": "8sAnJSLuRU02"
      }
    },
    {
      "cell_type": "code",
      "source": [
        "import numpy as np\n",
        "from sklearn.metrics import mean_squared_error\n",
        "\n",
        "# Evaluasi model regresi\n",
        "rmse = np.sqrt(mean_squared_error(y_test, y_pred))\n",
        "print(f\"Root Mean Squared Error (RMSE): {rmse:.2f}\")\n"
      ],
      "metadata": {
        "colab": {
          "base_uri": "https://localhost:8080/"
        },
        "id": "LI41RJtyNBFN",
        "outputId": "95fc05d4-78af-44ea-e50b-3774858dfbe8"
      },
      "execution_count": 83,
      "outputs": [
        {
          "output_type": "stream",
          "name": "stdout",
          "text": [
            "Root Mean Squared Error (RMSE): 0.06\n"
          ]
        }
      ]
    },
    {
      "cell_type": "markdown",
      "source": [
        "* Root Mean Squared Error (RMSE) adalah akar kuadrat dari MSE, memberikan satuan yang lebih mudah diinterpretasikan dan menggambarkan rata-rata kesalahan prediksi dalam satuan target.\n"
      ],
      "metadata": {
        "id": "N7ZmT7fHRacf"
      }
    },
    {
      "cell_type": "code",
      "source": [
        "from xgboost import XGBRegressor\n",
        "\n",
        "# Inisialisasi model XGBRegressor\n",
        "model = XGBRegressor()"
      ],
      "metadata": {
        "id": "qUCL1315KVXq"
      },
      "execution_count": 84,
      "outputs": []
    },
    {
      "cell_type": "markdown",
      "source": [
        "* Dasar Ilmu: XGBRegressor adalah model berbasis gradient boosting yang dirancang untuk tugas regresi. Ini bekerja dengan menggabungkan beberapa model decision tree menjadi satu model yang kuat.\n",
        "random_state=42 memastikan hasil eksperimen dapat direplikasi.\n",
        "* Insights:\n",
        "Model XGBoost telah dilatih pada data training. Sekarang siap untuk melakukan prediksi pada data testing."
      ],
      "metadata": {
        "id": "Bb-MzT_jSSry"
      }
    },
    {
      "cell_type": "code",
      "source": [
        "# Melatih model dengan data training\n",
        "model.fit(X_train, y_train)"
      ],
      "metadata": {
        "colab": {
          "base_uri": "https://localhost:8080/",
          "height": 253
        },
        "id": "vSgz6TCSJ_Ml",
        "outputId": "435eb68a-c177-453e-a65f-60b05bdd41b4"
      },
      "execution_count": 85,
      "outputs": [
        {
          "output_type": "execute_result",
          "data": {
            "text/plain": [
              "XGBRegressor(base_score=None, booster=None, callbacks=None,\n",
              "             colsample_bylevel=None, colsample_bynode=None,\n",
              "             colsample_bytree=None, device=None, early_stopping_rounds=None,\n",
              "             enable_categorical=False, eval_metric=None, feature_types=None,\n",
              "             gamma=None, grow_policy=None, importance_type=None,\n",
              "             interaction_constraints=None, learning_rate=None, max_bin=None,\n",
              "             max_cat_threshold=None, max_cat_to_onehot=None,\n",
              "             max_delta_step=None, max_depth=None, max_leaves=None,\n",
              "             min_child_weight=None, missing=nan, monotone_constraints=None,\n",
              "             multi_strategy=None, n_estimators=None, n_jobs=None,\n",
              "             num_parallel_tree=None, random_state=None, ...)"
            ],
            "text/html": [
              "<style>#sk-container-id-4 {\n",
              "  /* Definition of color scheme common for light and dark mode */\n",
              "  --sklearn-color-text: black;\n",
              "  --sklearn-color-line: gray;\n",
              "  /* Definition of color scheme for unfitted estimators */\n",
              "  --sklearn-color-unfitted-level-0: #fff5e6;\n",
              "  --sklearn-color-unfitted-level-1: #f6e4d2;\n",
              "  --sklearn-color-unfitted-level-2: #ffe0b3;\n",
              "  --sklearn-color-unfitted-level-3: chocolate;\n",
              "  /* Definition of color scheme for fitted estimators */\n",
              "  --sklearn-color-fitted-level-0: #f0f8ff;\n",
              "  --sklearn-color-fitted-level-1: #d4ebff;\n",
              "  --sklearn-color-fitted-level-2: #b3dbfd;\n",
              "  --sklearn-color-fitted-level-3: cornflowerblue;\n",
              "\n",
              "  /* Specific color for light theme */\n",
              "  --sklearn-color-text-on-default-background: var(--sg-text-color, var(--theme-code-foreground, var(--jp-content-font-color1, black)));\n",
              "  --sklearn-color-background: var(--sg-background-color, var(--theme-background, var(--jp-layout-color0, white)));\n",
              "  --sklearn-color-border-box: var(--sg-text-color, var(--theme-code-foreground, var(--jp-content-font-color1, black)));\n",
              "  --sklearn-color-icon: #696969;\n",
              "\n",
              "  @media (prefers-color-scheme: dark) {\n",
              "    /* Redefinition of color scheme for dark theme */\n",
              "    --sklearn-color-text-on-default-background: var(--sg-text-color, var(--theme-code-foreground, var(--jp-content-font-color1, white)));\n",
              "    --sklearn-color-background: var(--sg-background-color, var(--theme-background, var(--jp-layout-color0, #111)));\n",
              "    --sklearn-color-border-box: var(--sg-text-color, var(--theme-code-foreground, var(--jp-content-font-color1, white)));\n",
              "    --sklearn-color-icon: #878787;\n",
              "  }\n",
              "}\n",
              "\n",
              "#sk-container-id-4 {\n",
              "  color: var(--sklearn-color-text);\n",
              "}\n",
              "\n",
              "#sk-container-id-4 pre {\n",
              "  padding: 0;\n",
              "}\n",
              "\n",
              "#sk-container-id-4 input.sk-hidden--visually {\n",
              "  border: 0;\n",
              "  clip: rect(1px 1px 1px 1px);\n",
              "  clip: rect(1px, 1px, 1px, 1px);\n",
              "  height: 1px;\n",
              "  margin: -1px;\n",
              "  overflow: hidden;\n",
              "  padding: 0;\n",
              "  position: absolute;\n",
              "  width: 1px;\n",
              "}\n",
              "\n",
              "#sk-container-id-4 div.sk-dashed-wrapped {\n",
              "  border: 1px dashed var(--sklearn-color-line);\n",
              "  margin: 0 0.4em 0.5em 0.4em;\n",
              "  box-sizing: border-box;\n",
              "  padding-bottom: 0.4em;\n",
              "  background-color: var(--sklearn-color-background);\n",
              "}\n",
              "\n",
              "#sk-container-id-4 div.sk-container {\n",
              "  /* jupyter's `normalize.less` sets `[hidden] { display: none; }`\n",
              "     but bootstrap.min.css set `[hidden] { display: none !important; }`\n",
              "     so we also need the `!important` here to be able to override the\n",
              "     default hidden behavior on the sphinx rendered scikit-learn.org.\n",
              "     See: https://github.com/scikit-learn/scikit-learn/issues/21755 */\n",
              "  display: inline-block !important;\n",
              "  position: relative;\n",
              "}\n",
              "\n",
              "#sk-container-id-4 div.sk-text-repr-fallback {\n",
              "  display: none;\n",
              "}\n",
              "\n",
              "div.sk-parallel-item,\n",
              "div.sk-serial,\n",
              "div.sk-item {\n",
              "  /* draw centered vertical line to link estimators */\n",
              "  background-image: linear-gradient(var(--sklearn-color-text-on-default-background), var(--sklearn-color-text-on-default-background));\n",
              "  background-size: 2px 100%;\n",
              "  background-repeat: no-repeat;\n",
              "  background-position: center center;\n",
              "}\n",
              "\n",
              "/* Parallel-specific style estimator block */\n",
              "\n",
              "#sk-container-id-4 div.sk-parallel-item::after {\n",
              "  content: \"\";\n",
              "  width: 100%;\n",
              "  border-bottom: 2px solid var(--sklearn-color-text-on-default-background);\n",
              "  flex-grow: 1;\n",
              "}\n",
              "\n",
              "#sk-container-id-4 div.sk-parallel {\n",
              "  display: flex;\n",
              "  align-items: stretch;\n",
              "  justify-content: center;\n",
              "  background-color: var(--sklearn-color-background);\n",
              "  position: relative;\n",
              "}\n",
              "\n",
              "#sk-container-id-4 div.sk-parallel-item {\n",
              "  display: flex;\n",
              "  flex-direction: column;\n",
              "}\n",
              "\n",
              "#sk-container-id-4 div.sk-parallel-item:first-child::after {\n",
              "  align-self: flex-end;\n",
              "  width: 50%;\n",
              "}\n",
              "\n",
              "#sk-container-id-4 div.sk-parallel-item:last-child::after {\n",
              "  align-self: flex-start;\n",
              "  width: 50%;\n",
              "}\n",
              "\n",
              "#sk-container-id-4 div.sk-parallel-item:only-child::after {\n",
              "  width: 0;\n",
              "}\n",
              "\n",
              "/* Serial-specific style estimator block */\n",
              "\n",
              "#sk-container-id-4 div.sk-serial {\n",
              "  display: flex;\n",
              "  flex-direction: column;\n",
              "  align-items: center;\n",
              "  background-color: var(--sklearn-color-background);\n",
              "  padding-right: 1em;\n",
              "  padding-left: 1em;\n",
              "}\n",
              "\n",
              "\n",
              "/* Toggleable style: style used for estimator/Pipeline/ColumnTransformer box that is\n",
              "clickable and can be expanded/collapsed.\n",
              "- Pipeline and ColumnTransformer use this feature and define the default style\n",
              "- Estimators will overwrite some part of the style using the `sk-estimator` class\n",
              "*/\n",
              "\n",
              "/* Pipeline and ColumnTransformer style (default) */\n",
              "\n",
              "#sk-container-id-4 div.sk-toggleable {\n",
              "  /* Default theme specific background. It is overwritten whether we have a\n",
              "  specific estimator or a Pipeline/ColumnTransformer */\n",
              "  background-color: var(--sklearn-color-background);\n",
              "}\n",
              "\n",
              "/* Toggleable label */\n",
              "#sk-container-id-4 label.sk-toggleable__label {\n",
              "  cursor: pointer;\n",
              "  display: block;\n",
              "  width: 100%;\n",
              "  margin-bottom: 0;\n",
              "  padding: 0.5em;\n",
              "  box-sizing: border-box;\n",
              "  text-align: center;\n",
              "}\n",
              "\n",
              "#sk-container-id-4 label.sk-toggleable__label-arrow:before {\n",
              "  /* Arrow on the left of the label */\n",
              "  content: \"▸\";\n",
              "  float: left;\n",
              "  margin-right: 0.25em;\n",
              "  color: var(--sklearn-color-icon);\n",
              "}\n",
              "\n",
              "#sk-container-id-4 label.sk-toggleable__label-arrow:hover:before {\n",
              "  color: var(--sklearn-color-text);\n",
              "}\n",
              "\n",
              "/* Toggleable content - dropdown */\n",
              "\n",
              "#sk-container-id-4 div.sk-toggleable__content {\n",
              "  max-height: 0;\n",
              "  max-width: 0;\n",
              "  overflow: hidden;\n",
              "  text-align: left;\n",
              "  /* unfitted */\n",
              "  background-color: var(--sklearn-color-unfitted-level-0);\n",
              "}\n",
              "\n",
              "#sk-container-id-4 div.sk-toggleable__content.fitted {\n",
              "  /* fitted */\n",
              "  background-color: var(--sklearn-color-fitted-level-0);\n",
              "}\n",
              "\n",
              "#sk-container-id-4 div.sk-toggleable__content pre {\n",
              "  margin: 0.2em;\n",
              "  border-radius: 0.25em;\n",
              "  color: var(--sklearn-color-text);\n",
              "  /* unfitted */\n",
              "  background-color: var(--sklearn-color-unfitted-level-0);\n",
              "}\n",
              "\n",
              "#sk-container-id-4 div.sk-toggleable__content.fitted pre {\n",
              "  /* unfitted */\n",
              "  background-color: var(--sklearn-color-fitted-level-0);\n",
              "}\n",
              "\n",
              "#sk-container-id-4 input.sk-toggleable__control:checked~div.sk-toggleable__content {\n",
              "  /* Expand drop-down */\n",
              "  max-height: 200px;\n",
              "  max-width: 100%;\n",
              "  overflow: auto;\n",
              "}\n",
              "\n",
              "#sk-container-id-4 input.sk-toggleable__control:checked~label.sk-toggleable__label-arrow:before {\n",
              "  content: \"▾\";\n",
              "}\n",
              "\n",
              "/* Pipeline/ColumnTransformer-specific style */\n",
              "\n",
              "#sk-container-id-4 div.sk-label input.sk-toggleable__control:checked~label.sk-toggleable__label {\n",
              "  color: var(--sklearn-color-text);\n",
              "  background-color: var(--sklearn-color-unfitted-level-2);\n",
              "}\n",
              "\n",
              "#sk-container-id-4 div.sk-label.fitted input.sk-toggleable__control:checked~label.sk-toggleable__label {\n",
              "  background-color: var(--sklearn-color-fitted-level-2);\n",
              "}\n",
              "\n",
              "/* Estimator-specific style */\n",
              "\n",
              "/* Colorize estimator box */\n",
              "#sk-container-id-4 div.sk-estimator input.sk-toggleable__control:checked~label.sk-toggleable__label {\n",
              "  /* unfitted */\n",
              "  background-color: var(--sklearn-color-unfitted-level-2);\n",
              "}\n",
              "\n",
              "#sk-container-id-4 div.sk-estimator.fitted input.sk-toggleable__control:checked~label.sk-toggleable__label {\n",
              "  /* fitted */\n",
              "  background-color: var(--sklearn-color-fitted-level-2);\n",
              "}\n",
              "\n",
              "#sk-container-id-4 div.sk-label label.sk-toggleable__label,\n",
              "#sk-container-id-4 div.sk-label label {\n",
              "  /* The background is the default theme color */\n",
              "  color: var(--sklearn-color-text-on-default-background);\n",
              "}\n",
              "\n",
              "/* On hover, darken the color of the background */\n",
              "#sk-container-id-4 div.sk-label:hover label.sk-toggleable__label {\n",
              "  color: var(--sklearn-color-text);\n",
              "  background-color: var(--sklearn-color-unfitted-level-2);\n",
              "}\n",
              "\n",
              "/* Label box, darken color on hover, fitted */\n",
              "#sk-container-id-4 div.sk-label.fitted:hover label.sk-toggleable__label.fitted {\n",
              "  color: var(--sklearn-color-text);\n",
              "  background-color: var(--sklearn-color-fitted-level-2);\n",
              "}\n",
              "\n",
              "/* Estimator label */\n",
              "\n",
              "#sk-container-id-4 div.sk-label label {\n",
              "  font-family: monospace;\n",
              "  font-weight: bold;\n",
              "  display: inline-block;\n",
              "  line-height: 1.2em;\n",
              "}\n",
              "\n",
              "#sk-container-id-4 div.sk-label-container {\n",
              "  text-align: center;\n",
              "}\n",
              "\n",
              "/* Estimator-specific */\n",
              "#sk-container-id-4 div.sk-estimator {\n",
              "  font-family: monospace;\n",
              "  border: 1px dotted var(--sklearn-color-border-box);\n",
              "  border-radius: 0.25em;\n",
              "  box-sizing: border-box;\n",
              "  margin-bottom: 0.5em;\n",
              "  /* unfitted */\n",
              "  background-color: var(--sklearn-color-unfitted-level-0);\n",
              "}\n",
              "\n",
              "#sk-container-id-4 div.sk-estimator.fitted {\n",
              "  /* fitted */\n",
              "  background-color: var(--sklearn-color-fitted-level-0);\n",
              "}\n",
              "\n",
              "/* on hover */\n",
              "#sk-container-id-4 div.sk-estimator:hover {\n",
              "  /* unfitted */\n",
              "  background-color: var(--sklearn-color-unfitted-level-2);\n",
              "}\n",
              "\n",
              "#sk-container-id-4 div.sk-estimator.fitted:hover {\n",
              "  /* fitted */\n",
              "  background-color: var(--sklearn-color-fitted-level-2);\n",
              "}\n",
              "\n",
              "/* Specification for estimator info (e.g. \"i\" and \"?\") */\n",
              "\n",
              "/* Common style for \"i\" and \"?\" */\n",
              "\n",
              ".sk-estimator-doc-link,\n",
              "a:link.sk-estimator-doc-link,\n",
              "a:visited.sk-estimator-doc-link {\n",
              "  float: right;\n",
              "  font-size: smaller;\n",
              "  line-height: 1em;\n",
              "  font-family: monospace;\n",
              "  background-color: var(--sklearn-color-background);\n",
              "  border-radius: 1em;\n",
              "  height: 1em;\n",
              "  width: 1em;\n",
              "  text-decoration: none !important;\n",
              "  margin-left: 1ex;\n",
              "  /* unfitted */\n",
              "  border: var(--sklearn-color-unfitted-level-1) 1pt solid;\n",
              "  color: var(--sklearn-color-unfitted-level-1);\n",
              "}\n",
              "\n",
              ".sk-estimator-doc-link.fitted,\n",
              "a:link.sk-estimator-doc-link.fitted,\n",
              "a:visited.sk-estimator-doc-link.fitted {\n",
              "  /* fitted */\n",
              "  border: var(--sklearn-color-fitted-level-1) 1pt solid;\n",
              "  color: var(--sklearn-color-fitted-level-1);\n",
              "}\n",
              "\n",
              "/* On hover */\n",
              "div.sk-estimator:hover .sk-estimator-doc-link:hover,\n",
              ".sk-estimator-doc-link:hover,\n",
              "div.sk-label-container:hover .sk-estimator-doc-link:hover,\n",
              ".sk-estimator-doc-link:hover {\n",
              "  /* unfitted */\n",
              "  background-color: var(--sklearn-color-unfitted-level-3);\n",
              "  color: var(--sklearn-color-background);\n",
              "  text-decoration: none;\n",
              "}\n",
              "\n",
              "div.sk-estimator.fitted:hover .sk-estimator-doc-link.fitted:hover,\n",
              ".sk-estimator-doc-link.fitted:hover,\n",
              "div.sk-label-container:hover .sk-estimator-doc-link.fitted:hover,\n",
              ".sk-estimator-doc-link.fitted:hover {\n",
              "  /* fitted */\n",
              "  background-color: var(--sklearn-color-fitted-level-3);\n",
              "  color: var(--sklearn-color-background);\n",
              "  text-decoration: none;\n",
              "}\n",
              "\n",
              "/* Span, style for the box shown on hovering the info icon */\n",
              ".sk-estimator-doc-link span {\n",
              "  display: none;\n",
              "  z-index: 9999;\n",
              "  position: relative;\n",
              "  font-weight: normal;\n",
              "  right: .2ex;\n",
              "  padding: .5ex;\n",
              "  margin: .5ex;\n",
              "  width: min-content;\n",
              "  min-width: 20ex;\n",
              "  max-width: 50ex;\n",
              "  color: var(--sklearn-color-text);\n",
              "  box-shadow: 2pt 2pt 4pt #999;\n",
              "  /* unfitted */\n",
              "  background: var(--sklearn-color-unfitted-level-0);\n",
              "  border: .5pt solid var(--sklearn-color-unfitted-level-3);\n",
              "}\n",
              "\n",
              ".sk-estimator-doc-link.fitted span {\n",
              "  /* fitted */\n",
              "  background: var(--sklearn-color-fitted-level-0);\n",
              "  border: var(--sklearn-color-fitted-level-3);\n",
              "}\n",
              "\n",
              ".sk-estimator-doc-link:hover span {\n",
              "  display: block;\n",
              "}\n",
              "\n",
              "/* \"?\"-specific style due to the `<a>` HTML tag */\n",
              "\n",
              "#sk-container-id-4 a.estimator_doc_link {\n",
              "  float: right;\n",
              "  font-size: 1rem;\n",
              "  line-height: 1em;\n",
              "  font-family: monospace;\n",
              "  background-color: var(--sklearn-color-background);\n",
              "  border-radius: 1rem;\n",
              "  height: 1rem;\n",
              "  width: 1rem;\n",
              "  text-decoration: none;\n",
              "  /* unfitted */\n",
              "  color: var(--sklearn-color-unfitted-level-1);\n",
              "  border: var(--sklearn-color-unfitted-level-1) 1pt solid;\n",
              "}\n",
              "\n",
              "#sk-container-id-4 a.estimator_doc_link.fitted {\n",
              "  /* fitted */\n",
              "  border: var(--sklearn-color-fitted-level-1) 1pt solid;\n",
              "  color: var(--sklearn-color-fitted-level-1);\n",
              "}\n",
              "\n",
              "/* On hover */\n",
              "#sk-container-id-4 a.estimator_doc_link:hover {\n",
              "  /* unfitted */\n",
              "  background-color: var(--sklearn-color-unfitted-level-3);\n",
              "  color: var(--sklearn-color-background);\n",
              "  text-decoration: none;\n",
              "}\n",
              "\n",
              "#sk-container-id-4 a.estimator_doc_link.fitted:hover {\n",
              "  /* fitted */\n",
              "  background-color: var(--sklearn-color-fitted-level-3);\n",
              "}\n",
              "</style><div id=\"sk-container-id-4\" class=\"sk-top-container\"><div class=\"sk-text-repr-fallback\"><pre>XGBRegressor(base_score=None, booster=None, callbacks=None,\n",
              "             colsample_bylevel=None, colsample_bynode=None,\n",
              "             colsample_bytree=None, device=None, early_stopping_rounds=None,\n",
              "             enable_categorical=False, eval_metric=None, feature_types=None,\n",
              "             gamma=None, grow_policy=None, importance_type=None,\n",
              "             interaction_constraints=None, learning_rate=None, max_bin=None,\n",
              "             max_cat_threshold=None, max_cat_to_onehot=None,\n",
              "             max_delta_step=None, max_depth=None, max_leaves=None,\n",
              "             min_child_weight=None, missing=nan, monotone_constraints=None,\n",
              "             multi_strategy=None, n_estimators=None, n_jobs=None,\n",
              "             num_parallel_tree=None, random_state=None, ...)</pre><b>In a Jupyter environment, please rerun this cell to show the HTML representation or trust the notebook. <br />On GitHub, the HTML representation is unable to render, please try loading this page with nbviewer.org.</b></div><div class=\"sk-container\" hidden><div class=\"sk-item\"><div class=\"sk-estimator fitted sk-toggleable\"><input class=\"sk-toggleable__control sk-hidden--visually\" id=\"sk-estimator-id-4\" type=\"checkbox\" checked><label for=\"sk-estimator-id-4\" class=\"sk-toggleable__label fitted sk-toggleable__label-arrow fitted\">&nbsp;XGBRegressor<span class=\"sk-estimator-doc-link fitted\">i<span>Fitted</span></span></label><div class=\"sk-toggleable__content fitted\"><pre>XGBRegressor(base_score=None, booster=None, callbacks=None,\n",
              "             colsample_bylevel=None, colsample_bynode=None,\n",
              "             colsample_bytree=None, device=None, early_stopping_rounds=None,\n",
              "             enable_categorical=False, eval_metric=None, feature_types=None,\n",
              "             gamma=None, grow_policy=None, importance_type=None,\n",
              "             interaction_constraints=None, learning_rate=None, max_bin=None,\n",
              "             max_cat_threshold=None, max_cat_to_onehot=None,\n",
              "             max_delta_step=None, max_depth=None, max_leaves=None,\n",
              "             min_child_weight=None, missing=nan, monotone_constraints=None,\n",
              "             multi_strategy=None, n_estimators=None, n_jobs=None,\n",
              "             num_parallel_tree=None, random_state=None, ...)</pre></div> </div></div></div></div>"
            ]
          },
          "metadata": {},
          "execution_count": 85
        }
      ]
    },
    {
      "cell_type": "markdown",
      "source": [
        "* Model XGBoost diinisialisasi sebagai XGBRegressor dilatih menggunakan data pelatihan."
      ],
      "metadata": {
        "id": "jEzpLeBORKJP"
      }
    },
    {
      "cell_type": "code",
      "source": [
        "\n",
        "# Prediksi dengan data testing\n",
        "y_pred = model.predict(X_test)"
      ],
      "metadata": {
        "id": "QDn0dCLGKbzr"
      },
      "execution_count": 86,
      "outputs": []
    },
    {
      "cell_type": "code",
      "source": [
        "# Evaluasi model\n",
        "rmse = np.sqrt(mean_squared_error(y_test, y_pred))\n",
        "print(f\"Root Mean Squared Error (RMSE): {rmse:.2f}\")"
      ],
      "metadata": {
        "colab": {
          "base_uri": "https://localhost:8080/"
        },
        "id": "PnD5XjmOK7dJ",
        "outputId": "545acc3b-68a1-4611-c86d-b10fde2b5530"
      },
      "execution_count": 87,
      "outputs": [
        {
          "output_type": "stream",
          "name": "stdout",
          "text": [
            "Root Mean Squared Error (RMSE): 0.06\n"
          ]
        }
      ]
    },
    {
      "cell_type": "markdown",
      "source": [
        "* Dasar Ilmu:\n",
        "RMSE adalah metrik evaluasi untuk model regresi, menunjukkan rata-rata kesalahan prediksi dalam satuan yang sama dengan target.\n",
        "* Insights:\n",
        "Jika RMSE rendah, model memberikan prediksi yang mendekati nilai sebenarnya. Nilai RMSE memberikan ukuran langsung dari kesalahan prediksi dalam data."
      ],
      "metadata": {
        "id": "5Zg_23lWSq72"
      }
    },
    {
      "cell_type": "markdown",
      "source": [
        "**Langkah 4: Visualisasi Feature Importance**"
      ],
      "metadata": {
        "id": "BuouFZESNTFJ"
      }
    },
    {
      "cell_type": "code",
      "source": [
        "# Visualisasi Feature Importance\n",
        "plt.figure(figsize=(10, 6))\n",
        "plt.barh(X.columns, model.feature_importances_)\n",
        "plt.xlabel(\"Feature Importance\")\n",
        "plt.title(\"Visualisasi Feature Importance\")\n",
        "plt.show()\n"
      ],
      "metadata": {
        "colab": {
          "base_uri": "https://localhost:8080/",
          "height": 564
        },
        "id": "YbNsFG8nNOAQ",
        "outputId": "ebd72231-75f7-4dd8-ef44-a2864561833a"
      },
      "execution_count": 88,
      "outputs": [
        {
          "output_type": "display_data",
          "data": {
            "text/plain": [
              "<Figure size 1000x600 with 1 Axes>"
            ],
            "image/png": "[encoded data removed]"
          },
          "metadata": {}
        }
      ]
    },
    {
      "cell_type": "markdown",
      "source": [
        "* Dasar Ilmu:\n",
        "Feature Importance menunjukkan seberapa besar pengaruh setiap fitur terhadap prediksi model. Nilai ini dihitung berdasarkan peningkatan akurasi model setiap kali fitur tersebut digunakan dalam pembuatan tree.\n",
        "* Insights:\n",
        "\n",
        "1. Fitur dengan nilai importance tinggi memiliki kontribusi besar terhadap prediksi model.\n",
        "2. Anda dapat mengidentifikasi fitur mana yang paling relevan dalam dataset."
      ],
      "metadata": {
        "id": "V4oMPDpCSw9f"
      }
    },
    {
      "cell_type": "markdown",
      "source": [
        "**Langkah 5: Visualisasi Struktur Pohon (Tree Structure)**"
      ],
      "metadata": {
        "id": "5YPdgIbFNZc0"
      }
    },
    {
      "cell_type": "code",
      "source": [
        "# Visualisasi struktur pohon pertama dari model XGBoost\n",
        "from xgboost import plot_tree\n",
        "\n",
        "# Plot pohon pertama\n",
        "plt.figure(figsize=(20, 10))\n",
        "plot_tree(model, num_trees=0)\n",
        "plt.title(\"Struktur Pohon Model XGBoost\")\n",
        "plt.show()\n"
      ],
      "metadata": {
        "colab": {
          "base_uri": "https://localhost:8080/",
          "height": 107
        },
        "id": "O8jpQcnKNW15",
        "outputId": "bab13b22-13d4-4c07-d9fe-c06495e2cb9a"
      },
      "execution_count": 89,
      "outputs": [
        {
          "output_type": "display_data",
          "data": {
            "text/plain": [
              "<Figure size 2000x1000 with 0 Axes>"
            ]
          },
          "metadata": {}
        },
        {
          "output_type": "display_data",
          "data": {
            "text/plain": [
              "<Figure size 640x480 with 1 Axes>"
            ],
            "image/png": "[encoded data removed]"
          },
          "metadata": {}
        }
      ]
    },
    {
      "cell_type": "markdown",
      "source": [
        "* Visualisasi pohon keputusan untuk memahami bagaimana model mengambil keputusan."
      ],
      "metadata": {
        "id": "G-N_gEOqNeSu"
      }
    },
    {
      "cell_type": "markdown",
      "source": [
        "**Langkah 6: Learning Curve**"
      ],
      "metadata": {
        "id": "sUAeCEhlNlup"
      }
    },
    {
      "cell_type": "code",
      "source": [
        "# Learning curve untuk model XGBoost\n",
        "results = model.get_booster().get_dump()[0]  # Menampilkan dump pertama\n",
        "print(\"Hasil dari Learning Curve:\", results)\n"
      ],
      "metadata": {
        "colab": {
          "base_uri": "https://localhost:8080/"
        },
        "id": "tv4lCWN4Nkl_",
        "outputId": "2aa52543-78cc-4f1d-c97c-89b331a3661d"
      },
      "execution_count": 90,
      "outputs": [
        {
          "output_type": "stream",
          "name": "stdout",
          "text": [
            "Hasil dari Learning Curve: 0:[citric acid<0.159999996] yes=1,no=2,missing=2\n",
            "\t1:[citric acid<0.100000001] yes=3,no=4,missing=4\n",
            "\t\t3:[pH<3.3499999] yes=7,no=8,missing=8\n",
            "\t\t\t7:[free sulfur dioxide<37] yes=15,no=16,missing=16\n",
            "\t\t\t\t15:[chlorides<0.0460000001] yes=31,no=32,missing=32\n",
            "\t\t\t\t\t31:[pH<3.1500001] yes=61,no=62,missing=62\n",
            "\t\t\t\t\t\t61:leaf=0.0488109924\n",
            "\t\t\t\t\t\t62:leaf=0.0946436003\n",
            "\t\t\t\t\t32:[quality<5] yes=63,no=64,missing=64\n",
            "\t\t\t\t\t\t63:leaf=0.0823569298\n",
            "\t\t\t\t\t\t64:leaf=0.0357692353\n",
            "\t\t\t\t16:[sulphates<0.360000014] yes=33,no=34,missing=34\n",
            "\t\t\t\t\t33:leaf=0.0572884679\n",
            "\t\t\t\t\t34:[residual sugar<6.5] yes=65,no=66,missing=66\n",
            "\t\t\t\t\t\t65:leaf=0.00795692671\n",
            "\t\t\t\t\t\t66:leaf=0.000473079097\n",
            "\t\t\t8:[chlorides<0.0419999994] yes=17,no=18,missing=18\n",
            "\t\t\t\t17:[free sulfur dioxide<21] yes=35,no=36,missing=36\n",
            "\t\t\t\t\t35:[citric acid<0.00999999978] yes=67,no=68,missing=68\n",
            "\t\t\t\t\t\t67:leaf=-0.00252692262\n",
            "\t\t\t\t\t\t68:leaf=0.00445961766\n",
            "\t\t\t\t\t36:[total sulfur dioxide<129] yes=69,no=70,missing=70\n",
            "\t\t\t\t\t\t69:leaf=0.0411743633\n",
            "\t\t\t\t\t\t70:leaf=0.0153346211\n",
            "\t\t\t\t18:[free sulfur dioxide<8] yes=37,no=38,missing=38\n",
            "\t\t\t\t\t37:leaf=0.0177230816\n",
            "\t\t\t\t\t38:leaf=0.0694569275\n",
            "\t\t4:[pH<3.30999994] yes=9,no=10,missing=10\n",
            "\t\t\t9:[fixed acidity<7] yes=19,no=20,missing=20\n",
            "\t\t\t\t19:[density<0.996039987] yes=39,no=40,missing=40\n",
            "\t\t\t\t\t39:[pH<3.05999994] yes=71,no=72,missing=72\n",
            "\t\t\t\t\t\t71:leaf=-0.0148430737\n",
            "\t\t\t\t\t\t72:leaf=0.0123291546\n",
            "\t\t\t\t\t40:[fixed acidity<6.5999999] yes=73,no=74,missing=74\n",
            "\t\t\t\t\t\t73:leaf=0.0151569275\n",
            "\t\t\t\t\t\t74:leaf=0.0532096215\n",
            "\t\t\t\t20:[chlorides<0.0439999998] yes=41,no=42,missing=42\n",
            "\t\t\t\t\t41:[fixed acidity<7.30000019] yes=75,no=76,missing=76\n",
            "\t\t\t\t\t\t75:leaf=0.0202096216\n",
            "\t\t\t\t\t\t76:leaf=-0.00402692147\n",
            "\t\t\t\t\t42:[sulphates<0.439999998] yes=77,no=78,missing=78\n",
            "\t\t\t\t\t\t77:leaf=0.0310153905\n",
            "\t\t\t\t\t\t78:leaf=0.0869596228\n",
            "\t\t\t10:[free sulfur dioxide<35.5] yes=21,no=22,missing=22\n",
            "\t\t\t\t21:[density<0.990040004] yes=43,no=44,missing=44\n",
            "\t\t\t\t\t43:[residual sugar<1.79999995] yes=79,no=80,missing=80\n",
            "\t\t\t\t\t\t79:leaf=0.00422308035\n",
            "\t\t\t\t\t\t80:leaf=0.0412096232\n",
            "\t\t\t\t\t44:leaf=0.0649493262\n",
            "\t\t\t\t22:leaf=0.0130846212\n",
            "\t2:[quality<6] yes=5,no=6,missing=6\n",
            "\t\t5:[chlorides<0.0649999976] yes=11,no=12,missing=12\n",
            "\t\t\t11:[residual sugar<2] yes=23,no=24,missing=24\n",
            "\t\t\t\t23:[quality<5] yes=45,no=46,missing=46\n",
            "\t\t\t\t\t45:[fixed acidity<7.69999981] yes=81,no=82,missing=82\n",
            "\t\t\t\t\t\t81:leaf=0.0216253139\n",
            "\t\t\t\t\t\t82:leaf=-0.000939739752\n",
            "\t\t\t\t\t46:[total sulfur dioxide<165] yes=83,no=84,missing=84\n",
            "\t\t\t\t\t\t83:leaf=-0.00820272882\n",
            "\t\t\t\t\t\t84:leaf=0.00807531737\n",
            "\t\t\t\t24:[total sulfur dioxide<232] yes=47,no=48,missing=48\n",
            "\t\t\t\t\t47:[free sulfur dioxide<19.5] yes=85,no=86,missing=86\n",
            "\t\t\t\t\t\t85:leaf=0.0162281245\n",
            "\t\t\t\t\t\t86:leaf=0.00444858568\n",
            "\t\t\t\t\t48:[residual sugar<7.5999999] yes=87,no=88,missing=88\n",
            "\t\t\t\t\t\t87:leaf=-0.00334845646\n",
            "\t\t\t\t\t\t88:leaf=0.0376888961\n",
            "\t\t\t12:[density<0.996399999] yes=25,no=26,missing=26\n",
            "\t\t\t\t25:[density<0.995859981] yes=49,no=50,missing=50\n",
            "\t\t\t\t\t49:[sulphates<0.629999995] yes=89,no=90,missing=90\n",
            "\t\t\t\t\t\t89:leaf=0.0180763975\n",
            "\t\t\t\t\t\t90:leaf=-0.0090461513\n",
            "\t\t\t\t\t50:leaf=-0.0142430747\n",
            "\t\t\t\t26:[residual sugar<14.1999998] yes=51,no=52,missing=52\n",
            "\t\t\t\t\t51:[free sulfur dioxide<42.5] yes=91,no=92,missing=92\n",
            "\t\t\t\t\t\t91:leaf=0.0627683178\n",
            "\t\t\t\t\t\t92:leaf=0.0192434415\n",
            "\t\t\t\t\t52:[free sulfur dioxide<54] yes=93,no=94,missing=94\n",
            "\t\t\t\t\t\t93:leaf=-0.00488268957\n",
            "\t\t\t\t\t\t94:leaf=0.0322096199\n",
            "\t\t6:[alcohol<12.1999998] yes=13,no=14,missing=14\n",
            "\t\t\t13:[residual sugar<1.79999995] yes=27,no=28,missing=28\n",
            "\t\t\t\t27:[free sulfur dioxide<11] yes=53,no=54,missing=54\n",
            "\t\t\t\t\t53:[sulphates<0.449999988] yes=95,no=96,missing=96\n",
            "\t\t\t\t\t\t95:leaf=0.0188601464\n",
            "\t\t\t\t\t\t96:leaf=-0.00813985616\n",
            "\t\t\t\t\t54:[chlorides<0.137999997] yes=97,no=98,missing=98\n",
            "\t\t\t\t\t\t97:leaf=-0.0185953155\n",
            "\t\t\t\t\t\t98:leaf=0.000699523196\n",
            "\t\t\t\t28:[alcohol<11.0666666] yes=55,no=56,missing=56\n",
            "\t\t\t\t\t55:[quality<7] yes=99,no=100,missing=100\n",
            "\t\t\t\t\t\t99:leaf=-0.00698585389\n",
            "\t\t\t\t\t\t100:leaf=-0.0185712278\n",
            "\t\t\t\t\t56:[density<0.994799972] yes=101,no=102,missing=102\n",
            "\t\t\t\t\t\t101:leaf=-0.00247012661\n",
            "\t\t\t\t\t\t102:leaf=0.0280354563\n",
            "\t\t\t14:[residual sugar<2.5999999] yes=29,no=30,missing=30\n",
            "\t\t\t\t29:[citric acid<0.25] yes=57,no=58,missing=58\n",
            "\t\t\t\t\t57:[sulphates<0.600000024] yes=103,no=104,missing=104\n",
            "\t\t\t\t\t\t103:leaf=0.0107647823\n",
            "\t\t\t\t\t\t104:leaf=0.0498824231\n",
            "\t\t\t\t\t58:[alcohol<12.6000004] yes=105,no=106,missing=106\n",
            "\t\t\t\t\t\t105:leaf=-0.0075531858\n",
            "\t\t\t\t\t\t106:leaf=0.00384396059\n",
            "\t\t\t\t30:[sulphates<0.430000007] yes=59,no=60,missing=60\n",
            "\t\t\t\t\t59:[pH<3.1400001] yes=107,no=108,missing=108\n",
            "\t\t\t\t\t\t107:leaf=0.0205186848\n",
            "\t\t\t\t\t\t108:leaf=0.00323564885\n",
            "\t\t\t\t\t60:[residual sugar<9.69999981] yes=109,no=110,missing=110\n",
            "\t\t\t\t\t\t109:leaf=0.0250107106\n",
            "\t\t\t\t\t\t110:leaf=-0.00549230492\n",
            "\n"
          ]
        }
      ]
    },
    {
      "cell_type": "markdown",
      "source": [
        "* Dasar Ilmu:\n",
        "Learning Curve menunjukkan bagaimana performa model meningkat seiring bertambahnya data yang dilatih.\n",
        "Di sini, get_dump() mengembalikan representasi struktur tree yang dibangun oleh model. Struktur ini menunjukkan bagaimana model melakukan pembelajaran.\n",
        "* Insights:\n",
        "Anda dapat melihat bagaimana model membangun tree berdasarkan data dan mempelajari pola-pola penting."
      ],
      "metadata": {
        "id": "iaAtUnwHTAL5"
      }
    },
    {
      "cell_type": "markdown",
      "source": [
        "**Langkah 7: SHAP Values (Interpretasi Model)**"
      ],
      "metadata": {
        "id": "YbgdCEEFNyF_"
      }
    },
    {
      "cell_type": "code",
      "source": [
        "# Menghitung SHAP values\n",
        "explainer = shap.TreeExplainer(model)\n",
        "shap_values = explainer.shap_values(X_train)"
      ],
      "metadata": {
        "id": "tCyTgGn0Nxil"
      },
      "execution_count": 91,
      "outputs": []
    },
    {
      "cell_type": "code",
      "source": [
        "# Visualisasi SHAP summary plot\n",
        "shap.summary_plot(shap_values, X_train, plot_type=\"bar\")"
      ],
      "metadata": {
        "colab": {
          "base_uri": "https://localhost:8080/",
          "height": 597
        },
        "id": "h81h2sdWN1p_",
        "outputId": "857684bd-2cd2-42d0-e315-e5d90cf29324"
      },
      "execution_count": 92,
      "outputs": [
        {
          "output_type": "display_data",
          "data": {
            "text/plain": [
              "<Figure size 800x590 with 1 Axes>"
            ],
            "image/png": "[encoded data removed]"
          },
          "metadata": {}
        }
      ]
    },
    {
      "cell_type": "markdown",
      "source": [
        "* Dasar Ilmu:\n",
        "SHAP (SHapley Additive exPlanations) adalah metode untuk menjelaskan prediksi model. SHAP menghitung kontribusi setiap fitur terhadap hasil prediksi.\n",
        "SHAP Summary Plot: Memberikan gambaran keseluruhan bagaimana setiap fitur memengaruhi prediksi model.\n",
        "* Insights:\n",
        "Dengan visualisasi ini, Anda dapat mengetahui fitur mana yang memberikan dampak positif atau negatif terbesar terhadap prediksi.\n",
        "Fitur dengan dampak besar cenderung penting untuk dipertimbangkan dalam pengambilan keputusan."
      ],
      "metadata": {
        "id": "u5F_gf1rN8bQ"
      }
    },
    {
      "cell_type": "code",
      "source": [
        "from sklearn.inspection import PartialDependenceDisplay\n",
        "import matplotlib.pyplot as plt\n",
        "from xgboost import XGBRegressor\n",
        "\n",
        "# Melatih model (misalnya, XGBoost)\n",
        "model = XGBRegressor(random_state=42)\n",
        "model.fit(X_train, y_train)"
      ],
      "metadata": {
        "colab": {
          "base_uri": "https://localhost:8080/",
          "height": 253
        },
        "id": "KB0wVbY0N87T",
        "outputId": "9154874f-0a52-416f-d930-0932bebfff7a"
      },
      "execution_count": 93,
      "outputs": [
        {
          "output_type": "execute_result",
          "data": {
            "text/plain": [
              "XGBRegressor(base_score=None, booster=None, callbacks=None,\n",
              "             colsample_bylevel=None, colsample_bynode=None,\n",
              "             colsample_bytree=None, device=None, early_stopping_rounds=None,\n",
              "             enable_categorical=False, eval_metric=None, feature_types=None,\n",
              "             gamma=None, grow_policy=None, importance_type=None,\n",
              "             interaction_constraints=None, learning_rate=None, max_bin=None,\n",
              "             max_cat_threshold=None, max_cat_to_onehot=None,\n",
              "             max_delta_step=None, max_depth=None, max_leaves=None,\n",
              "             min_child_weight=None, missing=nan, monotone_constraints=None,\n",
              "             multi_strategy=None, n_estimators=None, n_jobs=None,\n",
              "             num_parallel_tree=None, random_state=42, ...)"
            ],
            "text/html": [
              "<style>#sk-container-id-5 {\n",
              "  /* Definition of color scheme common for light and dark mode */\n",
              "  --sklearn-color-text: black;\n",
              "  --sklearn-color-line: gray;\n",
              "  /* Definition of color scheme for unfitted estimators */\n",
              "  --sklearn-color-unfitted-level-0: #fff5e6;\n",
              "  --sklearn-color-unfitted-level-1: #f6e4d2;\n",
              "  --sklearn-color-unfitted-level-2: #ffe0b3;\n",
              "  --sklearn-color-unfitted-level-3: chocolate;\n",
              "  /* Definition of color scheme for fitted estimators */\n",
              "  --sklearn-color-fitted-level-0: #f0f8ff;\n",
              "  --sklearn-color-fitted-level-1: #d4ebff;\n",
              "  --sklearn-color-fitted-level-2: #b3dbfd;\n",
              "  --sklearn-color-fitted-level-3: cornflowerblue;\n",
              "\n",
              "  /* Specific color for light theme */\n",
              "  --sklearn-color-text-on-default-background: var(--sg-text-color, var(--theme-code-foreground, var(--jp-content-font-color1, black)));\n",
              "  --sklearn-color-background: var(--sg-background-color, var(--theme-background, var(--jp-layout-color0, white)));\n",
              "  --sklearn-color-border-box: var(--sg-text-color, var(--theme-code-foreground, var(--jp-content-font-color1, black)));\n",
              "  --sklearn-color-icon: #696969;\n",
              "\n",
              "  @media (prefers-color-scheme: dark) {\n",
              "    /* Redefinition of color scheme for dark theme */\n",
              "    --sklearn-color-text-on-default-background: var(--sg-text-color, var(--theme-code-foreground, var(--jp-content-font-color1, white)));\n",
              "    --sklearn-color-background: var(--sg-background-color, var(--theme-background, var(--jp-layout-color0, #111)));\n",
              "    --sklearn-color-border-box: var(--sg-text-color, var(--theme-code-foreground, var(--jp-content-font-color1, white)));\n",
              "    --sklearn-color-icon: #878787;\n",
              "  }\n",
              "}\n",
              "\n",
              "#sk-container-id-5 {\n",
              "  color: var(--sklearn-color-text);\n",
              "}\n",
              "\n",
              "#sk-container-id-5 pre {\n",
              "  padding: 0;\n",
              "}\n",
              "\n",
              "#sk-container-id-5 input.sk-hidden--visually {\n",
              "  border: 0;\n",
              "  clip: rect(1px 1px 1px 1px);\n",
              "  clip: rect(1px, 1px, 1px, 1px);\n",
              "  height: 1px;\n",
              "  margin: -1px;\n",
              "  overflow: hidden;\n",
              "  padding: 0;\n",
              "  position: absolute;\n",
              "  width: 1px;\n",
              "}\n",
              "\n",
              "#sk-container-id-5 div.sk-dashed-wrapped {\n",
              "  border: 1px dashed var(--sklearn-color-line);\n",
              "  margin: 0 0.4em 0.5em 0.4em;\n",
              "  box-sizing: border-box;\n",
              "  padding-bottom: 0.4em;\n",
              "  background-color: var(--sklearn-color-background);\n",
              "}\n",
              "\n",
              "#sk-container-id-5 div.sk-container {\n",
              "  /* jupyter's `normalize.less` sets `[hidden] { display: none; }`\n",
              "     but bootstrap.min.css set `[hidden] { display: none !important; }`\n",
              "     so we also need the `!important` here to be able to override the\n",
              "     default hidden behavior on the sphinx rendered scikit-learn.org.\n",
              "     See: https://github.com/scikit-learn/scikit-learn/issues/21755 */\n",
              "  display: inline-block !important;\n",
              "  position: relative;\n",
              "}\n",
              "\n",
              "#sk-container-id-5 div.sk-text-repr-fallback {\n",
              "  display: none;\n",
              "}\n",
              "\n",
              "div.sk-parallel-item,\n",
              "div.sk-serial,\n",
              "div.sk-item {\n",
              "  /* draw centered vertical line to link estimators */\n",
              "  background-image: linear-gradient(var(--sklearn-color-text-on-default-background), var(--sklearn-color-text-on-default-background));\n",
              "  background-size: 2px 100%;\n",
              "  background-repeat: no-repeat;\n",
              "  background-position: center center;\n",
              "}\n",
              "\n",
              "/* Parallel-specific style estimator block */\n",
              "\n",
              "#sk-container-id-5 div.sk-parallel-item::after {\n",
              "  content: \"\";\n",
              "  width: 100%;\n",
              "  border-bottom: 2px solid var(--sklearn-color-text-on-default-background);\n",
              "  flex-grow: 1;\n",
              "}\n",
              "\n",
              "#sk-container-id-5 div.sk-parallel {\n",
              "  display: flex;\n",
              "  align-items: stretch;\n",
              "  justify-content: center;\n",
              "  background-color: var(--sklearn-color-background);\n",
              "  position: relative;\n",
              "}\n",
              "\n",
              "#sk-container-id-5 div.sk-parallel-item {\n",
              "  display: flex;\n",
              "  flex-direction: column;\n",
              "}\n",
              "\n",
              "#sk-container-id-5 div.sk-parallel-item:first-child::after {\n",
              "  align-self: flex-end;\n",
              "  width: 50%;\n",
              "}\n",
              "\n",
              "#sk-container-id-5 div.sk-parallel-item:last-child::after {\n",
              "  align-self: flex-start;\n",
              "  width: 50%;\n",
              "}\n",
              "\n",
              "#sk-container-id-5 div.sk-parallel-item:only-child::after {\n",
              "  width: 0;\n",
              "}\n",
              "\n",
              "/* Serial-specific style estimator block */\n",
              "\n",
              "#sk-container-id-5 div.sk-serial {\n",
              "  display: flex;\n",
              "  flex-direction: column;\n",
              "  align-items: center;\n",
              "  background-color: var(--sklearn-color-background);\n",
              "  padding-right: 1em;\n",
              "  padding-left: 1em;\n",
              "}\n",
              "\n",
              "\n",
              "/* Toggleable style: style used for estimator/Pipeline/ColumnTransformer box that is\n",
              "clickable and can be expanded/collapsed.\n",
              "- Pipeline and ColumnTransformer use this feature and define the default style\n",
              "- Estimators will overwrite some part of the style using the `sk-estimator` class\n",
              "*/\n",
              "\n",
              "/* Pipeline and ColumnTransformer style (default) */\n",
              "\n",
              "#sk-container-id-5 div.sk-toggleable {\n",
              "  /* Default theme specific background. It is overwritten whether we have a\n",
              "  specific estimator or a Pipeline/ColumnTransformer */\n",
              "  background-color: var(--sklearn-color-background);\n",
              "}\n",
              "\n",
              "/* Toggleable label */\n",
              "#sk-container-id-5 label.sk-toggleable__label {\n",
              "  cursor: pointer;\n",
              "  display: block;\n",
              "  width: 100%;\n",
              "  margin-bottom: 0;\n",
              "  padding: 0.5em;\n",
              "  box-sizing: border-box;\n",
              "  text-align: center;\n",
              "}\n",
              "\n",
              "#sk-container-id-5 label.sk-toggleable__label-arrow:before {\n",
              "  /* Arrow on the left of the label */\n",
              "  content: \"▸\";\n",
              "  float: left;\n",
              "  margin-right: 0.25em;\n",
              "  color: var(--sklearn-color-icon);\n",
              "}\n",
              "\n",
              "#sk-container-id-5 label.sk-toggleable__label-arrow:hover:before {\n",
              "  color: var(--sklearn-color-text);\n",
              "}\n",
              "\n",
              "/* Toggleable content - dropdown */\n",
              "\n",
              "#sk-container-id-5 div.sk-toggleable__content {\n",
              "  max-height: 0;\n",
              "  max-width: 0;\n",
              "  overflow: hidden;\n",
              "  text-align: left;\n",
              "  /* unfitted */\n",
              "  background-color: var(--sklearn-color-unfitted-level-0);\n",
              "}\n",
              "\n",
              "#sk-container-id-5 div.sk-toggleable__content.fitted {\n",
              "  /* fitted */\n",
              "  background-color: var(--sklearn-color-fitted-level-0);\n",
              "}\n",
              "\n",
              "#sk-container-id-5 div.sk-toggleable__content pre {\n",
              "  margin: 0.2em;\n",
              "  border-radius: 0.25em;\n",
              "  color: var(--sklearn-color-text);\n",
              "  /* unfitted */\n",
              "  background-color: var(--sklearn-color-unfitted-level-0);\n",
              "}\n",
              "\n",
              "#sk-container-id-5 div.sk-toggleable__content.fitted pre {\n",
              "  /* unfitted */\n",
              "  background-color: var(--sklearn-color-fitted-level-0);\n",
              "}\n",
              "\n",
              "#sk-container-id-5 input.sk-toggleable__control:checked~div.sk-toggleable__content {\n",
              "  /* Expand drop-down */\n",
              "  max-height: 200px;\n",
              "  max-width: 100%;\n",
              "  overflow: auto;\n",
              "}\n",
              "\n",
              "#sk-container-id-5 input.sk-toggleable__control:checked~label.sk-toggleable__label-arrow:before {\n",
              "  content: \"▾\";\n",
              "}\n",
              "\n",
              "/* Pipeline/ColumnTransformer-specific style */\n",
              "\n",
              "#sk-container-id-5 div.sk-label input.sk-toggleable__control:checked~label.sk-toggleable__label {\n",
              "  color: var(--sklearn-color-text);\n",
              "  background-color: var(--sklearn-color-unfitted-level-2);\n",
              "}\n",
              "\n",
              "#sk-container-id-5 div.sk-label.fitted input.sk-toggleable__control:checked~label.sk-toggleable__label {\n",
              "  background-color: var(--sklearn-color-fitted-level-2);\n",
              "}\n",
              "\n",
              "/* Estimator-specific style */\n",
              "\n",
              "/* Colorize estimator box */\n",
              "#sk-container-id-5 div.sk-estimator input.sk-toggleable__control:checked~label.sk-toggleable__label {\n",
              "  /* unfitted */\n",
              "  background-color: var(--sklearn-color-unfitted-level-2);\n",
              "}\n",
              "\n",
              "#sk-container-id-5 div.sk-estimator.fitted input.sk-toggleable__control:checked~label.sk-toggleable__label {\n",
              "  /* fitted */\n",
              "  background-color: var(--sklearn-color-fitted-level-2);\n",
              "}\n",
              "\n",
              "#sk-container-id-5 div.sk-label label.sk-toggleable__label,\n",
              "#sk-container-id-5 div.sk-label label {\n",
              "  /* The background is the default theme color */\n",
              "  color: var(--sklearn-color-text-on-default-background);\n",
              "}\n",
              "\n",
              "/* On hover, darken the color of the background */\n",
              "#sk-container-id-5 div.sk-label:hover label.sk-toggleable__label {\n",
              "  color: var(--sklearn-color-text);\n",
              "  background-color: var(--sklearn-color-unfitted-level-2);\n",
              "}\n",
              "\n",
              "/* Label box, darken color on hover, fitted */\n",
              "#sk-container-id-5 div.sk-label.fitted:hover label.sk-toggleable__label.fitted {\n",
              "  color: var(--sklearn-color-text);\n",
              "  background-color: var(--sklearn-color-fitted-level-2);\n",
              "}\n",
              "\n",
              "/* Estimator label */\n",
              "\n",
              "#sk-container-id-5 div.sk-label label {\n",
              "  font-family: monospace;\n",
              "  font-weight: bold;\n",
              "  display: inline-block;\n",
              "  line-height: 1.2em;\n",
              "}\n",
              "\n",
              "#sk-container-id-5 div.sk-label-container {\n",
              "  text-align: center;\n",
              "}\n",
              "\n",
              "/* Estimator-specific */\n",
              "#sk-container-id-5 div.sk-estimator {\n",
              "  font-family: monospace;\n",
              "  border: 1px dotted var(--sklearn-color-border-box);\n",
              "  border-radius: 0.25em;\n",
              "  box-sizing: border-box;\n",
              "  margin-bottom: 0.5em;\n",
              "  /* unfitted */\n",
              "  background-color: var(--sklearn-color-unfitted-level-0);\n",
              "}\n",
              "\n",
              "#sk-container-id-5 div.sk-estimator.fitted {\n",
              "  /* fitted */\n",
              "  background-color: var(--sklearn-color-fitted-level-0);\n",
              "}\n",
              "\n",
              "/* on hover */\n",
              "#sk-container-id-5 div.sk-estimator:hover {\n",
              "  /* unfitted */\n",
              "  background-color: var(--sklearn-color-unfitted-level-2);\n",
              "}\n",
              "\n",
              "#sk-container-id-5 div.sk-estimator.fitted:hover {\n",
              "  /* fitted */\n",
              "  background-color: var(--sklearn-color-fitted-level-2);\n",
              "}\n",
              "\n",
              "/* Specification for estimator info (e.g. \"i\" and \"?\") */\n",
              "\n",
              "/* Common style for \"i\" and \"?\" */\n",
              "\n",
              ".sk-estimator-doc-link,\n",
              "a:link.sk-estimator-doc-link,\n",
              "a:visited.sk-estimator-doc-link {\n",
              "  float: right;\n",
              "  font-size: smaller;\n",
              "  line-height: 1em;\n",
              "  font-family: monospace;\n",
              "  background-color: var(--sklearn-color-background);\n",
              "  border-radius: 1em;\n",
              "  height: 1em;\n",
              "  width: 1em;\n",
              "  text-decoration: none !important;\n",
              "  margin-left: 1ex;\n",
              "  /* unfitted */\n",
              "  border: var(--sklearn-color-unfitted-level-1) 1pt solid;\n",
              "  color: var(--sklearn-color-unfitted-level-1);\n",
              "}\n",
              "\n",
              ".sk-estimator-doc-link.fitted,\n",
              "a:link.sk-estimator-doc-link.fitted,\n",
              "a:visited.sk-estimator-doc-link.fitted {\n",
              "  /* fitted */\n",
              "  border: var(--sklearn-color-fitted-level-1) 1pt solid;\n",
              "  color: var(--sklearn-color-fitted-level-1);\n",
              "}\n",
              "\n",
              "/* On hover */\n",
              "div.sk-estimator:hover .sk-estimator-doc-link:hover,\n",
              ".sk-estimator-doc-link:hover,\n",
              "div.sk-label-container:hover .sk-estimator-doc-link:hover,\n",
              ".sk-estimator-doc-link:hover {\n",
              "  /* unfitted */\n",
              "  background-color: var(--sklearn-color-unfitted-level-3);\n",
              "  color: var(--sklearn-color-background);\n",
              "  text-decoration: none;\n",
              "}\n",
              "\n",
              "div.sk-estimator.fitted:hover .sk-estimator-doc-link.fitted:hover,\n",
              ".sk-estimator-doc-link.fitted:hover,\n",
              "div.sk-label-container:hover .sk-estimator-doc-link.fitted:hover,\n",
              ".sk-estimator-doc-link.fitted:hover {\n",
              "  /* fitted */\n",
              "  background-color: var(--sklearn-color-fitted-level-3);\n",
              "  color: var(--sklearn-color-background);\n",
              "  text-decoration: none;\n",
              "}\n",
              "\n",
              "/* Span, style for the box shown on hovering the info icon */\n",
              ".sk-estimator-doc-link span {\n",
              "  display: none;\n",
              "  z-index: 9999;\n",
              "  position: relative;\n",
              "  font-weight: normal;\n",
              "  right: .2ex;\n",
              "  padding: .5ex;\n",
              "  margin: .5ex;\n",
              "  width: min-content;\n",
              "  min-width: 20ex;\n",
              "  max-width: 50ex;\n",
              "  color: var(--sklearn-color-text);\n",
              "  box-shadow: 2pt 2pt 4pt #999;\n",
              "  /* unfitted */\n",
              "  background: var(--sklearn-color-unfitted-level-0);\n",
              "  border: .5pt solid var(--sklearn-color-unfitted-level-3);\n",
              "}\n",
              "\n",
              ".sk-estimator-doc-link.fitted span {\n",
              "  /* fitted */\n",
              "  background: var(--sklearn-color-fitted-level-0);\n",
              "  border: var(--sklearn-color-fitted-level-3);\n",
              "}\n",
              "\n",
              ".sk-estimator-doc-link:hover span {\n",
              "  display: block;\n",
              "}\n",
              "\n",
              "/* \"?\"-specific style due to the `<a>` HTML tag */\n",
              "\n",
              "#sk-container-id-5 a.estimator_doc_link {\n",
              "  float: right;\n",
              "  font-size: 1rem;\n",
              "  line-height: 1em;\n",
              "  font-family: monospace;\n",
              "  background-color: var(--sklearn-color-background);\n",
              "  border-radius: 1rem;\n",
              "  height: 1rem;\n",
              "  width: 1rem;\n",
              "  text-decoration: none;\n",
              "  /* unfitted */\n",
              "  color: var(--sklearn-color-unfitted-level-1);\n",
              "  border: var(--sklearn-color-unfitted-level-1) 1pt solid;\n",
              "}\n",
              "\n",
              "#sk-container-id-5 a.estimator_doc_link.fitted {\n",
              "  /* fitted */\n",
              "  border: var(--sklearn-color-fitted-level-1) 1pt solid;\n",
              "  color: var(--sklearn-color-fitted-level-1);\n",
              "}\n",
              "\n",
              "/* On hover */\n",
              "#sk-container-id-5 a.estimator_doc_link:hover {\n",
              "  /* unfitted */\n",
              "  background-color: var(--sklearn-color-unfitted-level-3);\n",
              "  color: var(--sklearn-color-background);\n",
              "  text-decoration: none;\n",
              "}\n",
              "\n",
              "#sk-container-id-5 a.estimator_doc_link.fitted:hover {\n",
              "  /* fitted */\n",
              "  background-color: var(--sklearn-color-fitted-level-3);\n",
              "}\n",
              "</style><div id=\"sk-container-id-5\" class=\"sk-top-container\"><div class=\"sk-text-repr-fallback\"><pre>XGBRegressor(base_score=None, booster=None, callbacks=None,\n",
              "             colsample_bylevel=None, colsample_bynode=None,\n",
              "             colsample_bytree=None, device=None, early_stopping_rounds=None,\n",
              "             enable_categorical=False, eval_metric=None, feature_types=None,\n",
              "             gamma=None, grow_policy=None, importance_type=None,\n",
              "             interaction_constraints=None, learning_rate=None, max_bin=None,\n",
              "             max_cat_threshold=None, max_cat_to_onehot=None,\n",
              "             max_delta_step=None, max_depth=None, max_leaves=None,\n",
              "             min_child_weight=None, missing=nan, monotone_constraints=None,\n",
              "             multi_strategy=None, n_estimators=None, n_jobs=None,\n",
              "             num_parallel_tree=None, random_state=42, ...)</pre><b>In a Jupyter environment, please rerun this cell to show the HTML representation or trust the notebook. <br />On GitHub, the HTML representation is unable to render, please try loading this page with nbviewer.org.</b></div><div class=\"sk-container\" hidden><div class=\"sk-item\"><div class=\"sk-estimator fitted sk-toggleable\"><input class=\"sk-toggleable__control sk-hidden--visually\" id=\"sk-estimator-id-5\" type=\"checkbox\" checked><label for=\"sk-estimator-id-5\" class=\"sk-toggleable__label fitted sk-toggleable__label-arrow fitted\">&nbsp;XGBRegressor<span class=\"sk-estimator-doc-link fitted\">i<span>Fitted</span></span></label><div class=\"sk-toggleable__content fitted\"><pre>XGBRegressor(base_score=None, booster=None, callbacks=None,\n",
              "             colsample_bylevel=None, colsample_bynode=None,\n",
              "             colsample_bytree=None, device=None, early_stopping_rounds=None,\n",
              "             enable_categorical=False, eval_metric=None, feature_types=None,\n",
              "             gamma=None, grow_policy=None, importance_type=None,\n",
              "             interaction_constraints=None, learning_rate=None, max_bin=None,\n",
              "             max_cat_threshold=None, max_cat_to_onehot=None,\n",
              "             max_delta_step=None, max_depth=None, max_leaves=None,\n",
              "             min_child_weight=None, missing=nan, monotone_constraints=None,\n",
              "             multi_strategy=None, n_estimators=None, n_jobs=None,\n",
              "             num_parallel_tree=None, random_state=42, ...)</pre></div> </div></div></div></div>"
            ]
          },
          "metadata": {},
          "execution_count": 93
        }
      ]
    },
    {
      "cell_type": "markdown",
      "source": [
        "* Dasar Ilmu:\n",
        "Gradient Boosting adalah metode ensemble learning yang bekerja dengan membangun model secara iteratif untuk memperbaiki kesalahan model sebelumnya.\n",
        "XGBRegressor adalah implementasi Gradient Boosting yang efisien dan dioptimalkan untuk tugas regresi.\n",
        "Pada fit(X_train, y_train), model belajar dari data training untuk memprediksi target (y_train) berdasarkan fitur (X_train).\n",
        "Parameter random_state=42 memastikan hasil pelatihan dapat direplikasi.\n",
        "* Insights:\n",
        "Pelatihan model selesai tanpa kesalahan, artinya data yang diberikan cocok dengan algoritma XGBoost.\n",
        "Model siap untuk dievaluasi dan diinterpretasikan lebih lanjut menggunakan metrik atau visualisasi lainnya seperti Feature Importance, SHAP Values, atau Partial Dependence Plot."
      ],
      "metadata": {
        "id": "EaFu1pdFTwSz"
      }
    },
    {
      "cell_type": "code",
      "source": [
        "# Menampilkan Partial Dependence Plot untuk fitur pertama\n",
        "fig, ax = plt.subplots(figsize=(10, 6))\n",
        "display = PartialDependenceDisplay.from_estimator(model, X_train, features=[0], ax=ax)\n",
        "plt.show()"
      ],
      "metadata": {
        "colab": {
          "base_uri": "https://localhost:8080/",
          "height": 542
        },
        "id": "LFmMQXsQOvpp",
        "outputId": "cc7618db-6681-4fc4-a05d-8baae9055d7f"
      },
      "execution_count": 94,
      "outputs": [
        {
          "output_type": "display_data",
          "data": {
            "text/plain": [
              "<Figure size 1000x600 with 2 Axes>"
            ],
            "image/png": "[encoded data removed]"
          },
          "metadata": {}
        }
      ]
    },
    {
      "cell_type": "markdown",
      "source": [
        "* Dasar Ilmu:\n",
        "Partial Dependence Plot (PDP) menunjukkan hubungan antara satu fitur dengan target, sementara fitur lainnya tetap rata-rata.\n",
        "PDP membantu memahami bagaimana perubahan nilai fitur memengaruhi prediksi.\n",
        "* Insights:\n",
        "Dengan PDP, Anda dapat melihat tren antara nilai fitur dan target. Misalnya, apakah peningkatan dalam fitur tertentu menghasilkan prediksi yang lebih tinggi atau lebih rendah."
      ],
      "metadata": {
        "id": "WLhrYufnTbQt"
      }
    }
  ]
}