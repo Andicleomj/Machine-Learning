{
  "nbformat": 4,
  "nbformat_minor": 0,
  "metadata": {
    "colab": {
      "provenance": [],
      "authorship_tag": "ABX9TyNgBHkq0fqRnEKlBMSwMF8p",
      "include_colab_link": true
    },
    "kernelspec": {
      "name": "python3",
      "display_name": "Python 3"
    },
    "language_info": {
      "name": "python"
    }
  },
  "cells": [
    {
      "cell_type": "markdown",
      "metadata": {
        "id": "view-in-github",
        "colab_type": "text"
      },
      "source": [
        "<a href=\"https://colab.research.google.com/github/Andicleomj/Machine-Learning/blob/main/Week1/Social%20Network%20Ads.ipynb\" target=\"_parent\"><img src=\"https://colab.research.google.com/assets/colab-badge.svg\" alt=\"Open In Colab\"/></a>"
      ]
    },
    {
      "cell_type": "markdown",
      "source": [
        "#####Andi Cleopatra Maryam Jamila\n",
        "#####1103213071\n",
        "#####Social Network Ads Logistics Regression dan K-NN"
      ],
      "metadata": {
        "id": "xN9EWY2RdknP"
      }
    },
    {
      "cell_type": "code",
      "execution_count": null,
      "metadata": {
        "id": "otg6r_gpjFXT"
      },
      "outputs": [],
      "source": [
        "# Import necessary libraries\n",
        "import pandas as pd\n",
        "from sklearn.model_selection import train_test_split\n",
        "from sklearn.preprocessing import StandardScaler\n",
        "from sklearn.linear_model import LogisticRegression\n",
        "from sklearn.neighbors import KNeighborsClassifier\n",
        "from sklearn.metrics import classification_report\n",
        "from sklearn.preprocessing import LabelEncoder"
      ]
    },
    {
      "cell_type": "markdown",
      "source": [
        "* pandas (pd): Digunakan untuk membaca dan memanipulasi data, biasanya dalam bentuk tabel seperti CSV.\n",
        "* train_test_split dari sklearn.model_selection: Digunakan untuk membagi dataset menjadi data latih (training set) dan data uji (testing set).\n",
        "* StandardScaler dari sklearn.preprocessing: Digunakan untuk melakukan standarisasi data fitur, yaitu mengubah data agar memiliki distribusi normal dengan mean 0 dan standar deviasi 1. Ini penting untuk algoritma seperti K-NN yang sensitif terhadap skala fitur.\n",
        "* LogisticRegression dari sklearn.linear_model: Menginisialisasi model Logistic Regression, salah satu algoritma klasifikasi yang sederhana dan sering digunakan.\n",
        "* KNeighborsClassifier dari sklearn.neighbors: Menginisialisasi model K-Nearest Neighbors (K-NN), yang bekerja dengan mengklasifikasikan berdasarkan tetangga terdekat.\n",
        "* classification_report dari sklearn.metrics: Digunakan untuk menghasilkan laporan evaluasi yang mencakup metrik seperti precision, recall, F1-score, dan support.\n",
        "* LabelEncoder dari sklearn.preprocessing: Digunakan untuk mengubah variabel target berbentuk string menjadi format numerik."
      ],
      "metadata": {
        "id": "h2GZLjZInO3D"
      }
    },
    {
      "cell_type": "code",
      "source": [
        "# Read the CSV file into a pandas DataFrame\n",
        "dataset = pd.read_csv('/content/sample_data/Social_Network_Ads.csv')\n",
        "\n",
        "# Lihat 5 baris pertama dari dataset\n",
        "print(dataset.head())\n"
      ],
      "metadata": {
        "colab": {
          "base_uri": "https://localhost:8080/"
        },
        "id": "1-8fHxxzk4kq",
        "outputId": "19af1032-0625-45da-869f-c81a86f9c6be"
      },
      "execution_count": null,
      "outputs": [
        {
          "output_type": "stream",
          "name": "stdout",
          "text": [
            "   Age  EstimatedSalary  Purchased\n",
            "0   19            19000          0\n",
            "1   35            20000          0\n",
            "2   26            43000          0\n",
            "3   27            57000          0\n",
            "4   19            76000          0\n"
          ]
        }
      ]
    },
    {
      "cell_type": "markdown",
      "source": [
        "* pd.read_csv(): Digunakan untuk membaca file CSV dan mengonversinya ke dalam DataFrame, struktur data tabel yang digunakan oleh pandas.\n",
        "* print(dataset.head()): Menampilkan 5 baris pertama dari dataset. Ini berguna untuk melihat struktur dan isi awal dataset untuk memastikan bahwa data terbaca dengan benar."
      ],
      "metadata": {
        "id": "TWwwl44InhXx"
      }
    },
    {
      "cell_type": "code",
      "source": [
        "# Assuming the last column is the target (Purchased) and the rest are features\n",
        "X = dataset.iloc[:, :-1].values  # Features (all columns except the last)\n",
        "y = dataset.iloc[:, -1].values   # Target (the last column)\n"
      ],
      "metadata": {
        "id": "g32y4b9OlKjO"
      },
      "execution_count": null,
      "outputs": []
    },
    {
      "cell_type": "markdown",
      "source": [
        "* dataset.iloc[:, :-1]: Memilih semua kolom kecuali kolom terakhir sebagai fitur. Dianggap bahwa kolom terakhir adalah variabel target (label), sedangkan kolom lainnya adalah fitur.\n",
        "1.   : : Memilih semua baris.\n",
        "2. :, -1: Memilih semua kolom kecuali yang terakhir.\n",
        "* dataset.iloc[:, -1]: Memilih kolom terakhir sebagai variabel target, yaitu apakah seseorang membeli produk (Purchased) atau tidak.\n",
        "* .values: Mengonversi DataFrame menjadi array NumPy, format data yang sering digunakan oleh scikit-learn."
      ],
      "metadata": {
        "id": "gSOtDvaVnn5P"
      }
    },
    {
      "cell_type": "code",
      "source": [
        "# Encode the target variable if it's in string format\n",
        "le = LabelEncoder()\n",
        "y = le.fit_transform(y)\n"
      ],
      "metadata": {
        "id": "aNMDq4X3lMYd"
      },
      "execution_count": null,
      "outputs": []
    },
    {
      "cell_type": "markdown",
      "source": [
        "* LabelEncoder(): Digunakan untuk mengonversi label atau target yang berbentuk string menjadi angka. Algoritma machine learning biasanya memerlukan input numerik.\n",
        "* fit_transform():\n",
        "\n",
        "1.   fit() mempelajari bagaimana string akan diubah menjadi angka.\n",
        "2.   transform() mengubah target berdasarkan pengetahuan dari fit(). Dalam satu langkah, fit_transform() melakukan keduanya, yaitu mempelajari dan langsung mengubah data.\n",
        "3. Contoh: Jika target berisi nilai string seperti \"Yes\" dan \"No\", ini akan diubah menjadi 1 dan 0.\n"
      ],
      "metadata": {
        "id": "zBsrNQbNoob1"
      }
    },
    {
      "cell_type": "code",
      "source": [
        "# Split dataset into training and testing sets\n",
        "X_train, X_test, y_train, y_test = train_test_split(X, y, test_size=0.3, random_state=42)\n"
      ],
      "metadata": {
        "id": "pS8EZm9ClOi2"
      },
      "execution_count": null,
      "outputs": []
    },
    {
      "cell_type": "markdown",
      "source": [
        "* train_test_split(): Fungsi ini digunakan untuk membagi dataset menjadi dua bagian:\n",
        "\n",
        "1.   Data latih (training set): digunakan untuk melatih model.\n",
        "2.   Data uji (testing set): digunakan untuk menguji model setelah dilatih.\n",
        "\n",
        "* X: Data fitur (variabel independen).\n",
        "* y: Data target (variabel dependen atau label).\n",
        "* test_size=0.3: Menentukan bahwa 30% dari data akan digunakan sebagai data uji, sementara 70% digunakan untuk melatih model.\n",
        "* random_state=42: Digunakan untuk menjaga konsistensi dalam pembagian data setiap kali kode dijalankan. Dengan menetapkan random_state, pembagian data acak akan selalu memberikan hasil yang sama."
      ],
      "metadata": {
        "id": "8RSwWC1dpFI8"
      }
    },
    {
      "cell_type": "code",
      "source": [
        "# Standardize features for K-NN (Logistic Regression doesn't need it, but we apply it for consistency)\n",
        "scaler = StandardScaler()\n",
        "X_train_scaled = scaler.fit_transform(X_train)\n",
        "X_test_scaled = scaler.transform(X_test)\n"
      ],
      "metadata": {
        "id": "50hB_KHXlQ2r"
      },
      "execution_count": null,
      "outputs": []
    },
    {
      "cell_type": "markdown",
      "source": [
        "* StandardScaler: Digunakan untuk menstandarisasi data fitur sehingga semua fitur memiliki distribusi dengan mean 0 dan standar deviasi 1. Hal ini penting untuk algoritma seperti K-Nearest Neighbors (K-NN) karena K-NN menghitung jarak antar data, dan jika satu fitur memiliki skala yang jauh lebih besar daripada yang lain, fitur tersebut akan mendominasi perhitungan jarak.\n",
        "\n",
        "* fit_transform(): Melakukan dua hal sekaligus:\n",
        "1.   fit(): Menghitung statistik (mean dan standar deviasi) dari data latih.\n",
        "2.   transform(): Menerapkan standarisasi pada data latih berdasarkan statistik yang telah dihitung.\n",
        "* transform(): Menggunakan statistik yang dihitung dari data latih untuk menstandarisasi data uji. Penting bahwa statistik dihitung hanya dari data latih, bukan data uji, untuk mencegah data leakage."
      ],
      "metadata": {
        "id": "IEAWe44OqSmU"
      }
    },
    {
      "cell_type": "code",
      "source": [
        "# Logistic Regression model with increased max_iter\n",
        "log_reg = LogisticRegression(max_iter=500)  # Increased to 500 iterations\n",
        "log_reg.fit(X_train_scaled, y_train)  # Use scaled data\n",
        "log_reg_pred = log_reg.predict(X_test_scaled)\n"
      ],
      "metadata": {
        "id": "TmIe71zIleF5"
      },
      "execution_count": null,
      "outputs": []
    },
    {
      "cell_type": "markdown",
      "source": [
        "* LogisticRegression(): Menginisialisasi model Logistic Regression. Logistic Regression adalah model klasifikasi yang memprediksi probabilitas kelas dengan menggunakan fungsi logistik.\n",
        "* max_iter=500: Parameter ini mengatur jumlah iterasi maksimum yang diizinkan oleh solver untuk mencapai konvergensi. Dalam beberapa kasus, default iterasi (biasanya 100) tidak cukup untuk membuat model konvergen, sehingga kita meningkatkan menjadi 500.\n",
        "* fit(): Melatih model Logistic Regression menggunakan data latih (X_train_scaled) dan targetnya (y_train).\n",
        "* predict(): Setelah model dilatih, digunakan untuk memprediksi data uji (X_test_scaled) dan menyimpan hasil prediksi di log_reg_pred."
      ],
      "metadata": {
        "id": "EZS8honsq2mb"
      }
    },
    {
      "cell_type": "code",
      "source": [
        "# K-Nearest Neighbors (K-NN) model\n",
        "knn = KNeighborsClassifier(n_neighbors=5)\n",
        "knn.fit(X_train_scaled, y_train)\n",
        "knn_pred = knn.predict(X_test_scaled)\n"
      ],
      "metadata": {
        "id": "s-HMYwQblgya"
      },
      "execution_count": null,
      "outputs": []
    },
    {
      "cell_type": "markdown",
      "source": [
        "* KNeighborsClassifier(): Menginisialisasi model K-Nearest Neighbors (K-NN). Model ini bekerja dengan mencari 5 tetangga terdekat dari data yang akan diklasifikasikan (dalam hal ini ditentukan oleh parameter n_neighbors=5).\n",
        "* fit(): Melatih model K-NN menggunakan data latih (X_train_scaled) dan targetnya (y_train).\n",
        "* predict(): Setelah model dilatih, digunakan untuk memprediksi data uji (X_test_scaled) dan menyimpan hasil prediksi di knn_pred.\n",
        "* n_neighbors=5: Menetapkan jumlah tetangga terdekat yang akan dipertimbangkan oleh model K-NN untuk klasifikasi. Artinya, model akan melihat 5 data terdekat dalam ruang fitur dan memilih kelas berdasarkan mayoritas dari tetangga tersebut."
      ],
      "metadata": {
        "id": "hoihLA-lrD-W"
      }
    },
    {
      "cell_type": "code",
      "source": [
        "# Menggunakan nama string sederhana jika target adalah numerik\n",
        "print(\"Logistic Regression Classification Report:\")\n",
        "print(classification_report(y_test, log_reg_pred, target_names=[\"Class 0\", \"Class 1\"]))\n",
        "\n",
        "print(\"\\nK-Nearest Neighbors (K-NN) Classification Report:\")\n",
        "print(classification_report(y_test, knn_pred, target_names=[\"Class 0\", \"Class 1\"]))"
      ],
      "metadata": {
        "colab": {
          "base_uri": "https://localhost:8080/"
        },
        "id": "BTEoiAh1lij3",
        "outputId": "4b1ef7f9-3206-4ef2-97a2-b7bd2240d779"
      },
      "execution_count": null,
      "outputs": [
        {
          "output_type": "stream",
          "name": "stdout",
          "text": [
            "Logistic Regression Classification Report:\n",
            "              precision    recall  f1-score   support\n",
            "\n",
            "     Class 0       0.82      0.97      0.89        73\n",
            "     Class 1       0.94      0.66      0.78        47\n",
            "\n",
            "    accuracy                           0.85       120\n",
            "   macro avg       0.88      0.82      0.83       120\n",
            "weighted avg       0.86      0.85      0.84       120\n",
            "\n",
            "\n",
            "K-Nearest Neighbors (K-NN) Classification Report:\n",
            "              precision    recall  f1-score   support\n",
            "\n",
            "     Class 0       0.95      0.95      0.95        73\n",
            "     Class 1       0.91      0.91      0.91        47\n",
            "\n",
            "    accuracy                           0.93       120\n",
            "   macro avg       0.93      0.93      0.93       120\n",
            "weighted avg       0.93      0.93      0.93       120\n",
            "\n"
          ]
        }
      ]
    },
    {
      "cell_type": "markdown",
      "source": [
        "* classification_report(): Fungsi ini memberikan metrik evaluasi seperti precision, recall, F1-score, dan support untuk setiap kelas dalam data.\n",
        "\n",
        "1.   Precision: Berapa banyak prediksi positif yang benar dibandingkan dengan total prediksi positif.\n",
        "2.  Recall: Berapa banyak data positif yang berhasil diklasifikasikan dengan benar dibandingkan dengan total data positif.\n",
        "3. F1-score: Rata-rata harmonis antara precision dan recall.\n",
        "Support: Jumlah data uji dalam setiap kelas.\n",
        "* target_names: Memberikan label yang deskriptif untuk setiap kelas. Di sini, karena target sudah diencode menjadi angka, kita menggunakan nama yang sederhana seperti **\"Class 0\""
      ],
      "metadata": {
        "id": "_HOH88MRrVf1"
      }
    }
  ]
}