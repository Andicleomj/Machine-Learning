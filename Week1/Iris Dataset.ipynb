{
  "nbformat": 4,
  "nbformat_minor": 0,
  "metadata": {
    "colab": {
      "provenance": [],
      "authorship_tag": "ABX9TyPfcU8+8hynEyhNqL5cvqEc",
      "include_colab_link": true
    },
    "kernelspec": {
      "name": "python3",
      "display_name": "Python 3"
    },
    "language_info": {
      "name": "python"
    }
  },
  "cells": [
    {
      "cell_type": "markdown",
      "metadata": {
        "id": "view-in-github",
        "colab_type": "text"
      },
      "source": [
        "<a href=\"https://colab.research.google.com/github/Andicleomj/Machine-Learning/blob/main/Week1/Iris%20Dataset.ipynb\" target=\"_parent\"><img src=\"https://colab.research.google.com/assets/colab-badge.svg\" alt=\"Open In Colab\"/></a>"
      ]
    },
    {
      "cell_type": "markdown",
      "source": [
        "#####Andi Cleopatra Maryam Jamila\n",
        "#####1103213071\n",
        "#####Iris Dataset Logistics Regression dan K-NN"
      ],
      "metadata": {
        "id": "UL1-DVn34mgg"
      }
    },
    {
      "cell_type": "code",
      "execution_count": null,
      "metadata": {
        "id": "PBZqCzgE0aF9"
      },
      "outputs": [],
      "source": [
        "# Import necessary libraries\n",
        "import pandas as pd\n",
        "from sklearn.datasets import load_iris\n",
        "from sklearn.model_selection import train_test_split\n",
        "from sklearn.preprocessing import StandardScaler\n",
        "from sklearn.linear_model import LogisticRegression\n",
        "from sklearn.neighbors import KNeighborsClassifier\n",
        "from sklearn.metrics import classification_report"
      ]
    },
    {
      "cell_type": "markdown",
      "source": [
        "\n",
        "\n",
        "*  pandas as pd: pandas adalah pustaka yang kuat untuk manipulasi dan analisis data. Ini menyediakan struktur data seperti DataFrame yang berguna untuk mengelola data terstruktur.\n",
        "* sklearn.datasets: Menggunakan fungsi load_iris untuk memuat dataset Iris, yang merupakan dataset kecil yang sering digunakan untuk pengujian algoritma machine learning.\n",
        "* train_test_split dari sklearn.model_selection: Fungsi ini digunakan untuk membagi dataset menjadi data latih (training set) dan data uji (testing set).\n",
        "* StandardScaler dari sklearn.preprocessing: Digunakan untuk menstandarkan fitur dengan menghilangkan nilai rata-rata dan menskalakan fitur ke variansi satuan. Ini berguna untuk algoritma seperti K-NN yang sensitif terhadap skala fitur.\n",
        "* LogisticRegression dari sklearn.linear_model: Mengimplementasikan regresi logistik, sebuah algoritma populer untuk masalah klasifikasi biner dan multikelas.\n",
        "* KNeighborsClassifier dari sklearn.neighbors: Mengimplementasikan K-Nearest Neighbors, algoritma non-parametrik sederhana yang digunakan untuk klasifikasi dan regresi.\n",
        "* classification_report dari sklearn.metrics: Menghasilkan laporan yang mencakup precision, recall, F1-score, dan support untuk setiap kelas dalam dataset.\n",
        "\n"
      ],
      "metadata": {
        "id": "WLt8Y9by40ND"
      }
    },
    {
      "cell_type": "code",
      "source": [
        "# Read the CSV file into a pandas DataFrame\n",
        "iris = pd.read_csv(\"/content/sample_data/Iris.csv\")"
      ],
      "metadata": {
        "id": "WjEgg9kz2FK-"
      },
      "execution_count": null,
      "outputs": []
    },
    {
      "cell_type": "markdown",
      "source": [
        "* pd.read_csv():\n",
        "Ini adalah fungsi dari pustaka pandas yang digunakan untuk membaca file CSV dan mengonversinya menjadi DataFrame, yang merupakan struktur data seperti tabel yang efisien untuk manipulasi data.\n",
        "CSV (Comma-Separated Values) adalah format file teks yang digunakan untuk menyimpan data dalam bentuk tabel, di mana setiap baris adalah rekaman data, dan kolom dipisahkan oleh koma.\n",
        "\n",
        "* \"/content/sample_data/Iris.csv\":\n",
        "Ini adalah path ke file Iris.csv yang berada di direktori /content/sample_data/ di lingkungan Google Colab.\n",
        "Di Google Colab, folder sample_data/ biasanya sudah ada secara default, dan Anda bisa mengunggah file CSV ke sana jika diperlukan.\n",
        "\n",
        "* iris:\n",
        "Variabel iris adalah nama DataFrame yang menyimpan data dari file CSV setelah dibaca. Setelah data CSV dimuat ke dalam DataFrame, Anda bisa melakukan berbagai operasi seperti memfilter, mengelompokkan, atau menganalisis data."
      ],
      "metadata": {
        "id": "aWDz7SG5_DXl"
      }
    },
    {
      "cell_type": "code",
      "source": [
        "print(iris.head())"
      ],
      "metadata": {
        "colab": {
          "base_uri": "https://localhost:8080/"
        },
        "id": "H7nHrYiJ2wYi",
        "outputId": "5f8beed4-3b13-4f8c-8b23-a6af393deae6"
      },
      "execution_count": null,
      "outputs": [
        {
          "output_type": "stream",
          "name": "stdout",
          "text": [
            "   Id  SepalLengthCm  SepalWidthCm  PetalLengthCm  PetalWidthCm      Species\n",
            "0   1            5.1           3.5            1.4           0.2  Iris-setosa\n",
            "1   2            4.9           3.0            1.4           0.2  Iris-setosa\n",
            "2   3            4.7           3.2            1.3           0.2  Iris-setosa\n",
            "3   4            4.6           3.1            1.5           0.2  Iris-setosa\n",
            "4   5            5.0           3.6            1.4           0.2  Iris-setosa\n"
          ]
        }
      ]
    },
    {
      "cell_type": "markdown",
      "source": [
        "* iris.head():\n",
        "head() adalah fungsi dari objek DataFrame di pandas yang digunakan untuk menampilkan baris pertama dari data yang ada di dalam DataFrame.\n",
        "\n",
        "* print():\n",
        "Fungsi print() digunakan untuk mencetak hasil ke output."
      ],
      "metadata": {
        "id": "JrzEycBKAKUt"
      }
    },
    {
      "cell_type": "code",
      "source": [
        "# Assuming the last column is the target (species) and the others are features\n",
        "X = iris.iloc[:, :-1].values  # Features (all columns except the last)\n",
        "y = iris.iloc[:, -1].values   # Target (the last column)"
      ],
      "metadata": {
        "id": "zH1WI_bR22dQ"
      },
      "execution_count": null,
      "outputs": []
    },
    {
      "cell_type": "markdown",
      "source": [
        "* iloc[:, :-1]: Ini adalah cara untuk memilih semua kolom kecuali kolom terakhir dari DataFrame iris.\n",
        "\n",
        "* iloc[:, -1]: Bagian ini memilih kolom terakhir dari DataFrame, yang dianggap sebagai kolom target (label atau output yang akan diprediksi), dalam hal ini adalah spesies bunga (Species). Variabel y menyimpan nilai target ini dalam bentuk array."
      ],
      "metadata": {
        "id": "_5IYPZ2QBFlp"
      }
    },
    {
      "cell_type": "code",
      "source": [
        "# Encode the target variable if it's in string format\n",
        "from sklearn.preprocessing import LabelEncoder\n",
        "le = LabelEncoder()\n",
        "y = le.fit_transform(y)"
      ],
      "metadata": {
        "id": "Kz6PgGzG22Vf"
      },
      "execution_count": null,
      "outputs": []
    },
    {
      "cell_type": "markdown",
      "source": [
        "* LabelEncoder(): Fungsi ini digunakan untuk mengonversi data target yang berupa string (misalnya: setosa, versicolor, virginica) menjadi angka. Algoritma machine learning membutuhkan data dalam bentuk numerik, sehingga encoder ini mengonversi setiap label string menjadi integer yang sesuai.\n",
        "\n",
        "* fit_transform() adalah kombinasi keduanya, yaitu mempelajari dan langsung menerapkan konversi."
      ],
      "metadata": {
        "id": "j0MVLm14BWc1"
      }
    },
    {
      "cell_type": "code",
      "source": [
        "# Split dataset into training and testing sets\n",
        "X_train, X_test, y_train, y_test = train_test_split(X, y, test_size=0.3, random_state=42)\n"
      ],
      "metadata": {
        "id": "VEurGbC_22FR"
      },
      "execution_count": null,
      "outputs": []
    },
    {
      "cell_type": "markdown",
      "source": [
        "* train_test_split(): Fungsi ini digunakan untuk membagi dataset menjadi dua bagian: data latih (training set) dan data uji (testing set).\n",
        "X: Data input (fitur) untuk model.\n",
        "y: Data target (label) yang ingin diprediksi.\n",
        "\n",
        "* test_size=0.3: Menentukan bahwa 30% dari dataset akan digunakan sebagai data uji (testing set), sedangkan 70% lainnya akan digunakan untuk melatih model (training set).\n",
        "\n",
        "* random_state=42: Parameter ini digunakan untuk membuat hasil pembagian dataset menjadi konsisten setiap kali kode dijalankan. Dengan mengatur random_state ke nilai tertentu (misalnya 42), Anda memastikan bahwa pembagian data acak akan selalu menghasilkan data latih dan uji yang sama setiap kali menjalankan kode, sehingga eksperimen lebih reproducible."
      ],
      "metadata": {
        "id": "fhTyXkoGCVxo"
      }
    },
    {
      "cell_type": "code",
      "source": [
        "# Standardize features for K-NN (Logistic Regression doesn't need it, but we apply it for consistency)\n",
        "scaler = StandardScaler()\n",
        "X_train_scaled = scaler.fit_transform(X_train)\n",
        "X_test_scaled = scaler.transform(X_test)"
      ],
      "metadata": {
        "id": "YMkjukos3Alx"
      },
      "execution_count": null,
      "outputs": []
    },
    {
      "cell_type": "markdown",
      "source": [
        "* StandardScaler(): Digunakan untuk menstandarisasi fitur dengan menghilangkan nilai rata-rata dan membaginya dengan standar deviasi, sehingga semua fitur memiliki skala yang sama (mean 0 dan variansi 1).\n",
        "\n",
        "* fit_transform(X_train): Fungsi ini menyesuaikan scaler pada data latih (X_train) dan menerapkan standarisasi.\n",
        "\n",
        "* transform(X_test): Menerapkan standarisasi yang sama pada data uji (X_test), menggunakan mean dan standar deviasi yang dihitung dari data latih untuk menjaga konsistensi."
      ],
      "metadata": {
        "id": "PDGnRRQnDkzO"
      }
    },
    {
      "cell_type": "code",
      "source": [
        "# Logistic Regression model with increased max_iter\n",
        "log_reg = LogisticRegression(max_iter=500)  # Increased to 500 iterations\n",
        "log_reg.fit(X_train_scaled, y_train)  # Use scaled data\n",
        "log_reg_pred = log_reg.predict(X_test_scaled)"
      ],
      "metadata": {
        "id": "MLsPnFjp3DYr"
      },
      "execution_count": null,
      "outputs": []
    },
    {
      "cell_type": "markdown",
      "source": [
        "* LogisticRegression(max_iter=500):\n",
        "Menginisialisasi model Logistic Regression.\n",
        "max_iter=500: Mengatur jumlah maksimum iterasi untuk optimisasi. Default-nya adalah 100, tetapi kita tingkatkan menjadi 500 untuk memastikan model mencapai konvergensi (terutama untuk dataset yang lebih kompleks).\n",
        "\n",
        "* fit(X_train_scaled, y_train): Melatih model menggunakan data latih yang telah diskalakan (X_train_scaled) dan target (y_train).\n",
        "\n",
        "* predict(X_test_scaled): Memprediksi label (kelas) untuk data uji yang telah diskalakan (X_test_scaled). Hasil prediksi disimpan di variabel log_reg_pred."
      ],
      "metadata": {
        "id": "uomJLmLVEBGW"
      }
    },
    {
      "cell_type": "code",
      "source": [
        "# K-Nearest Neighbors (K-NN) model\n",
        "knn = KNeighborsClassifier(n_neighbors=3)\n",
        "knn.fit(X_train_scaled, y_train)\n",
        "knn_pred = knn.predict(X_test_scaled)"
      ],
      "metadata": {
        "id": "ny7PiyxH3VNw"
      },
      "execution_count": null,
      "outputs": []
    },
    {
      "cell_type": "markdown",
      "source": [
        "* KNeighborsClassifier(n_neighbors=3): Menginisialisasi model K-NN dengan parameter 3 tetangga terdekat.\n",
        "\n",
        "* fit(X_train_scaled, y_train): Melatih model K-NN dengan data latih yang telah diskalakan (X_train_scaled) dan target (y_train).\n",
        "\n",
        "* predict(X_test_scaled): Memprediksi label untuk data uji yang telah diskalakan. Hasil prediksi disimpan di variabel knn_pred."
      ],
      "metadata": {
        "id": "JhoLOOOIE-rx"
      }
    },
    {
      "cell_type": "code",
      "source": [
        "# Generate classification reports\n",
        "print(\"Logistic Regression Classification Report:\")\n",
        "print(classification_report(y_test, log_reg_pred, target_names=le.classes_))"
      ],
      "metadata": {
        "colab": {
          "base_uri": "https://localhost:8080/"
        },
        "id": "m5HqEIot3XpL",
        "outputId": "b1e545c8-3c1c-460b-a77c-1544311b375e"
      },
      "execution_count": null,
      "outputs": [
        {
          "output_type": "stream",
          "name": "stdout",
          "text": [
            "Logistic Regression Classification Report:\n",
            "                 precision    recall  f1-score   support\n",
            "\n",
            "    Iris-setosa       1.00      1.00      1.00        19\n",
            "Iris-versicolor       1.00      1.00      1.00        13\n",
            " Iris-virginica       1.00      1.00      1.00        13\n",
            "\n",
            "       accuracy                           1.00        45\n",
            "      macro avg       1.00      1.00      1.00        45\n",
            "   weighted avg       1.00      1.00      1.00        45\n",
            "\n"
          ]
        }
      ]
    },
    {
      "cell_type": "markdown",
      "source": [
        "* classification_report(): Fungsi ini digunakan untuk menampilkan metrik evaluasi kinerja model klasifikasi.\n",
        "\n",
        "* y_test: Nilai target asli (actual) dari data uji.\n",
        "\n",
        "* log_reg_pred: Prediksi dari model Logistic Regression.\n",
        "\n",
        "* target_names=le.classes_: Menampilkan nama-nama kelas asli (seperti setosa, versicolor, virginica) berdasarkan hasil encoding sebelumnya menggunakan LabelEncoder."
      ],
      "metadata": {
        "id": "-1EnHGI6FNFz"
      }
    },
    {
      "cell_type": "code",
      "source": [
        "print(\"\\nK-Nearest Neighbors (K-NN) Classification Report:\")\n",
        "print(classification_report(y_test, knn_pred, target_names=le.classes_))"
      ],
      "metadata": {
        "colab": {
          "base_uri": "https://localhost:8080/"
        },
        "id": "i0etAFVW3du0",
        "outputId": "2b794252-3253-48c4-a6b2-f0a26b2d6c4d"
      },
      "execution_count": null,
      "outputs": [
        {
          "output_type": "stream",
          "name": "stdout",
          "text": [
            "\n",
            "K-Nearest Neighbors (K-NN) Classification Report:\n",
            "                 precision    recall  f1-score   support\n",
            "\n",
            "    Iris-setosa       1.00      1.00      1.00        19\n",
            "Iris-versicolor       1.00      1.00      1.00        13\n",
            " Iris-virginica       1.00      1.00      1.00        13\n",
            "\n",
            "       accuracy                           1.00        45\n",
            "      macro avg       1.00      1.00      1.00        45\n",
            "   weighted avg       1.00      1.00      1.00        45\n",
            "\n"
          ]
        }
      ]
    },
    {
      "cell_type": "markdown",
      "source": [
        "* classification_report(y_test, knn_pred): Mengevaluasi kinerja model K-NN dengan membandingkan prediksi model (knn_pred) dengan target asli dari data uji (y_test).\n",
        "\n",
        "* target_names=le.classes_: Menampilkan nama-nama kelas asli (spesies bunga), sehingga laporan lebih mudah dimengerti."
      ],
      "metadata": {
        "id": "9c_vhmHxFfv8"
      }
    }
  ]
}