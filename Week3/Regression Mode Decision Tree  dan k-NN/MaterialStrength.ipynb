{
  "nbformat": 4,
  "nbformat_minor": 0,
  "metadata": {
    "colab": {
      "provenance": [],
      "authorship_tag": "ABX9TyPg5gbBi/9mW46Y5SEJ+sx0",
      "include_colab_link": true
    },
    "kernelspec": {
      "name": "python3",
      "display_name": "Python 3"
    },
    "language_info": {
      "name": "python"
    }
  },
  "cells": [
    {
      "cell_type": "markdown",
      "metadata": {
        "id": "view-in-github",
        "colab_type": "text"
      },
      "source": [
        "<a href=\"https://colab.research.google.com/github/Andicleomj/Machine-Learning/blob/main/Week3/Regression%20Mode%20Decision%20Tree%20%20dan%20k-NN/MaterialStrength.ipynb\" target=\"_parent\"><img src=\"https://colab.research.google.com/assets/colab-badge.svg\" alt=\"Open In Colab\"/></a>"
      ]
    },
    {
      "cell_type": "markdown",
      "source": [
        "#####Andi Cleopatra Maryam Jamila\n",
        "#####1103213071\n",
        "#####Regression Model Decision Tree  dan k-NN (MaterialStrength)\n"
      ],
      "metadata": {
        "id": "NU0B2txQgs4b"
      }
    },
    {
      "cell_type": "code",
      "source": [
        "import pandas as pd\n",
        "import numpy as np\n",
        "from sklearn.model_selection import train_test_split\n",
        "from sklearn.linear_model import LinearRegression\n",
        "from sklearn.preprocessing import PolynomialFeatures, OneHotEncoder\n",
        "from sklearn.compose import ColumnTransformer\n",
        "from sklearn.tree import DecisionTreeRegressor\n",
        "from sklearn.neighbors import KNeighborsRegressor\n",
        "from sklearn.metrics import mean_squared_error, r2_score"
      ],
      "metadata": {
        "id": "0p8ALq10rOjo"
      },
      "execution_count": null,
      "outputs": []
    },
    {
      "cell_type": "markdown",
      "source": [
        "* mengimpor pustaka yang diperlukan untuk analisis data dan pemodelan, seperti pandas untuk manipulasi data, numpy untuk operasi numerik, dan berbagai modul dari sklearn untuk pembelajaran mesin dan evaluasi model."
      ],
      "metadata": {
        "id": "-a-eNyPEj9g7"
      }
    },
    {
      "cell_type": "code",
      "execution_count": null,
      "metadata": {
        "id": "9aG5f-I_lqdg"
      },
      "outputs": [],
      "source": [
        "# Membaca dataset\n",
        "data = pd.read_csv('/content/sample_data/MaterialStrength.csv')"
      ]
    },
    {
      "cell_type": "markdown",
      "source": [
        "* Dataset MaterialStrength.csv dibaca ke dalam DataFrame data menggunakan pandas."
      ],
      "metadata": {
        "id": "PYXWURtbkCag"
      }
    },
    {
      "cell_type": "code",
      "source": [
        "# Menampilkan beberapa baris pertama dari dataset\n",
        "print(data.head())\n"
      ],
      "metadata": {
        "colab": {
          "base_uri": "https://localhost:8080/"
        },
        "id": "GeerNrPosDnR",
        "outputId": "b0fb7054-389d-498a-aeaf-5eae71317c00"
      },
      "execution_count": null,
      "outputs": [
        {
          "output_type": "stream",
          "name": "stdout",
          "text": [
            "      x1     x2   x3     x4   x5      x6     x7   x8        x9    x10  \\\n",
            "0  540.0    0.0  0.0  162.0  2.5  1040.0  676.0   28  0.300000  540.0   \n",
            "1  540.0    0.0  0.0  162.0  2.5  1055.0  676.0   28  0.300000  540.0   \n",
            "2  332.5  142.5  0.0  228.0  0.0   932.0  594.0  270  0.685714  475.0   \n",
            "3  332.5  142.5  0.0  228.0  0.0   932.0  594.0  365  0.685714  475.0   \n",
            "4  198.6  132.4  0.0  192.0  0.0   978.4  825.5  360  0.966767  331.0   \n",
            "\n",
            "        x11  x12       x13  x14  x15  target_feature  \n",
            "0  1.538462    1  0.350044  YEs   NO           79.99  \n",
            "1  1.560651    1  0.452416  yES  nOO           61.89  \n",
            "2  1.569024    0  6.704743  yEs   NO           40.27  \n",
            "3  1.569024    0  8.891596  yes  NOO           41.05  \n",
            "4  1.185221    0  8.126411  YeS   no           44.30  \n"
          ]
        }
      ]
    },
    {
      "cell_type": "markdown",
      "source": [
        "* Baris pertama dari dataset ditampilkan untuk memberikan gambaran tentang struktur dan konten data."
      ],
      "metadata": {
        "id": "I0pYPuIPkEqO"
      }
    },
    {
      "cell_type": "code",
      "source": [
        "# Memisahkan fitur dan target\n",
        "X = data.drop('target_feature', axis=1)  # Misalkan kolom target adalah 'Strength'\n",
        "y = data['target_feature']"
      ],
      "metadata": {
        "id": "SOOnF1GQpkYu"
      },
      "execution_count": null,
      "outputs": []
    },
    {
      "cell_type": "markdown",
      "source": [
        "* Fitur (variabel independen) disimpan dalam X dengan menghapus kolom target yang disebut 'target_feature'. Kolom target disimpan dalam y."
      ],
      "metadata": {
        "id": "t6GY2m5TkKW2"
      }
    },
    {
      "cell_type": "code",
      "source": [
        "# Mengidentifikasi kolom kategorikal\n",
        "kolom_kategorikal = X.select_dtypes(include=['object']).columns.tolist()  # Menyimpan kolom kategori\n",
        "print(\"Kolom kategorikal:\", kolom_kategorikal)"
      ],
      "metadata": {
        "colab": {
          "base_uri": "https://localhost:8080/"
        },
        "id": "XjdnZN87irak",
        "outputId": "39d69711-a95a-4bb4-8a06-d6dee6770469"
      },
      "execution_count": null,
      "outputs": [
        {
          "output_type": "stream",
          "name": "stdout",
          "text": [
            "Kolom kategorikal: ['x14', 'x15']\n"
          ]
        }
      ]
    },
    {
      "cell_type": "markdown",
      "source": [
        "* Kode ini mengidentifikasi kolom mana yang memiliki tipe data kategorikal (biasanya berisi string) dan menyimpannya dalam daftar kolom_kategorikal. Ini penting karena kolom-kolom ini perlu diubah menjadi format numerik agar model dapat memprosesnya."
      ],
      "metadata": {
        "id": "wK_XX3g0kOpb"
      }
    },
    {
      "cell_type": "code",
      "source": [
        "# Membagi dataset menjadi data latih (80%) dan data uji (20%)\n",
        "X_train, X_test, y_train, y_test = train_test_split(X, y, test_size=0.2, random_state=42)"
      ],
      "metadata": {
        "id": "XzP1UNz7sVnH"
      },
      "execution_count": null,
      "outputs": []
    },
    {
      "cell_type": "markdown",
      "source": [
        "* Dataset dibagi menjadi data latih (80%) dan data uji (20%) menggunakan train_test_split. random_state=42 memastikan bahwa pembagian dataset bersifat reproduktif, artinya Anda akan mendapatkan hasil yang sama setiap kali menjalankan kode."
      ],
      "metadata": {
        "id": "IIlnyd1dkQse"
      }
    },
    {
      "cell_type": "code",
      "source": [
        "# Membangun preprocessing dengan OneHotEncoder untuk kolom kategorikal\n",
        "column_transformer = ColumnTransformer(\n",
        "    transformers=[\n",
        "        ('cat', OneHotEncoder(), kolom_kategorikal)  # Mengubah kolom kategorikal\n",
        "    ],\n",
        "    remainder='passthrough'  # Biarkan kolom numerik tetap\n",
        ")"
      ],
      "metadata": {
        "id": "NNukqQUriyqx"
      },
      "execution_count": null,
      "outputs": []
    },
    {
      "cell_type": "markdown",
      "source": [
        "* ColumnTransformer digunakan untuk menerapkan transformasi pada kolom tertentu dalam dataset. Dalam hal ini, OneHotEncoder digunakan untuk mengubah kolom kategorikal menjadi format yang dapat dipahami oleh model (yakni, representasi biner). remainder='passthrough' memastikan bahwa kolom numerik lainnya tidak diubah dan tetap ada dalam dataset."
      ],
      "metadata": {
        "id": "WFSmHJJdkTpe"
      }
    },
    {
      "cell_type": "code",
      "source": [
        "# Terapkan preprocessing ke data latih dan data uji\n",
        "X_train_encoded = column_transformer.fit_transform(X_train)\n",
        "X_test_encoded = column_transformer.transform(X_test)"
      ],
      "metadata": {
        "id": "yJdYQLtni3zf"
      },
      "execution_count": null,
      "outputs": []
    },
    {
      "cell_type": "markdown",
      "source": [
        "* fit_transform diterapkan pada data latih (X_train) untuk menyesuaikan dan menerapkan transformasi (encoding) sekaligus. Sementara itu, transform diterapkan pada data uji (X_test) untuk menerapkan transformasi yang sama tanpa menyesuaikan ulang (agar model yang telah dilatih tidak terpengaruh oleh data uji). Hasilnya adalah X_train_encoded dan X_test_encoded, yang merupakan versi dari data yang telah diencode."
      ],
      "metadata": {
        "id": "2wRbC43JkWuq"
      }
    },
    {
      "cell_type": "code",
      "source": [
        "# Membangun Model Regresi Linear Biasa\n",
        "linear_model = LinearRegression()\n",
        "linear_model.fit(X_train_encoded, y_train)\n",
        "y_pred_linear = linear_model.predict(X_test_encoded)"
      ],
      "metadata": {
        "id": "SQeUuYUSpTjn"
      },
      "execution_count": null,
      "outputs": []
    },
    {
      "cell_type": "markdown",
      "source": [
        "* Model regresi linear diinisialisasi dan dilatih menggunakan data latih yang telah diencode (X_train_encoded) dan target (y_train). Setelah model dilatih, prediksi pada data uji dilakukan dengan predict, yang menghasilkan y_pred_linear."
      ],
      "metadata": {
        "id": "XqRUrp54kayZ"
      }
    },
    {
      "cell_type": "code",
      "source": [
        "# Membangun Model Regresi Linear dengan Basis Fungsi\n",
        "poly = PolynomialFeatures(degree=2)  # Menggunakan polinomial derajat 2\n",
        "X_train_poly = poly.fit_transform(X_train_encoded)\n",
        "X_test_poly = poly.transform(X_test_encoded)\n",
        "\n",
        "linear_poly_model = LinearRegression()\n",
        "linear_poly_model.fit(X_train_poly, y_train)\n",
        "y_pred_poly = linear_poly_model.predict(X_test_poly)"
      ],
      "metadata": {
        "id": "sGmWN4cVqtfQ"
      },
      "execution_count": null,
      "outputs": []
    },
    {
      "cell_type": "markdown",
      "source": [
        "* PolynomialFeatures(degree=2) digunakan untuk membuat fitur polinomial dari data yang sudah diencode. Dalam hal ini, fitur yang ada akan diubah menjadi fitur polinomial derajat 2 (kuadrat).\n",
        "* fit_transform diterapkan pada data latih (X_train_encoded) untuk membuat fitur polinomial dan transform diterapkan pada data uji (X_test_encoded) untuk menggunakan transformasi yang sama.\n",
        "*Model regresi linear polinomial kemudian dilatih dengan fit menggunakan data latih polinomial (X_train_poly) dan target (y_train). Prediksi pada data uji dilakukan dengan predict, yang menghasilkan y_pred_poly."
      ],
      "metadata": {
        "id": "LxoObbekkwmC"
      }
    },
    {
      "cell_type": "code",
      "source": [
        "# Membangun Model Decision Tree\n",
        "dt_model = DecisionTreeRegressor()\n",
        "dt_model.fit(X_train_encoded, y_train)\n",
        "y_pred_dt = dt_model.predict(X_test_encoded)"
      ],
      "metadata": {
        "id": "PF7Nqsrvv_lz"
      },
      "execution_count": null,
      "outputs": []
    },
    {
      "cell_type": "markdown",
      "source": [
        "* Model regresi pohon keputusan (DecisionTreeRegressor) diinisialisasi dan dilatih menggunakan data latih yang sudah diencode (X_train_encoded) dan target (y_train). Setelah model dilatih, prediksi pada data uji dilakukan untuk mendapatkan y_pred_dt."
      ],
      "metadata": {
        "id": "8TNC5cHdk6bR"
      }
    },
    {
      "cell_type": "code",
      "source": [
        "# Membangun Model k-NN\n",
        "knn_model = KNeighborsRegressor()\n",
        "knn_model.fit(X_train_encoded, y_train)\n",
        "y_pred_knn = knn_model.predict(X_test_encoded)"
      ],
      "metadata": {
        "id": "GarAJKjlq5yf"
      },
      "execution_count": null,
      "outputs": []
    },
    {
      "cell_type": "markdown",
      "source": [
        "* Model k-NN untuk regresi (KNeighborsRegressor) diinisialisasi dan dilatih menggunakan data latih yang sudah diencode (X_train_encoded) dan target (y_train). Setelah dilatih, model digunakan untuk memprediksi nilai pada data uji, menghasilkan y_pred_knn."
      ],
      "metadata": {
        "id": "Z9SI0Xock7-Z"
      }
    },
    {
      "cell_type": "code",
      "source": [
        "# Menghitung metrik evaluasi\n",
        "def evaluate_model(y_true, y_pred):\n",
        "    mse = mean_squared_error(y_true, y_pred)\n",
        "    rmse = np.sqrt(mse)\n",
        "    r_squared = r2_score(y_true, y_pred)\n",
        "    return mse, rmse, r_squared"
      ],
      "metadata": {
        "id": "dYL87-DKq74X"
      },
      "execution_count": null,
      "outputs": []
    },
    {
      "cell_type": "markdown",
      "source": [
        "* Fungsi evaluate_model didefinisikan untuk menghitung tiga metrik evaluasi:\n",
        "\n",
        "1.  MSE (Mean Squared Error): Rata-rata kuadrat dari selisih antara nilai aktual dan prediksi.\n",
        "2.  RMSE (Root Mean Squared Error): Akar kuadrat dari MSE, memberikan ukuran kesalahan dalam satuan yang sama dengan data asli.\n",
        "3. R² (R-squared): Ukuran seberapa baik model menjelaskan varians dalam data target.\n",
        "\n"
      ],
      "metadata": {
        "id": "EW_1pQIIk-9r"
      }
    },
    {
      "cell_type": "code",
      "source": [
        "# Evaluasi semua model\n",
        "metrics = {\n",
        "    'Linear Regression': evaluate_model(y_test, y_pred_linear),\n",
        "    'Polynomial Regression': evaluate_model(y_test, y_pred_poly),\n",
        "    'Decision Tree': evaluate_model(y_test, y_pred_dt),\n",
        "    'k-NN': evaluate_model(y_test, y_pred_knn),\n",
        "}"
      ],
      "metadata": {
        "id": "3bTCKVzGuZ2d"
      },
      "execution_count": null,
      "outputs": []
    },
    {
      "cell_type": "markdown",
      "source": [
        "* Model yang telah dibangun dievaluasi menggunakan fungsi evaluate_model, dan hasilnya disimpan dalam dictionary metrics, di mana setiap model terkait dengan tuple berisi MSE, RMSE, dan R²."
      ],
      "metadata": {
        "id": "r9fOgsqilPcJ"
      }
    },
    {
      "cell_type": "code",
      "source": [
        "# Menampilkan hasil evaluasi\n",
        "for model, (mse, rmse, r_squared) in metrics.items():\n",
        "    print(f\"{model}:\")\n",
        "    print(f\"  MSE: {mse:.3f}\")\n",
        "    print(f\"  RMSE: {rmse:.3f}\")\n",
        "    print(f\"  R²: {r_squared:.3f}\")\n",
        "    print()"
      ],
      "metadata": {
        "colab": {
          "base_uri": "https://localhost:8080/"
        },
        "id": "ul6UFiFdjdRw",
        "outputId": "ce2e223e-73d6-4098-d2a4-c8f1778eac91"
      },
      "execution_count": null,
      "outputs": [
        {
          "output_type": "stream",
          "name": "stdout",
          "text": [
            "Linear Regression:\n",
            "  MSE: 75.487\n",
            "  RMSE: 8.688\n",
            "  R²: 0.707\n",
            "\n",
            "Polynomial Regression:\n",
            "  MSE: 54.041\n",
            "  RMSE: 7.351\n",
            "  R²: 0.790\n",
            "\n",
            "Decision Tree:\n",
            "  MSE: 21.671\n",
            "  RMSE: 4.655\n",
            "  R²: 0.916\n",
            "\n",
            "k-NN:\n",
            "  MSE: 74.155\n",
            "  RMSE: 8.611\n",
            "  R²: 0.712\n",
            "\n"
          ]
        }
      ]
    },
    {
      "cell_type": "markdown",
      "source": [
        "* Menggunakan loop, hasil evaluasi untuk setiap model ditampilkan di konsol. Metrik evaluasi MSE, RMSE, dan R² dicetak dengan format tiga desimal."
      ],
      "metadata": {
        "id": "c_usdLBglTil"
      }
    }
  ]
}