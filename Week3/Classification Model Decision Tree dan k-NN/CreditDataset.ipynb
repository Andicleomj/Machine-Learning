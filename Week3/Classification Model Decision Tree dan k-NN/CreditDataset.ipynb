{
  "nbformat": 4,
  "nbformat_minor": 0,
  "metadata": {
    "colab": {
      "provenance": [],
      "authorship_tag": "ABX9TyMR5m2cU4pEneTCyJwHu5Bt",
      "include_colab_link": true
    },
    "kernelspec": {
      "name": "python3",
      "display_name": "Python 3"
    },
    "language_info": {
      "name": "python"
    }
  },
  "cells": [
    {
      "cell_type": "markdown",
      "metadata": {
        "id": "view-in-github",
        "colab_type": "text"
      },
      "source": [
        "<a href=\"https://colab.research.google.com/github/Andicleomj/Machine-Learning/blob/main/Week3/Classification%20Model%20Decision%20Tree%20dan%20k-NN/CreditDataset.ipynb\" target=\"_parent\"><img src=\"https://colab.research.google.com/assets/colab-badge.svg\" alt=\"Open In Colab\"/></a>"
      ]
    },
    {
      "cell_type": "code",
      "execution_count": 107,
      "metadata": {
        "id": "Tulypgh3claf"
      },
      "outputs": [],
      "source": [
        "import pandas as pd\n",
        "from sklearn.model_selection import train_test_split\n",
        "from sklearn.preprocessing import OneHotEncoder, StandardScaler, LabelEncoder\n",
        "from sklearn.compose import ColumnTransformer\n",
        "from sklearn.tree import DecisionTreeClassifier\n",
        "from sklearn.neighbors import KNeighborsClassifier\n",
        "from sklearn.metrics import classification_report, confusion_matrix, roc_auc_score, roc_curve\n",
        "import matplotlib.pyplot as plt"
      ]
    },
    {
      "cell_type": "markdown",
      "source": [
        "* pandas: Digunakan untuk manipulasi dan analisis data, terutama untuk bekerja dengan DataFrame.\n",
        "* sklearn.model_selection: Berisi fungsi untuk membagi dataset menjadi set pelatihan dan pengujian.\n",
        "* sklearn.preprocessing: Mengandung fungsi untuk melakukan pra-pemrosesan data, seperti encoding dan scaling.\n",
        "* sklearn.compose: Memungkinkan pembuatan objek ColumnTransformer untuk menerapkan transformasi yang berbeda pada kolom yang berbeda.\n",
        "* sklearn.tree dan sklearn.neighbors: Mengandung model klasifikasi seperti Decision Tree dan k-NN.\n",
        "* sklearn.metrics: Berisi fungsi untuk mengevaluasi model, seperti menghasilkan laporan klasifikasi dan menghitung AUC.\n"
      ],
      "metadata": {
        "id": "G9ZOi9SbeGTq"
      }
    },
    {
      "cell_type": "code",
      "source": [
        "# Membaca dataset\n",
        "data = pd.read_csv('/content/sample_data/CreditDataset.csv')\n",
        "\n",
        "# Menampilkan beberapa baris pertama dari dataset\n",
        "print(data.head())\n"
      ],
      "metadata": {
        "colab": {
          "base_uri": "https://localhost:8080/"
        },
        "id": "FZTKqqBEeQTY",
        "outputId": "083534aa-dc08-4fbc-ccbb-f10fa3bf9ef4"
      },
      "execution_count": 108,
      "outputs": [
        {
          "output_type": "stream",
          "name": "stdout",
          "text": [
            "    x1  x2   x3   x4    x5   x6   x7  x8   x9   x10  ...   x12 x13   x14  \\\n",
            "0  A11   6  A34  A43  1169  A65  A75   4  A93  A101  ...  A121  67  A143   \n",
            "1  A12  48  A32  A43  5951  A61  A73   2  A92  A101  ...  A121  22  A143   \n",
            "2  A14  12  A34  A46  2096  A61  A74   2  A93  A101  ...  A121  49  A143   \n",
            "3  A11  42  A32  A42  7882  A61  A74   2  A93  A103  ...  A122  45  A143   \n",
            "4  A11  24  A33  A40  4870  A61  A73   3  A93  A101  ...  A124  53  A143   \n",
            "\n",
            "    x15 x16   x17 x18   x19   x20 Class  \n",
            "0  A152   2  A173   1  A192  A201     1  \n",
            "1  A152   1  A173   1  A191  A201     2  \n",
            "2  A152   1  A172   2  A191  A201     1  \n",
            "3  A153   1  A173   2  A191  A201     1  \n",
            "4  A153   2  A173   2  A191  A201     2  \n",
            "\n",
            "[5 rows x 21 columns]\n"
          ]
        }
      ]
    },
    {
      "cell_type": "markdown",
      "source": [
        "* Menggunakan pandas untuk membaca dataset dari file CSV dan menyimpannya dalam DataFrame bernama data.\n",
        "* data.head(): Menampilkan 5 baris pertama dari DataFrame untuk memberikan gambaran awal tentang data."
      ],
      "metadata": {
        "id": "hF8YCpxnhnE3"
      }
    },
    {
      "cell_type": "code",
      "source": [
        "# Melihat nama-nama kolom yang ada di dataset\n",
        "print(data.columns)\n"
      ],
      "metadata": {
        "colab": {
          "base_uri": "https://localhost:8080/"
        },
        "id": "sftzexXjWTWj",
        "outputId": "ce22cc43-77cc-4608-b05a-09a01bb40e5f"
      },
      "execution_count": 109,
      "outputs": [
        {
          "output_type": "stream",
          "name": "stdout",
          "text": [
            "Index(['x1', 'x2', 'x3', 'x4', 'x5', 'x6', 'x7', 'x8', 'x9', 'x10', 'x11',\n",
            "       'x12', 'x13', 'x14', 'x15', 'x16', 'x17', 'x18', 'x19', 'x20', 'Class'],\n",
            "      dtype='object')\n"
          ]
        }
      ]
    },
    {
      "cell_type": "markdown",
      "source": [
        "* data.columns: Menampilkan nama-nama kolom dalam DataFrame."
      ],
      "metadata": {
        "id": "_SP2BoTVdDXm"
      }
    },
    {
      "cell_type": "code",
      "source": [
        "# Misalkan kolom target adalah kolom yang digunakan untuk klasifikasi\n",
        "X = data.drop('Class', axis=1)  # Fitur\n",
        "y = data['Class']  # Target"
      ],
      "metadata": {
        "id": "J12QevFlhqtz"
      },
      "execution_count": 110,
      "outputs": []
    },
    {
      "cell_type": "markdown",
      "source": [
        "* Memisahkan fitur (X) dari target (y). Di sini, kolom 'Class' dianggap sebagai kolom target yang digunakan untuk klasifikasi. X adalah semua kolom kecuali 'Class', dan y adalah kolom 'Class'."
      ],
      "metadata": {
        "id": "wnzbFmnFdMo1"
      }
    },
    {
      "cell_type": "code",
      "source": [
        "# Ubah label target menjadi biner (0 dan 1)\n",
        "label_encoder = LabelEncoder()\n",
        "y = label_encoder.fit_transform(y)  # Mengubah label menjadi 0 dan 1"
      ],
      "metadata": {
        "id": "Afn_WLVgb1_p"
      },
      "execution_count": 111,
      "outputs": []
    },
    {
      "cell_type": "markdown",
      "source": [
        "* LabelEncoder digunakan untuk mengubah label target menjadi format numerik (biner). Misalnya, jika label aslinya adalah \"A\" dan \"B\", maka setelah di-encode menjadi 0 dan 1."
      ],
      "metadata": {
        "id": "95v0yyE-dQpv"
      }
    },
    {
      "cell_type": "code",
      "source": [
        "# Membagi dataset menjadi data latih (80%) dan data uji (20%)\n",
        "X_train, X_test, y_train, y_test = train_test_split(X, y, test_size=0.2, random_state=42)"
      ],
      "metadata": {
        "id": "1AxOiIaFh45l"
      },
      "execution_count": 112,
      "outputs": []
    },
    {
      "cell_type": "markdown",
      "source": [
        "* Menggunakan train_test_split untuk membagi dataset menjadi dua bagian: set pelatihan (80%) dan set pengujian (20%). random_state memastikan bahwa pembagian dapat direproduksi."
      ],
      "metadata": {
        "id": "JRcWN7YBdSUh"
      }
    },
    {
      "cell_type": "code",
      "source": [
        "# Mengidentifikasi kolom kategori\n",
        "kolom_kategori = X_train.select_dtypes(include=['object']).columns.tolist()\n"
      ],
      "metadata": {
        "id": "_ncHlmPpZ13V"
      },
      "execution_count": 113,
      "outputs": []
    },
    {
      "cell_type": "markdown",
      "source": [
        "* Mengidentifikasi kolom yang berisi data kategori (tipe objek) dari set pelatihan."
      ],
      "metadata": {
        "id": "7yFDVunFdWg-"
      }
    },
    {
      "cell_type": "code",
      "source": [
        "column_transformer = ColumnTransformer(\n",
        "    transformers=[('cat', OneHotEncoder(handle_unknown='ignore'), kolom_kategori)],\n",
        "    remainder='passthrough'  # Biarkan kolom lainnya tetap\n",
        ")\n"
      ],
      "metadata": {
        "id": "pKprjvywVkKq"
      },
      "execution_count": 114,
      "outputs": []
    },
    {
      "cell_type": "markdown",
      "source": [
        "* ColumnTransformer digunakan untuk menerapkan transformasi yang berbeda pada kolom yang berbeda. Di sini, OneHotEncoder digunakan untuk mengubah kolom kategori menjadi format numerik (binary), dan handle_unknown='ignore' memastikan bahwa kategori yang tidak dikenal diabaikan saat mentransformasi data.\n",
        "* remainder='passthrough' artinya kolom lainnya yang bukan kategori akan tetap dipertahankan tanpa perubahan."
      ],
      "metadata": {
        "id": "U0x8amond0GZ"
      }
    },
    {
      "cell_type": "code",
      "source": [
        "# Terapkan encoding ke data latih dan data uji\n",
        "X_train_encoded = column_transformer.fit_transform(X_train)\n",
        "X_test_encoded = column_transformer.transform(X_test)"
      ],
      "metadata": {
        "id": "qyT04yarVnxr"
      },
      "execution_count": 115,
      "outputs": []
    },
    {
      "cell_type": "markdown",
      "source": [
        "* fit_transform digunakan pada set pelatihan (X_train) untuk melatih OneHotEncoder dan menerapkan encoding pada data latih.\n",
        "* transform kemudian digunakan pada set pengujian (X_test) untuk menerapkan encoding yang sama tanpa melatih ulang encoder."
      ],
      "metadata": {
        "id": "6VBNXzaRd8mE"
      }
    },
    {
      "cell_type": "code",
      "source": [
        "# Melakukan scaling pada data yang sudah diencode\n",
        "scaler = StandardScaler(with_mean=False)\n",
        "X_train_scaled = scaler.fit_transform(X_train_encoded)\n",
        "X_test_scaled = scaler.transform(X_test_encoded)\n"
      ],
      "metadata": {
        "id": "yNWcNEHYh6yd"
      },
      "execution_count": 116,
      "outputs": []
    },
    {
      "cell_type": "markdown",
      "source": [
        "* StandardScaler: Digunakan untuk menstandarkan fitur dengan mengubah data sehingga memiliki mean (rata-rata) 0 dan varians 1. Namun, ketika menggunakan sparse matrices (seperti hasil dari OneHotEncoder), pengaturan with_mean=False diperlukan agar tidak terjadi kesalahan.\n",
        "* fit_transform: Menerapkan scaling pada data latih (X_train_encoded) dan menghitung parameter scaling (mean dan varians).\n",
        "* transform: Menerapkan scaling yang sama pada data uji (X_test_encoded) menggunakan parameter yang dihitung dari data latih."
      ],
      "metadata": {
        "id": "XUzUUOuAeYL8"
      }
    },
    {
      "cell_type": "code",
      "source": [
        "# Melakukan scaling pada data yang sudah diencode\n",
        "scaler = StandardScaler(with_mean=False)  # Pass dengan `with_mean=False` untuk sparse matrices\n",
        "X_train_scaled = scaler.fit_transform(X_train_encoded)\n",
        "X_test_scaled = scaler.transform(X_test_encoded)"
      ],
      "metadata": {
        "id": "8trR-J4Oh92v"
      },
      "execution_count": 117,
      "outputs": []
    },
    {
      "cell_type": "markdown",
      "source": [
        "* DecisionTreeClassifier: Membuat objek model Decision Tree.\n",
        "* fit: Melatih model menggunakan data latih yang sudah diencode (X_train_encoded) dan target (y_train).\n",
        "* predict: Memprediksi kelas untuk data uji (X_test_encoded)."
      ],
      "metadata": {
        "id": "NoyQ3nWjec_m"
      }
    },
    {
      "cell_type": "code",
      "source": [
        "# Model Decision Tree\n",
        "dt_model = DecisionTreeClassifier()\n",
        "dt_model.fit(X_train_encoded, y_train)\n",
        "y_pred_dt = dt_model.predict(X_test_encoded)"
      ],
      "metadata": {
        "id": "eQaqLxCoxyDs"
      },
      "execution_count": 118,
      "outputs": []
    },
    {
      "cell_type": "markdown",
      "source": [
        "* classification_report: Menampilkan laporan evaluasi model yang mencakup metrik seperti precision, recall, f1-score, dan support untuk setiap kelas.\n",
        "* confusion_matrix: Menghitung dan menampilkan matriks kebingungan (confusion matrix) yang menunjukkan jumlah prediksi yang benar dan salah untuk setiap kelas."
      ],
      "metadata": {
        "id": "Wmje-xuLelRR"
      }
    },
    {
      "cell_type": "code",
      "source": [
        "# Evaluasi model Decision Tree\n",
        "print(\"Evaluasi Model Decision Tree:\")\n",
        "print(classification_report(y_test, y_pred_dt))\n",
        "confusion_matrix_dt = confusion_matrix(y_test, y_pred_dt)\n",
        "print(\"Confusion Matrix:\")\n",
        "print(confusion_matrix_dt)"
      ],
      "metadata": {
        "colab": {
          "base_uri": "https://localhost:8080/"
        },
        "id": "cv53aw7jbHmy",
        "outputId": "4df5c297-1726-4790-f6c6-8ca244cc305f"
      },
      "execution_count": 119,
      "outputs": [
        {
          "output_type": "stream",
          "name": "stdout",
          "text": [
            "Evaluasi Model Decision Tree:\n",
            "              precision    recall  f1-score   support\n",
            "\n",
            "           0       0.78      0.77      0.77       141\n",
            "           1       0.47      0.49      0.48        59\n",
            "\n",
            "    accuracy                           0.69       200\n",
            "   macro avg       0.63      0.63      0.63       200\n",
            "weighted avg       0.69      0.69      0.69       200\n",
            "\n",
            "Confusion Matrix:\n",
            "[[108  33]\n",
            " [ 30  29]]\n"
          ]
        }
      ]
    },
    {
      "cell_type": "markdown",
      "source": [
        "* KNeighborsClassifier: Membuat objek model k-NN.\n",
        "* fit: Melatih model menggunakan data latih yang sudah diskalakan (X_train_scaled) dan target (y_train).\n",
        "* predict: Memprediksi kelas untuk data uji yang juga sudah diskalakan (X_test_scaled)."
      ],
      "metadata": {
        "id": "9-7LM5Tyeq6P"
      }
    },
    {
      "cell_type": "code",
      "source": [
        "# Model k-NN\n",
        "knn_model = KNeighborsClassifier()\n",
        "knn_model.fit(X_train_scaled, y_train)  # Gunakan data yang sudah diskalakan\n",
        "y_pred_knn = knn_model.predict(X_test_scaled)"
      ],
      "metadata": {
        "id": "hG3HCZ22x320"
      },
      "execution_count": 120,
      "outputs": []
    },
    {
      "cell_type": "markdown",
      "source": [
        "* Mirip dengan evaluasi untuk model Decision Tree, di sini Anda mengevaluasi performa model k-NN dengan menggunakan metrik yang sama."
      ],
      "metadata": {
        "id": "l1v6FmCYew3m"
      }
    },
    {
      "cell_type": "code",
      "source": [
        "# Evaluasi model k-NN\n",
        "print(\"\\nEvaluasi Model k-NN:\")\n",
        "print(classification_report(y_test, y_pred_knn))\n",
        "confusion_matrix_knn = confusion_matrix(y_test, y_pred_knn)\n",
        "print(\"Confusion Matrix:\")\n",
        "print(confusion_matrix_knn)"
      ],
      "metadata": {
        "id": "ez5xKAXRxWbE",
        "colab": {
          "base_uri": "https://localhost:8080/"
        },
        "outputId": "57198ebd-c8ab-4aee-f1cb-8b8eefac8af1"
      },
      "execution_count": 121,
      "outputs": [
        {
          "output_type": "stream",
          "name": "stdout",
          "text": [
            "\n",
            "Evaluasi Model k-NN:\n",
            "              precision    recall  f1-score   support\n",
            "\n",
            "           0       0.79      0.89      0.83       141\n",
            "           1       0.61      0.42      0.50        59\n",
            "\n",
            "    accuracy                           0.75       200\n",
            "   macro avg       0.70      0.66      0.67       200\n",
            "weighted avg       0.73      0.75      0.73       200\n",
            "\n",
            "Confusion Matrix:\n",
            "[[125  16]\n",
            " [ 34  25]]\n"
          ]
        }
      ]
    },
    {
      "cell_type": "markdown",
      "source": [
        "* Mirip dengan evaluasi untuk model Decision Tree, di sini Anda mengevaluasi performa model k-NN dengan menggunakan metrik yang sama.\n"
      ],
      "metadata": {
        "id": "iYWEL7Rhe0Wo"
      }
    },
    {
      "cell_type": "code",
      "source": [
        "# Menghitung AUC\n",
        "y_pred_proba_dt = dt_model.predict_proba(X_test_encoded)[:, 1]  # Ambil probabilitas positif\n",
        "y_pred_proba_knn = knn_model.predict_proba(X_test_scaled)[:, 1]\n",
        "auc_dt = roc_auc_score(y_test, y_pred_proba_dt)\n",
        "auc_knn = roc_auc_score(y_test, y_pred_proba_knn)\n",
        "\n",
        "print(f\"\\nAUC Decision Tree: {auc_dt}\")\n",
        "print(f\"AUC k-NN: {auc_knn}\")"
      ],
      "metadata": {
        "id": "n2wCbm5hxY_Z",
        "colab": {
          "base_uri": "https://localhost:8080/"
        },
        "outputId": "12cd85d7-316e-4318-c379-b8fb4ef2138d"
      },
      "execution_count": 122,
      "outputs": [
        {
          "output_type": "stream",
          "name": "stdout",
          "text": [
            "\n",
            "AUC Decision Tree: 0.6287414352686621\n",
            "AUC k-NN: 0.7294746964779419\n"
          ]
        }
      ]
    },
    {
      "cell_type": "markdown",
      "source": [
        "* predict_proba: Mengembalikan probabilitas dari setiap kelas untuk setiap prediksi. Di sini, Anda mengambil probabilitas dari kelas positif (indeks 1).\n",
        "* roc_auc_score: Menghitung nilai AUC untuk kedua model, yang menunjukkan seberapa baik model membedakan antara kelas positif dan negatif. Nilai AUC berkisar antara 0 hingga 1, di mana nilai mendekati 1 menunjukkan model yang baik."
      ],
      "metadata": {
        "id": "zrSuMW73fRnT"
      }
    },
    {
      "cell_type": "code",
      "source": [
        "# Plot ROC Curve (optional)\n",
        "fpr_dt, tpr_dt, _ = roc_curve(y_test, y_pred_proba_dt)\n",
        "fpr_knn, tpr_knn, _ = roc_curve(y_test, y_pred_proba_knn)\n",
        "\n",
        "plt.figure()\n",
        "plt.plot(fpr_dt, tpr_dt, label='ROC Curve Decision Tree (area = %0.2f)' % auc_dt)\n",
        "plt.plot(fpr_knn, tpr_knn, label='ROC Curve k-NN (area = %0.2f)' % auc_knn)\n",
        "plt.plot([0, 1], [0, 1], 'k--')\n",
        "plt.xlim([0.0, 1.0])\n",
        "plt.ylim([0.0, 1.05])\n",
        "plt.xlabel('False Positive Rate')\n",
        "plt.ylabel('True Positive Rate')\n",
        "plt.title('Receiver Operating Characteristic')\n",
        "plt.legend(loc=\"lower right\")\n",
        "plt.show()"
      ],
      "metadata": {
        "colab": {
          "base_uri": "https://localhost:8080/",
          "height": 472
        },
        "id": "wcbXSecpxcns",
        "outputId": "9f159257-8be6-4d79-838c-76c42db0d92c"
      },
      "execution_count": 123,
      "outputs": [
        {
          "output_type": "display_data",
          "data": {
            "text/plain": [
              "<Figure size 640x480 with 1 Axes>"
            ],
            "image/png": "[encoded data removed]"
          },
          "metadata": {}
        }
      ]
    },
    {
      "cell_type": "markdown",
      "source": [
        "* roc_curve: Menghitung false positive rate (FPR) dan true positive rate (TPR) untuk setiap threshold. Ini diperlukan untuk menggambar kurva ROC.\n",
        "* plt.plot: Menggambar kurva ROC untuk masing-masing model. Kurva ROC menggambarkan hubungan antara FPR dan TPR.\n",
        "* plt.show(): Menampilkan plot kurva ROC."
      ],
      "metadata": {
        "id": "g0Bk_7erfU38"
      }
    }
  ]
}