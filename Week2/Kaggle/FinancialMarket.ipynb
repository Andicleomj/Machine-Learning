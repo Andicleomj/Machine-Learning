{
  "nbformat": 4,
  "nbformat_minor": 0,
  "metadata": {
    "colab": {
      "provenance": [],
      "authorship_tag": "ABX9TyNZYt9MUXfZbvKeR0maFy4P",
      "include_colab_link": true
    },
    "kernelspec": {
      "name": "python3",
      "display_name": "Python 3"
    },
    "language_info": {
      "name": "python"
    }
  },
  "cells": [
    {
      "cell_type": "markdown",
      "metadata": {
        "id": "view-in-github",
        "colab_type": "text"
      },
      "source": [
        "<a href=\"https://colab.research.google.com/github/Andicleomj/Machine-Learning/blob/main/Week2/Kaggle/FinancialMarket.ipynb\" target=\"_parent\"><img src=\"https://colab.research.google.com/assets/colab-badge.svg\" alt=\"Open In Colab\"/></a>"
      ]
    },
    {
      "cell_type": "code",
      "execution_count": null,
      "metadata": {
        "id": "Zk7V1_RM6bib"
      },
      "outputs": [],
      "source": [
        "# Import libraries yang diperlukan\n",
        "import pandas as pd                             # Untuk mengelola dataset\n",
        "import numpy as np                              # Untuk operasi numerik\n",
        "from sklearn.model_selection import train_test_split  # Untuk membagi data menjadi train dan test set\n",
        "from sklearn.preprocessing import PolynomialFeatures  # Untuk membuat fitur basis polinomial\n",
        "from sklearn.linear_model import LinearRegression     # Untuk model regresi linear\n",
        "from sklearn.metrics import mean_squared_error, r2_score  # Untuk evaluasi kinerja model\n",
        "import matplotlib.pyplot as plt                 # Untuk visualisasi"
      ]
    },
    {
      "cell_type": "markdown",
      "source": [
        "* pandas (pd): Library yang digunakan untuk membaca, mengelola, dan memanipulasi data dalam bentuk tabel.\n",
        "* numpy (np): Library untuk operasi numerik, seperti operasi pada array dan fungsi matematika.\n",
        "* train_test_split: Fungsi dari sklearn yang digunakan untuk membagi dataset menjadi data latih (train set) dan data uji (test set).\n",
        "* PolynomialFeatures: Digunakan untuk membuat fitur-fitur tambahan berbasis polinomial dari fitur-fitur awal. Ini diperlukan untuk regresi dengan basis fungsi polinomial.\n",
        "* LinearRegression: Model regresi linear dari sklearn untuk memprediksi hubungan linier antara fitur dan target.\n",
        "* mean_squared_error, r2_score: Metrik evaluasi yang digunakan untuk mengevaluasi performa model regresi.\n",
        "* matplotlib.pyplot (plt): Digunakan untuk membuat visualisasi data dan hasil model."
      ],
      "metadata": {
        "id": "BihAyJCOARBA"
      }
    },
    {
      "cell_type": "code",
      "source": [
        "# Load dataset\n",
        "# Pastikan file FinancialMarket.csv ada di direktori yang sama atau masukkan path yang sesuai.\n",
        "data = pd.read_csv(\"/content/sample_data/FinancialMarket.csv\")"
      ],
      "metadata": {
        "id": "r94MV5BA7Bmk"
      },
      "execution_count": null,
      "outputs": []
    },
    {
      "cell_type": "markdown",
      "source": [
        "* Kode ini digunakan untuk membaca file CSV yang berisi data FinancialMarket.csv dan menyimpannya dalam variabel data sebagai DataFrame."
      ],
      "metadata": {
        "id": "pspcxABbAp8F"
      }
    },
    {
      "cell_type": "code",
      "source": [
        "#Menampilkan beberapa baris pertama dataset untuk memahami strukturnya\n",
        "print(\"Data Awal: \\n\", data.head())"
      ],
      "metadata": {
        "colab": {
          "base_uri": "https://localhost:8080/"
        },
        "id": "WJ_cnDIy7Yjt",
        "outputId": "e64ff529-0f29-41ff-da79-c7e222afdb84"
      },
      "execution_count": null,
      "outputs": [
        {
          "output_type": "stream",
          "name": "stdout",
          "text": [
            "Data Awal: \n",
            "          x  combined_data\n",
            "0  0.00000       0.003073\n",
            "1  0.01001       0.033492\n",
            "2  0.02002      -0.027269\n",
            "3  0.03003       0.176319\n",
            "4  0.04004      -0.006027\n"
          ]
        }
      ]
    },
    {
      "cell_type": "markdown",
      "source": [
        "* data.head(): Menampilkan 5 baris pertama dari dataset data untuk memberikan gambaran awal tentang struktur dan isi dataset."
      ],
      "metadata": {
        "id": "veOH-0HmAroC"
      }
    },
    {
      "cell_type": "code",
      "source": [
        "# Memeriksa missing values dalam dataset\n",
        "print(\"\\nMissing Values:\\n\", data.isnull().sum())"
      ],
      "metadata": {
        "colab": {
          "base_uri": "https://localhost:8080/"
        },
        "id": "igtnPjOe7cU4",
        "outputId": "4af2f212-4ccc-4e2d-ff5b-9f645e285de0"
      },
      "execution_count": null,
      "outputs": [
        {
          "output_type": "stream",
          "name": "stdout",
          "text": [
            "\n",
            "Missing Values:\n",
            " x                0\n",
            "combined_data    0\n",
            "dtype: int64\n"
          ]
        }
      ]
    },
    {
      "cell_type": "markdown",
      "source": [
        "* data.isnull().sum(): Memeriksa apakah terdapat nilai yang hilang (missing values) di setiap kolom."
      ],
      "metadata": {
        "id": "qrOMNMb5A1A1"
      }
    },
    {
      "cell_type": "code",
      "source": [
        "# Mengisi missing values jika ada (contoh: dengan mean, median, atau metode lainnya)\n",
        "data.fillna(data.mean(), inplace=True)"
      ],
      "metadata": {
        "id": "3BgqsPtC7faI"
      },
      "execution_count": null,
      "outputs": []
    },
    {
      "cell_type": "markdown",
      "source": [
        "* data.fillna(data.mean(), inplace=True): Mengisi nilai yang hilang pada dataset dengan nilai rata-rata (mean) dari setiap kolom.\n",
        "* data.mean() akan menghitung rata-rata dari setiap kolom dan fillna() akan mengganti missing values (jika ada) dengan rata-rata tersebut.\n",
        "* inplace=True berarti penggantian dilakukan langsung pada DataFrame data tanpa membuat salinan.\n",
        "* Ini adalah salah satu cara untuk menangani missing values, tetapi metode lain seperti menggunakan median atau metode imputation juga dapat dipertimbangkan tergantung karakteristik data."
      ],
      "metadata": {
        "id": "p3BL6sCFA7nn"
      }
    },
    {
      "cell_type": "code",
      "source": [
        "# Memisahkan fitur dan target\n",
        "# Asumsikan bahwa kolom terakhir adalah target, dan yang lain sebagai fitur\n",
        "X = data.iloc[:, :-1].values  # Semua kolom kecuali yang terakhir sebagai fitur\n",
        "y = data.iloc[:, -1].values   # Kolom terakhir sebagai target\n"
      ],
      "metadata": {
        "id": "4AfIhfwj7i77"
      },
      "execution_count": null,
      "outputs": []
    },
    {
      "cell_type": "markdown",
      "source": [
        "* X: Menyimpan fitur-fitur (input) dari dataset. data.iloc[:, :-1].values berarti mengambil semua kolom kecuali kolom terakhir.\n",
        "* y: Menyimpan target (output) dari dataset. data.iloc[:, -1].values berarti mengambil kolom terakhir dari dataset.\n",
        "* iloc: Digunakan untuk indexing berdasarkan posisi. : artinya semua baris, :-1 artinya semua kolom kecuali kolom terakhir.\n",
        "* values: Digunakan untuk mengubah DataFrame menjadi array numpy, yang merupakan format standar untuk digunakan di sklearn."
      ],
      "metadata": {
        "id": "ls3R-BFnBKoU"
      }
    },
    {
      "cell_type": "code",
      "source": [
        "# Membagi dataset menjadi train dan test set (rasio 70:30)\n",
        "X_train, X_test, y_train, y_test = train_test_split(X, y, test_size=0.3, random_state=42)\n"
      ],
      "metadata": {
        "id": "aWTvM0ei7mDK"
      },
      "execution_count": null,
      "outputs": []
    },
    {
      "cell_type": "markdown",
      "source": [
        "* X: Fitur-fitur pada dataset (independent variables).\n",
        "* y: Target (kolom yang ingin diprediksi, dependent variable).\n",
        "test_size=0.3: Menentukan proporsi data uji menjadi 30% dari total dataset, sedangkan sisanya 70% untuk data latih.\n",
        "* random_state=42: Seed yang digunakan untuk pembagian data secara acak agar hasilnya bisa direplikasi. Ini memastikan bahwa setiap kali kode dijalankan, data akan terbagi dengan cara yang sama."
      ],
      "metadata": {
        "id": "ZaaM8axRCM8x"
      }
    },
    {
      "cell_type": "code",
      "source": [
        "# 1. Regresi Linear Sederhana\n",
        "# Membangun model regresi linear sederhana\n",
        "linear_model = LinearRegression()\n",
        "linear_model.fit(X_train, y_train)  # Melatih model menggunakan data latih"
      ],
      "metadata": {
        "colab": {
          "base_uri": "https://localhost:8080/",
          "height": 80
        },
        "id": "kFFvBxEb7psG",
        "outputId": "886f52c1-912c-495f-8788-b30bce676aee"
      },
      "execution_count": null,
      "outputs": [
        {
          "output_type": "execute_result",
          "data": {
            "text/plain": [
              "LinearRegression()"
            ],
            "text/html": [
              "<style>#sk-container-id-1 {\n",
              "  /* Definition of color scheme common for light and dark mode */\n",
              "  --sklearn-color-text: black;\n",
              "  --sklearn-color-line: gray;\n",
              "  /* Definition of color scheme for unfitted estimators */\n",
              "  --sklearn-color-unfitted-level-0: #fff5e6;\n",
              "  --sklearn-color-unfitted-level-1: #f6e4d2;\n",
              "  --sklearn-color-unfitted-level-2: #ffe0b3;\n",
              "  --sklearn-color-unfitted-level-3: chocolate;\n",
              "  /* Definition of color scheme for fitted estimators */\n",
              "  --sklearn-color-fitted-level-0: #f0f8ff;\n",
              "  --sklearn-color-fitted-level-1: #d4ebff;\n",
              "  --sklearn-color-fitted-level-2: #b3dbfd;\n",
              "  --sklearn-color-fitted-level-3: cornflowerblue;\n",
              "\n",
              "  /* Specific color for light theme */\n",
              "  --sklearn-color-text-on-default-background: var(--sg-text-color, var(--theme-code-foreground, var(--jp-content-font-color1, black)));\n",
              "  --sklearn-color-background: var(--sg-background-color, var(--theme-background, var(--jp-layout-color0, white)));\n",
              "  --sklearn-color-border-box: var(--sg-text-color, var(--theme-code-foreground, var(--jp-content-font-color1, black)));\n",
              "  --sklearn-color-icon: #696969;\n",
              "\n",
              "  @media (prefers-color-scheme: dark) {\n",
              "    /* Redefinition of color scheme for dark theme */\n",
              "    --sklearn-color-text-on-default-background: var(--sg-text-color, var(--theme-code-foreground, var(--jp-content-font-color1, white)));\n",
              "    --sklearn-color-background: var(--sg-background-color, var(--theme-background, var(--jp-layout-color0, #111)));\n",
              "    --sklearn-color-border-box: var(--sg-text-color, var(--theme-code-foreground, var(--jp-content-font-color1, white)));\n",
              "    --sklearn-color-icon: #878787;\n",
              "  }\n",
              "}\n",
              "\n",
              "#sk-container-id-1 {\n",
              "  color: var(--sklearn-color-text);\n",
              "}\n",
              "\n",
              "#sk-container-id-1 pre {\n",
              "  padding: 0;\n",
              "}\n",
              "\n",
              "#sk-container-id-1 input.sk-hidden--visually {\n",
              "  border: 0;\n",
              "  clip: rect(1px 1px 1px 1px);\n",
              "  clip: rect(1px, 1px, 1px, 1px);\n",
              "  height: 1px;\n",
              "  margin: -1px;\n",
              "  overflow: hidden;\n",
              "  padding: 0;\n",
              "  position: absolute;\n",
              "  width: 1px;\n",
              "}\n",
              "\n",
              "#sk-container-id-1 div.sk-dashed-wrapped {\n",
              "  border: 1px dashed var(--sklearn-color-line);\n",
              "  margin: 0 0.4em 0.5em 0.4em;\n",
              "  box-sizing: border-box;\n",
              "  padding-bottom: 0.4em;\n",
              "  background-color: var(--sklearn-color-background);\n",
              "}\n",
              "\n",
              "#sk-container-id-1 div.sk-container {\n",
              "  /* jupyter's `normalize.less` sets `[hidden] { display: none; }`\n",
              "     but bootstrap.min.css set `[hidden] { display: none !important; }`\n",
              "     so we also need the `!important` here to be able to override the\n",
              "     default hidden behavior on the sphinx rendered scikit-learn.org.\n",
              "     See: https://github.com/scikit-learn/scikit-learn/issues/21755 */\n",
              "  display: inline-block !important;\n",
              "  position: relative;\n",
              "}\n",
              "\n",
              "#sk-container-id-1 div.sk-text-repr-fallback {\n",
              "  display: none;\n",
              "}\n",
              "\n",
              "div.sk-parallel-item,\n",
              "div.sk-serial,\n",
              "div.sk-item {\n",
              "  /* draw centered vertical line to link estimators */\n",
              "  background-image: linear-gradient(var(--sklearn-color-text-on-default-background), var(--sklearn-color-text-on-default-background));\n",
              "  background-size: 2px 100%;\n",
              "  background-repeat: no-repeat;\n",
              "  background-position: center center;\n",
              "}\n",
              "\n",
              "/* Parallel-specific style estimator block */\n",
              "\n",
              "#sk-container-id-1 div.sk-parallel-item::after {\n",
              "  content: \"\";\n",
              "  width: 100%;\n",
              "  border-bottom: 2px solid var(--sklearn-color-text-on-default-background);\n",
              "  flex-grow: 1;\n",
              "}\n",
              "\n",
              "#sk-container-id-1 div.sk-parallel {\n",
              "  display: flex;\n",
              "  align-items: stretch;\n",
              "  justify-content: center;\n",
              "  background-color: var(--sklearn-color-background);\n",
              "  position: relative;\n",
              "}\n",
              "\n",
              "#sk-container-id-1 div.sk-parallel-item {\n",
              "  display: flex;\n",
              "  flex-direction: column;\n",
              "}\n",
              "\n",
              "#sk-container-id-1 div.sk-parallel-item:first-child::after {\n",
              "  align-self: flex-end;\n",
              "  width: 50%;\n",
              "}\n",
              "\n",
              "#sk-container-id-1 div.sk-parallel-item:last-child::after {\n",
              "  align-self: flex-start;\n",
              "  width: 50%;\n",
              "}\n",
              "\n",
              "#sk-container-id-1 div.sk-parallel-item:only-child::after {\n",
              "  width: 0;\n",
              "}\n",
              "\n",
              "/* Serial-specific style estimator block */\n",
              "\n",
              "#sk-container-id-1 div.sk-serial {\n",
              "  display: flex;\n",
              "  flex-direction: column;\n",
              "  align-items: center;\n",
              "  background-color: var(--sklearn-color-background);\n",
              "  padding-right: 1em;\n",
              "  padding-left: 1em;\n",
              "}\n",
              "\n",
              "\n",
              "/* Toggleable style: style used for estimator/Pipeline/ColumnTransformer box that is\n",
              "clickable and can be expanded/collapsed.\n",
              "- Pipeline and ColumnTransformer use this feature and define the default style\n",
              "- Estimators will overwrite some part of the style using the `sk-estimator` class\n",
              "*/\n",
              "\n",
              "/* Pipeline and ColumnTransformer style (default) */\n",
              "\n",
              "#sk-container-id-1 div.sk-toggleable {\n",
              "  /* Default theme specific background. It is overwritten whether we have a\n",
              "  specific estimator or a Pipeline/ColumnTransformer */\n",
              "  background-color: var(--sklearn-color-background);\n",
              "}\n",
              "\n",
              "/* Toggleable label */\n",
              "#sk-container-id-1 label.sk-toggleable__label {\n",
              "  cursor: pointer;\n",
              "  display: block;\n",
              "  width: 100%;\n",
              "  margin-bottom: 0;\n",
              "  padding: 0.5em;\n",
              "  box-sizing: border-box;\n",
              "  text-align: center;\n",
              "}\n",
              "\n",
              "#sk-container-id-1 label.sk-toggleable__label-arrow:before {\n",
              "  /* Arrow on the left of the label */\n",
              "  content: \"▸\";\n",
              "  float: left;\n",
              "  margin-right: 0.25em;\n",
              "  color: var(--sklearn-color-icon);\n",
              "}\n",
              "\n",
              "#sk-container-id-1 label.sk-toggleable__label-arrow:hover:before {\n",
              "  color: var(--sklearn-color-text);\n",
              "}\n",
              "\n",
              "/* Toggleable content - dropdown */\n",
              "\n",
              "#sk-container-id-1 div.sk-toggleable__content {\n",
              "  max-height: 0;\n",
              "  max-width: 0;\n",
              "  overflow: hidden;\n",
              "  text-align: left;\n",
              "  /* unfitted */\n",
              "  background-color: var(--sklearn-color-unfitted-level-0);\n",
              "}\n",
              "\n",
              "#sk-container-id-1 div.sk-toggleable__content.fitted {\n",
              "  /* fitted */\n",
              "  background-color: var(--sklearn-color-fitted-level-0);\n",
              "}\n",
              "\n",
              "#sk-container-id-1 div.sk-toggleable__content pre {\n",
              "  margin: 0.2em;\n",
              "  border-radius: 0.25em;\n",
              "  color: var(--sklearn-color-text);\n",
              "  /* unfitted */\n",
              "  background-color: var(--sklearn-color-unfitted-level-0);\n",
              "}\n",
              "\n",
              "#sk-container-id-1 div.sk-toggleable__content.fitted pre {\n",
              "  /* unfitted */\n",
              "  background-color: var(--sklearn-color-fitted-level-0);\n",
              "}\n",
              "\n",
              "#sk-container-id-1 input.sk-toggleable__control:checked~div.sk-toggleable__content {\n",
              "  /* Expand drop-down */\n",
              "  max-height: 200px;\n",
              "  max-width: 100%;\n",
              "  overflow: auto;\n",
              "}\n",
              "\n",
              "#sk-container-id-1 input.sk-toggleable__control:checked~label.sk-toggleable__label-arrow:before {\n",
              "  content: \"▾\";\n",
              "}\n",
              "\n",
              "/* Pipeline/ColumnTransformer-specific style */\n",
              "\n",
              "#sk-container-id-1 div.sk-label input.sk-toggleable__control:checked~label.sk-toggleable__label {\n",
              "  color: var(--sklearn-color-text);\n",
              "  background-color: var(--sklearn-color-unfitted-level-2);\n",
              "}\n",
              "\n",
              "#sk-container-id-1 div.sk-label.fitted input.sk-toggleable__control:checked~label.sk-toggleable__label {\n",
              "  background-color: var(--sklearn-color-fitted-level-2);\n",
              "}\n",
              "\n",
              "/* Estimator-specific style */\n",
              "\n",
              "/* Colorize estimator box */\n",
              "#sk-container-id-1 div.sk-estimator input.sk-toggleable__control:checked~label.sk-toggleable__label {\n",
              "  /* unfitted */\n",
              "  background-color: var(--sklearn-color-unfitted-level-2);\n",
              "}\n",
              "\n",
              "#sk-container-id-1 div.sk-estimator.fitted input.sk-toggleable__control:checked~label.sk-toggleable__label {\n",
              "  /* fitted */\n",
              "  background-color: var(--sklearn-color-fitted-level-2);\n",
              "}\n",
              "\n",
              "#sk-container-id-1 div.sk-label label.sk-toggleable__label,\n",
              "#sk-container-id-1 div.sk-label label {\n",
              "  /* The background is the default theme color */\n",
              "  color: var(--sklearn-color-text-on-default-background);\n",
              "}\n",
              "\n",
              "/* On hover, darken the color of the background */\n",
              "#sk-container-id-1 div.sk-label:hover label.sk-toggleable__label {\n",
              "  color: var(--sklearn-color-text);\n",
              "  background-color: var(--sklearn-color-unfitted-level-2);\n",
              "}\n",
              "\n",
              "/* Label box, darken color on hover, fitted */\n",
              "#sk-container-id-1 div.sk-label.fitted:hover label.sk-toggleable__label.fitted {\n",
              "  color: var(--sklearn-color-text);\n",
              "  background-color: var(--sklearn-color-fitted-level-2);\n",
              "}\n",
              "\n",
              "/* Estimator label */\n",
              "\n",
              "#sk-container-id-1 div.sk-label label {\n",
              "  font-family: monospace;\n",
              "  font-weight: bold;\n",
              "  display: inline-block;\n",
              "  line-height: 1.2em;\n",
              "}\n",
              "\n",
              "#sk-container-id-1 div.sk-label-container {\n",
              "  text-align: center;\n",
              "}\n",
              "\n",
              "/* Estimator-specific */\n",
              "#sk-container-id-1 div.sk-estimator {\n",
              "  font-family: monospace;\n",
              "  border: 1px dotted var(--sklearn-color-border-box);\n",
              "  border-radius: 0.25em;\n",
              "  box-sizing: border-box;\n",
              "  margin-bottom: 0.5em;\n",
              "  /* unfitted */\n",
              "  background-color: var(--sklearn-color-unfitted-level-0);\n",
              "}\n",
              "\n",
              "#sk-container-id-1 div.sk-estimator.fitted {\n",
              "  /* fitted */\n",
              "  background-color: var(--sklearn-color-fitted-level-0);\n",
              "}\n",
              "\n",
              "/* on hover */\n",
              "#sk-container-id-1 div.sk-estimator:hover {\n",
              "  /* unfitted */\n",
              "  background-color: var(--sklearn-color-unfitted-level-2);\n",
              "}\n",
              "\n",
              "#sk-container-id-1 div.sk-estimator.fitted:hover {\n",
              "  /* fitted */\n",
              "  background-color: var(--sklearn-color-fitted-level-2);\n",
              "}\n",
              "\n",
              "/* Specification for estimator info (e.g. \"i\" and \"?\") */\n",
              "\n",
              "/* Common style for \"i\" and \"?\" */\n",
              "\n",
              ".sk-estimator-doc-link,\n",
              "a:link.sk-estimator-doc-link,\n",
              "a:visited.sk-estimator-doc-link {\n",
              "  float: right;\n",
              "  font-size: smaller;\n",
              "  line-height: 1em;\n",
              "  font-family: monospace;\n",
              "  background-color: var(--sklearn-color-background);\n",
              "  border-radius: 1em;\n",
              "  height: 1em;\n",
              "  width: 1em;\n",
              "  text-decoration: none !important;\n",
              "  margin-left: 1ex;\n",
              "  /* unfitted */\n",
              "  border: var(--sklearn-color-unfitted-level-1) 1pt solid;\n",
              "  color: var(--sklearn-color-unfitted-level-1);\n",
              "}\n",
              "\n",
              ".sk-estimator-doc-link.fitted,\n",
              "a:link.sk-estimator-doc-link.fitted,\n",
              "a:visited.sk-estimator-doc-link.fitted {\n",
              "  /* fitted */\n",
              "  border: var(--sklearn-color-fitted-level-1) 1pt solid;\n",
              "  color: var(--sklearn-color-fitted-level-1);\n",
              "}\n",
              "\n",
              "/* On hover */\n",
              "div.sk-estimator:hover .sk-estimator-doc-link:hover,\n",
              ".sk-estimator-doc-link:hover,\n",
              "div.sk-label-container:hover .sk-estimator-doc-link:hover,\n",
              ".sk-estimator-doc-link:hover {\n",
              "  /* unfitted */\n",
              "  background-color: var(--sklearn-color-unfitted-level-3);\n",
              "  color: var(--sklearn-color-background);\n",
              "  text-decoration: none;\n",
              "}\n",
              "\n",
              "div.sk-estimator.fitted:hover .sk-estimator-doc-link.fitted:hover,\n",
              ".sk-estimator-doc-link.fitted:hover,\n",
              "div.sk-label-container:hover .sk-estimator-doc-link.fitted:hover,\n",
              ".sk-estimator-doc-link.fitted:hover {\n",
              "  /* fitted */\n",
              "  background-color: var(--sklearn-color-fitted-level-3);\n",
              "  color: var(--sklearn-color-background);\n",
              "  text-decoration: none;\n",
              "}\n",
              "\n",
              "/* Span, style for the box shown on hovering the info icon */\n",
              ".sk-estimator-doc-link span {\n",
              "  display: none;\n",
              "  z-index: 9999;\n",
              "  position: relative;\n",
              "  font-weight: normal;\n",
              "  right: .2ex;\n",
              "  padding: .5ex;\n",
              "  margin: .5ex;\n",
              "  width: min-content;\n",
              "  min-width: 20ex;\n",
              "  max-width: 50ex;\n",
              "  color: var(--sklearn-color-text);\n",
              "  box-shadow: 2pt 2pt 4pt #999;\n",
              "  /* unfitted */\n",
              "  background: var(--sklearn-color-unfitted-level-0);\n",
              "  border: .5pt solid var(--sklearn-color-unfitted-level-3);\n",
              "}\n",
              "\n",
              ".sk-estimator-doc-link.fitted span {\n",
              "  /* fitted */\n",
              "  background: var(--sklearn-color-fitted-level-0);\n",
              "  border: var(--sklearn-color-fitted-level-3);\n",
              "}\n",
              "\n",
              ".sk-estimator-doc-link:hover span {\n",
              "  display: block;\n",
              "}\n",
              "\n",
              "/* \"?\"-specific style due to the `<a>` HTML tag */\n",
              "\n",
              "#sk-container-id-1 a.estimator_doc_link {\n",
              "  float: right;\n",
              "  font-size: 1rem;\n",
              "  line-height: 1em;\n",
              "  font-family: monospace;\n",
              "  background-color: var(--sklearn-color-background);\n",
              "  border-radius: 1rem;\n",
              "  height: 1rem;\n",
              "  width: 1rem;\n",
              "  text-decoration: none;\n",
              "  /* unfitted */\n",
              "  color: var(--sklearn-color-unfitted-level-1);\n",
              "  border: var(--sklearn-color-unfitted-level-1) 1pt solid;\n",
              "}\n",
              "\n",
              "#sk-container-id-1 a.estimator_doc_link.fitted {\n",
              "  /* fitted */\n",
              "  border: var(--sklearn-color-fitted-level-1) 1pt solid;\n",
              "  color: var(--sklearn-color-fitted-level-1);\n",
              "}\n",
              "\n",
              "/* On hover */\n",
              "#sk-container-id-1 a.estimator_doc_link:hover {\n",
              "  /* unfitted */\n",
              "  background-color: var(--sklearn-color-unfitted-level-3);\n",
              "  color: var(--sklearn-color-background);\n",
              "  text-decoration: none;\n",
              "}\n",
              "\n",
              "#sk-container-id-1 a.estimator_doc_link.fitted:hover {\n",
              "  /* fitted */\n",
              "  background-color: var(--sklearn-color-fitted-level-3);\n",
              "}\n",
              "</style><div id=\"sk-container-id-1\" class=\"sk-top-container\"><div class=\"sk-text-repr-fallback\"><pre>LinearRegression()</pre><b>In a Jupyter environment, please rerun this cell to show the HTML representation or trust the notebook. <br />On GitHub, the HTML representation is unable to render, please try loading this page with nbviewer.org.</b></div><div class=\"sk-container\" hidden><div class=\"sk-item\"><div class=\"sk-estimator fitted sk-toggleable\"><input class=\"sk-toggleable__control sk-hidden--visually\" id=\"sk-estimator-id-1\" type=\"checkbox\" checked><label for=\"sk-estimator-id-1\" class=\"sk-toggleable__label fitted sk-toggleable__label-arrow fitted\">&nbsp;&nbsp;LinearRegression<a class=\"sk-estimator-doc-link fitted\" rel=\"noreferrer\" target=\"_blank\" href=\"https://scikit-learn.org/1.5/modules/generated/sklearn.linear_model.LinearRegression.html\">?<span>Documentation for LinearRegression</span></a><span class=\"sk-estimator-doc-link fitted\">i<span>Fitted</span></span></label><div class=\"sk-toggleable__content fitted\"><pre>LinearRegression()</pre></div> </div></div></div></div>"
            ]
          },
          "metadata": {},
          "execution_count": 10
        }
      ]
    },
    {
      "cell_type": "markdown",
      "source": [
        "* linear_model = LinearRegression(): Membuat objek dari model regresi linear (LinearRegression).\n",
        "* linear_model.fit(X_train, y_train): Melatih model dengan data latih, di mana X_train adalah fitur latih dan y_train adalah target latih.\n",
        "* Tujuannya adalah agar model mempelajari hubungan linier antara fitur dan target, sehingga dapat memprediksi nilai target berdasarkan input fitur."
      ],
      "metadata": {
        "id": "q8tG3GlwCZEr"
      }
    },
    {
      "cell_type": "code",
      "source": [
        "# Prediksi pada data uji\n",
        "y_pred_simple = linear_model.predict(X_test)"
      ],
      "metadata": {
        "id": "0wZ-rojx7uku"
      },
      "execution_count": null,
      "outputs": []
    },
    {
      "cell_type": "markdown",
      "source": [
        "* y_pred_simple: Menyimpan hasil prediksi dari model regresi linear sederhana pada data uji X_test.\n",
        "* linear_model.predict(X_test): Menggunakan model yang telah dilatih (linear_model) untuk memprediksi nilai target (y_test) berdasarkan fitur-fitur pada data uji (X_test)."
      ],
      "metadata": {
        "id": "8vN7Dl9OCfD4"
      }
    },
    {
      "cell_type": "code",
      "source": [
        "# Menghitung metrik evaluasi untuk Regresi Linear Sederhana\n",
        "mse_simple = mean_squared_error(y_test, y_pred_simple)        # Mean Squared Error\n",
        "rmse_simple = np.sqrt(mse_simple)                            # Root Mean Squared Error\n",
        "r2_simple = r2_score(y_test, y_pred_simple)                  # R-Squared"
      ],
      "metadata": {
        "id": "g3yiXkKv7z6i"
      },
      "execution_count": null,
      "outputs": []
    },
    {
      "cell_type": "markdown",
      "source": [
        "* mean_squared_error(y_test, y_pred_simple): Menghitung rata-rata kuadrat dari selisih antara nilai aktual (y_test) dan nilai prediksi (y_pred_simple).\n",
        "* RMSE (Root Mean Squared Error):\n",
        "np.sqrt(mse_simple): Menghitung akar kuadrat dari MSE.\n",
        "* R-Squared (R²):\n",
        "r2_score(y_test, y_pred_simple): Menghitung koefisien determinasi (R²) yang mengukur proporsi variabilitas dalam target yang dapat dijelaskan oleh fitur-fitur dalam model."
      ],
      "metadata": {
        "id": "pGFJz78ICso5"
      }
    },
    {
      "cell_type": "code",
      "source": [
        "print(\"\\n===== Regresi Linear Sederhana =====\")\n",
        "print(\"MSE (Mean Squared Error):\", mse_simple)\n",
        "print(\"RMSE (Root Mean Squared Error):\", rmse_simple)\n",
        "print(\"R-Squared:\", r2_simple)"
      ],
      "metadata": {
        "colab": {
          "base_uri": "https://localhost:8080/"
        },
        "id": "_c74KCGe71Jk",
        "outputId": "14a3b93e-9233-4607-b481-8fc6f5100c05"
      },
      "execution_count": null,
      "outputs": [
        {
          "output_type": "stream",
          "name": "stdout",
          "text": [
            "\n",
            "===== Regresi Linear Sederhana =====\n",
            "MSE (Mean Squared Error): 10.300511061950568\n",
            "RMSE (Root Mean Squared Error): 3.209440926695889\n",
            "R-Squared: 0.65712474949117\n"
          ]
        }
      ]
    },
    {
      "cell_type": "markdown",
      "source": [
        "* Menampilkan nilai MSE, RMSE, dan R² dari model regresi linear sederhana untuk mengevaluasi kinerja model.\n",
        "* Ini memberikan informasi tentang seberapa baik model dapat memprediksi nilai target pada data uji."
      ],
      "metadata": {
        "id": "XAPEuNC3C5xr"
      }
    },
    {
      "cell_type": "code",
      "source": [
        "# 2. Regresi Linear dengan Basis Fungsi\n",
        "# Menentukan derajat polinomial (contoh: degree=2 untuk basis polinomial kuadrat)\n",
        "degree = 2\n",
        "polynomial_features = PolynomialFeatures(degree=degree)   # Membuat objek PolynomialFeatures\n",
        "X_train_poly = polynomial_features.fit_transform(X_train) # Transformasi fitur latih\n",
        "X_test_poly = polynomial_features.transform(X_test)       # Transformasi fitur uji\n"
      ],
      "metadata": {
        "id": "p90Ub8Tk76FU"
      },
      "execution_count": null,
      "outputs": []
    },
    {
      "cell_type": "markdown",
      "source": [
        "* Membuat fitur tambahan berdasarkan derajat polinomial (contoh: degree=2 untuk membuat fitur kuadrat dan interaksi antara fitur-fitur asli).\n",
        "* polynomial_features.fit_transform(X_train): Mengubah fitur-fitur pada X_train menjadi fitur-fitur baru berbasis polinomial.\n",
        "* polynomial_features.transform(X_test): Mengubah fitur-fitur pada X_test menjadi fitur-fitur baru yang sama."
      ],
      "metadata": {
        "id": "LTdJ8U-ZDL88"
      }
    },
    {
      "cell_type": "code",
      "source": [
        "# Membangun model regresi linear dengan basis fungsi\n",
        "linear_model_poly = LinearRegression()\n",
        "linear_model_poly.fit(X_train_poly, y_train)              # Melatih model menggunakan fitur basis polinomial"
      ],
      "metadata": {
        "colab": {
          "base_uri": "https://localhost:8080/",
          "height": 80
        },
        "id": "ykkofPMy79g2",
        "outputId": "4baf868f-d749-4df5-d7f5-6c2742c97065"
      },
      "execution_count": null,
      "outputs": [
        {
          "output_type": "execute_result",
          "data": {
            "text/plain": [
              "LinearRegression()"
            ],
            "text/html": [
              "<style>#sk-container-id-2 {\n",
              "  /* Definition of color scheme common for light and dark mode */\n",
              "  --sklearn-color-text: black;\n",
              "  --sklearn-color-line: gray;\n",
              "  /* Definition of color scheme for unfitted estimators */\n",
              "  --sklearn-color-unfitted-level-0: #fff5e6;\n",
              "  --sklearn-color-unfitted-level-1: #f6e4d2;\n",
              "  --sklearn-color-unfitted-level-2: #ffe0b3;\n",
              "  --sklearn-color-unfitted-level-3: chocolate;\n",
              "  /* Definition of color scheme for fitted estimators */\n",
              "  --sklearn-color-fitted-level-0: #f0f8ff;\n",
              "  --sklearn-color-fitted-level-1: #d4ebff;\n",
              "  --sklearn-color-fitted-level-2: #b3dbfd;\n",
              "  --sklearn-color-fitted-level-3: cornflowerblue;\n",
              "\n",
              "  /* Specific color for light theme */\n",
              "  --sklearn-color-text-on-default-background: var(--sg-text-color, var(--theme-code-foreground, var(--jp-content-font-color1, black)));\n",
              "  --sklearn-color-background: var(--sg-background-color, var(--theme-background, var(--jp-layout-color0, white)));\n",
              "  --sklearn-color-border-box: var(--sg-text-color, var(--theme-code-foreground, var(--jp-content-font-color1, black)));\n",
              "  --sklearn-color-icon: #696969;\n",
              "\n",
              "  @media (prefers-color-scheme: dark) {\n",
              "    /* Redefinition of color scheme for dark theme */\n",
              "    --sklearn-color-text-on-default-background: var(--sg-text-color, var(--theme-code-foreground, var(--jp-content-font-color1, white)));\n",
              "    --sklearn-color-background: var(--sg-background-color, var(--theme-background, var(--jp-layout-color0, #111)));\n",
              "    --sklearn-color-border-box: var(--sg-text-color, var(--theme-code-foreground, var(--jp-content-font-color1, white)));\n",
              "    --sklearn-color-icon: #878787;\n",
              "  }\n",
              "}\n",
              "\n",
              "#sk-container-id-2 {\n",
              "  color: var(--sklearn-color-text);\n",
              "}\n",
              "\n",
              "#sk-container-id-2 pre {\n",
              "  padding: 0;\n",
              "}\n",
              "\n",
              "#sk-container-id-2 input.sk-hidden--visually {\n",
              "  border: 0;\n",
              "  clip: rect(1px 1px 1px 1px);\n",
              "  clip: rect(1px, 1px, 1px, 1px);\n",
              "  height: 1px;\n",
              "  margin: -1px;\n",
              "  overflow: hidden;\n",
              "  padding: 0;\n",
              "  position: absolute;\n",
              "  width: 1px;\n",
              "}\n",
              "\n",
              "#sk-container-id-2 div.sk-dashed-wrapped {\n",
              "  border: 1px dashed var(--sklearn-color-line);\n",
              "  margin: 0 0.4em 0.5em 0.4em;\n",
              "  box-sizing: border-box;\n",
              "  padding-bottom: 0.4em;\n",
              "  background-color: var(--sklearn-color-background);\n",
              "}\n",
              "\n",
              "#sk-container-id-2 div.sk-container {\n",
              "  /* jupyter's `normalize.less` sets `[hidden] { display: none; }`\n",
              "     but bootstrap.min.css set `[hidden] { display: none !important; }`\n",
              "     so we also need the `!important` here to be able to override the\n",
              "     default hidden behavior on the sphinx rendered scikit-learn.org.\n",
              "     See: https://github.com/scikit-learn/scikit-learn/issues/21755 */\n",
              "  display: inline-block !important;\n",
              "  position: relative;\n",
              "}\n",
              "\n",
              "#sk-container-id-2 div.sk-text-repr-fallback {\n",
              "  display: none;\n",
              "}\n",
              "\n",
              "div.sk-parallel-item,\n",
              "div.sk-serial,\n",
              "div.sk-item {\n",
              "  /* draw centered vertical line to link estimators */\n",
              "  background-image: linear-gradient(var(--sklearn-color-text-on-default-background), var(--sklearn-color-text-on-default-background));\n",
              "  background-size: 2px 100%;\n",
              "  background-repeat: no-repeat;\n",
              "  background-position: center center;\n",
              "}\n",
              "\n",
              "/* Parallel-specific style estimator block */\n",
              "\n",
              "#sk-container-id-2 div.sk-parallel-item::after {\n",
              "  content: \"\";\n",
              "  width: 100%;\n",
              "  border-bottom: 2px solid var(--sklearn-color-text-on-default-background);\n",
              "  flex-grow: 1;\n",
              "}\n",
              "\n",
              "#sk-container-id-2 div.sk-parallel {\n",
              "  display: flex;\n",
              "  align-items: stretch;\n",
              "  justify-content: center;\n",
              "  background-color: var(--sklearn-color-background);\n",
              "  position: relative;\n",
              "}\n",
              "\n",
              "#sk-container-id-2 div.sk-parallel-item {\n",
              "  display: flex;\n",
              "  flex-direction: column;\n",
              "}\n",
              "\n",
              "#sk-container-id-2 div.sk-parallel-item:first-child::after {\n",
              "  align-self: flex-end;\n",
              "  width: 50%;\n",
              "}\n",
              "\n",
              "#sk-container-id-2 div.sk-parallel-item:last-child::after {\n",
              "  align-self: flex-start;\n",
              "  width: 50%;\n",
              "}\n",
              "\n",
              "#sk-container-id-2 div.sk-parallel-item:only-child::after {\n",
              "  width: 0;\n",
              "}\n",
              "\n",
              "/* Serial-specific style estimator block */\n",
              "\n",
              "#sk-container-id-2 div.sk-serial {\n",
              "  display: flex;\n",
              "  flex-direction: column;\n",
              "  align-items: center;\n",
              "  background-color: var(--sklearn-color-background);\n",
              "  padding-right: 1em;\n",
              "  padding-left: 1em;\n",
              "}\n",
              "\n",
              "\n",
              "/* Toggleable style: style used for estimator/Pipeline/ColumnTransformer box that is\n",
              "clickable and can be expanded/collapsed.\n",
              "- Pipeline and ColumnTransformer use this feature and define the default style\n",
              "- Estimators will overwrite some part of the style using the `sk-estimator` class\n",
              "*/\n",
              "\n",
              "/* Pipeline and ColumnTransformer style (default) */\n",
              "\n",
              "#sk-container-id-2 div.sk-toggleable {\n",
              "  /* Default theme specific background. It is overwritten whether we have a\n",
              "  specific estimator or a Pipeline/ColumnTransformer */\n",
              "  background-color: var(--sklearn-color-background);\n",
              "}\n",
              "\n",
              "/* Toggleable label */\n",
              "#sk-container-id-2 label.sk-toggleable__label {\n",
              "  cursor: pointer;\n",
              "  display: block;\n",
              "  width: 100%;\n",
              "  margin-bottom: 0;\n",
              "  padding: 0.5em;\n",
              "  box-sizing: border-box;\n",
              "  text-align: center;\n",
              "}\n",
              "\n",
              "#sk-container-id-2 label.sk-toggleable__label-arrow:before {\n",
              "  /* Arrow on the left of the label */\n",
              "  content: \"▸\";\n",
              "  float: left;\n",
              "  margin-right: 0.25em;\n",
              "  color: var(--sklearn-color-icon);\n",
              "}\n",
              "\n",
              "#sk-container-id-2 label.sk-toggleable__label-arrow:hover:before {\n",
              "  color: var(--sklearn-color-text);\n",
              "}\n",
              "\n",
              "/* Toggleable content - dropdown */\n",
              "\n",
              "#sk-container-id-2 div.sk-toggleable__content {\n",
              "  max-height: 0;\n",
              "  max-width: 0;\n",
              "  overflow: hidden;\n",
              "  text-align: left;\n",
              "  /* unfitted */\n",
              "  background-color: var(--sklearn-color-unfitted-level-0);\n",
              "}\n",
              "\n",
              "#sk-container-id-2 div.sk-toggleable__content.fitted {\n",
              "  /* fitted */\n",
              "  background-color: var(--sklearn-color-fitted-level-0);\n",
              "}\n",
              "\n",
              "#sk-container-id-2 div.sk-toggleable__content pre {\n",
              "  margin: 0.2em;\n",
              "  border-radius: 0.25em;\n",
              "  color: var(--sklearn-color-text);\n",
              "  /* unfitted */\n",
              "  background-color: var(--sklearn-color-unfitted-level-0);\n",
              "}\n",
              "\n",
              "#sk-container-id-2 div.sk-toggleable__content.fitted pre {\n",
              "  /* unfitted */\n",
              "  background-color: var(--sklearn-color-fitted-level-0);\n",
              "}\n",
              "\n",
              "#sk-container-id-2 input.sk-toggleable__control:checked~div.sk-toggleable__content {\n",
              "  /* Expand drop-down */\n",
              "  max-height: 200px;\n",
              "  max-width: 100%;\n",
              "  overflow: auto;\n",
              "}\n",
              "\n",
              "#sk-container-id-2 input.sk-toggleable__control:checked~label.sk-toggleable__label-arrow:before {\n",
              "  content: \"▾\";\n",
              "}\n",
              "\n",
              "/* Pipeline/ColumnTransformer-specific style */\n",
              "\n",
              "#sk-container-id-2 div.sk-label input.sk-toggleable__control:checked~label.sk-toggleable__label {\n",
              "  color: var(--sklearn-color-text);\n",
              "  background-color: var(--sklearn-color-unfitted-level-2);\n",
              "}\n",
              "\n",
              "#sk-container-id-2 div.sk-label.fitted input.sk-toggleable__control:checked~label.sk-toggleable__label {\n",
              "  background-color: var(--sklearn-color-fitted-level-2);\n",
              "}\n",
              "\n",
              "/* Estimator-specific style */\n",
              "\n",
              "/* Colorize estimator box */\n",
              "#sk-container-id-2 div.sk-estimator input.sk-toggleable__control:checked~label.sk-toggleable__label {\n",
              "  /* unfitted */\n",
              "  background-color: var(--sklearn-color-unfitted-level-2);\n",
              "}\n",
              "\n",
              "#sk-container-id-2 div.sk-estimator.fitted input.sk-toggleable__control:checked~label.sk-toggleable__label {\n",
              "  /* fitted */\n",
              "  background-color: var(--sklearn-color-fitted-level-2);\n",
              "}\n",
              "\n",
              "#sk-container-id-2 div.sk-label label.sk-toggleable__label,\n",
              "#sk-container-id-2 div.sk-label label {\n",
              "  /* The background is the default theme color */\n",
              "  color: var(--sklearn-color-text-on-default-background);\n",
              "}\n",
              "\n",
              "/* On hover, darken the color of the background */\n",
              "#sk-container-id-2 div.sk-label:hover label.sk-toggleable__label {\n",
              "  color: var(--sklearn-color-text);\n",
              "  background-color: var(--sklearn-color-unfitted-level-2);\n",
              "}\n",
              "\n",
              "/* Label box, darken color on hover, fitted */\n",
              "#sk-container-id-2 div.sk-label.fitted:hover label.sk-toggleable__label.fitted {\n",
              "  color: var(--sklearn-color-text);\n",
              "  background-color: var(--sklearn-color-fitted-level-2);\n",
              "}\n",
              "\n",
              "/* Estimator label */\n",
              "\n",
              "#sk-container-id-2 div.sk-label label {\n",
              "  font-family: monospace;\n",
              "  font-weight: bold;\n",
              "  display: inline-block;\n",
              "  line-height: 1.2em;\n",
              "}\n",
              "\n",
              "#sk-container-id-2 div.sk-label-container {\n",
              "  text-align: center;\n",
              "}\n",
              "\n",
              "/* Estimator-specific */\n",
              "#sk-container-id-2 div.sk-estimator {\n",
              "  font-family: monospace;\n",
              "  border: 1px dotted var(--sklearn-color-border-box);\n",
              "  border-radius: 0.25em;\n",
              "  box-sizing: border-box;\n",
              "  margin-bottom: 0.5em;\n",
              "  /* unfitted */\n",
              "  background-color: var(--sklearn-color-unfitted-level-0);\n",
              "}\n",
              "\n",
              "#sk-container-id-2 div.sk-estimator.fitted {\n",
              "  /* fitted */\n",
              "  background-color: var(--sklearn-color-fitted-level-0);\n",
              "}\n",
              "\n",
              "/* on hover */\n",
              "#sk-container-id-2 div.sk-estimator:hover {\n",
              "  /* unfitted */\n",
              "  background-color: var(--sklearn-color-unfitted-level-2);\n",
              "}\n",
              "\n",
              "#sk-container-id-2 div.sk-estimator.fitted:hover {\n",
              "  /* fitted */\n",
              "  background-color: var(--sklearn-color-fitted-level-2);\n",
              "}\n",
              "\n",
              "/* Specification for estimator info (e.g. \"i\" and \"?\") */\n",
              "\n",
              "/* Common style for \"i\" and \"?\" */\n",
              "\n",
              ".sk-estimator-doc-link,\n",
              "a:link.sk-estimator-doc-link,\n",
              "a:visited.sk-estimator-doc-link {\n",
              "  float: right;\n",
              "  font-size: smaller;\n",
              "  line-height: 1em;\n",
              "  font-family: monospace;\n",
              "  background-color: var(--sklearn-color-background);\n",
              "  border-radius: 1em;\n",
              "  height: 1em;\n",
              "  width: 1em;\n",
              "  text-decoration: none !important;\n",
              "  margin-left: 1ex;\n",
              "  /* unfitted */\n",
              "  border: var(--sklearn-color-unfitted-level-1) 1pt solid;\n",
              "  color: var(--sklearn-color-unfitted-level-1);\n",
              "}\n",
              "\n",
              ".sk-estimator-doc-link.fitted,\n",
              "a:link.sk-estimator-doc-link.fitted,\n",
              "a:visited.sk-estimator-doc-link.fitted {\n",
              "  /* fitted */\n",
              "  border: var(--sklearn-color-fitted-level-1) 1pt solid;\n",
              "  color: var(--sklearn-color-fitted-level-1);\n",
              "}\n",
              "\n",
              "/* On hover */\n",
              "div.sk-estimator:hover .sk-estimator-doc-link:hover,\n",
              ".sk-estimator-doc-link:hover,\n",
              "div.sk-label-container:hover .sk-estimator-doc-link:hover,\n",
              ".sk-estimator-doc-link:hover {\n",
              "  /* unfitted */\n",
              "  background-color: var(--sklearn-color-unfitted-level-3);\n",
              "  color: var(--sklearn-color-background);\n",
              "  text-decoration: none;\n",
              "}\n",
              "\n",
              "div.sk-estimator.fitted:hover .sk-estimator-doc-link.fitted:hover,\n",
              ".sk-estimator-doc-link.fitted:hover,\n",
              "div.sk-label-container:hover .sk-estimator-doc-link.fitted:hover,\n",
              ".sk-estimator-doc-link.fitted:hover {\n",
              "  /* fitted */\n",
              "  background-color: var(--sklearn-color-fitted-level-3);\n",
              "  color: var(--sklearn-color-background);\n",
              "  text-decoration: none;\n",
              "}\n",
              "\n",
              "/* Span, style for the box shown on hovering the info icon */\n",
              ".sk-estimator-doc-link span {\n",
              "  display: none;\n",
              "  z-index: 9999;\n",
              "  position: relative;\n",
              "  font-weight: normal;\n",
              "  right: .2ex;\n",
              "  padding: .5ex;\n",
              "  margin: .5ex;\n",
              "  width: min-content;\n",
              "  min-width: 20ex;\n",
              "  max-width: 50ex;\n",
              "  color: var(--sklearn-color-text);\n",
              "  box-shadow: 2pt 2pt 4pt #999;\n",
              "  /* unfitted */\n",
              "  background: var(--sklearn-color-unfitted-level-0);\n",
              "  border: .5pt solid var(--sklearn-color-unfitted-level-3);\n",
              "}\n",
              "\n",
              ".sk-estimator-doc-link.fitted span {\n",
              "  /* fitted */\n",
              "  background: var(--sklearn-color-fitted-level-0);\n",
              "  border: var(--sklearn-color-fitted-level-3);\n",
              "}\n",
              "\n",
              ".sk-estimator-doc-link:hover span {\n",
              "  display: block;\n",
              "}\n",
              "\n",
              "/* \"?\"-specific style due to the `<a>` HTML tag */\n",
              "\n",
              "#sk-container-id-2 a.estimator_doc_link {\n",
              "  float: right;\n",
              "  font-size: 1rem;\n",
              "  line-height: 1em;\n",
              "  font-family: monospace;\n",
              "  background-color: var(--sklearn-color-background);\n",
              "  border-radius: 1rem;\n",
              "  height: 1rem;\n",
              "  width: 1rem;\n",
              "  text-decoration: none;\n",
              "  /* unfitted */\n",
              "  color: var(--sklearn-color-unfitted-level-1);\n",
              "  border: var(--sklearn-color-unfitted-level-1) 1pt solid;\n",
              "}\n",
              "\n",
              "#sk-container-id-2 a.estimator_doc_link.fitted {\n",
              "  /* fitted */\n",
              "  border: var(--sklearn-color-fitted-level-1) 1pt solid;\n",
              "  color: var(--sklearn-color-fitted-level-1);\n",
              "}\n",
              "\n",
              "/* On hover */\n",
              "#sk-container-id-2 a.estimator_doc_link:hover {\n",
              "  /* unfitted */\n",
              "  background-color: var(--sklearn-color-unfitted-level-3);\n",
              "  color: var(--sklearn-color-background);\n",
              "  text-decoration: none;\n",
              "}\n",
              "\n",
              "#sk-container-id-2 a.estimator_doc_link.fitted:hover {\n",
              "  /* fitted */\n",
              "  background-color: var(--sklearn-color-fitted-level-3);\n",
              "}\n",
              "</style><div id=\"sk-container-id-2\" class=\"sk-top-container\"><div class=\"sk-text-repr-fallback\"><pre>LinearRegression()</pre><b>In a Jupyter environment, please rerun this cell to show the HTML representation or trust the notebook. <br />On GitHub, the HTML representation is unable to render, please try loading this page with nbviewer.org.</b></div><div class=\"sk-container\" hidden><div class=\"sk-item\"><div class=\"sk-estimator fitted sk-toggleable\"><input class=\"sk-toggleable__control sk-hidden--visually\" id=\"sk-estimator-id-2\" type=\"checkbox\" checked><label for=\"sk-estimator-id-2\" class=\"sk-toggleable__label fitted sk-toggleable__label-arrow fitted\">&nbsp;&nbsp;LinearRegression<a class=\"sk-estimator-doc-link fitted\" rel=\"noreferrer\" target=\"_blank\" href=\"https://scikit-learn.org/1.5/modules/generated/sklearn.linear_model.LinearRegression.html\">?<span>Documentation for LinearRegression</span></a><span class=\"sk-estimator-doc-link fitted\">i<span>Fitted</span></span></label><div class=\"sk-toggleable__content fitted\"><pre>LinearRegression()</pre></div> </div></div></div></div>"
            ]
          },
          "metadata": {},
          "execution_count": 15
        }
      ]
    },
    {
      "cell_type": "markdown",
      "source": [
        "* linear_model_poly = LinearRegression(): Membuat objek dari model regresi linear untuk basis polinomial.\n",
        "* linear_model_poly.fit(X_train_poly, y_train): Melatih model dengan fitur polinomial yang telah dibuat sebelumnya (X_train_poly) dan target (y_train)."
      ],
      "metadata": {
        "id": "KrFynS1sDXmK"
      }
    },
    {
      "cell_type": "code",
      "source": [
        "# Prediksi pada data uji dengan fitur basis polinomial\n",
        "y_pred_poly = linear_model_poly.predict(X_test_poly)"
      ],
      "metadata": {
        "id": "QqW97tCF8A4N"
      },
      "execution_count": null,
      "outputs": []
    },
    {
      "cell_type": "markdown",
      "source": [
        "* y_pred_poly: Menyimpan hasil prediksi dari model regresi linear dengan fitur basis polinomial pada data uji X_test_poly.\n",
        "* linear_model_poly.predict(X_test_poly): Menggunakan model yang telah dilatih (linear_model_poly) untuk memprediksi nilai target berdasarkan fitur-fitur polinomial pada data uji."
      ],
      "metadata": {
        "id": "nJZW3EkODd3u"
      }
    },
    {
      "cell_type": "code",
      "source": [
        "# Menghitung metrik evaluasi untuk Regresi Linear dengan Basis Fungsi\n",
        "mse_poly = mean_squared_error(y_test, y_pred_poly)        # Mean Squared Error\n",
        "rmse_poly = np.sqrt(mse_poly)                             # Root Mean Squared Error\n",
        "r2_poly = r2_score(y_test, y_pred_poly)                   # R-Squared"
      ],
      "metadata": {
        "id": "Cja_JBgE8Jne"
      },
      "execution_count": null,
      "outputs": []
    },
    {
      "cell_type": "markdown",
      "source": [
        "* MSE: Rata-rata kuadrat kesalahan prediksi.\n",
        "* RMSE: Akar dari MSE, menunjukkan kesalahan prediksi dalam satuan yang sama dengan target.\n",
        "* R²: Koefisien determinasi, seberapa baik model menjelaskan variabilitas data."
      ],
      "metadata": {
        "id": "x9c0xgsHDnR8"
      }
    },
    {
      "cell_type": "code",
      "source": [
        "print(\"\\n===== Regresi Linear dengan Basis Fungsi (Polinomial Degree = {}) =====\".format(degree))\n",
        "print(\"MSE (Mean Squared Error):\", mse_poly)\n",
        "print(\"RMSE (Root Mean Squared Error):\", rmse_poly)\n",
        "print(\"R-Squared:\", r2_poly)"
      ],
      "metadata": {
        "colab": {
          "base_uri": "https://localhost:8080/"
        },
        "id": "1He3oEAx8New",
        "outputId": "60fec9c9-242c-465b-da7f-adcb663e3694"
      },
      "execution_count": null,
      "outputs": [
        {
          "output_type": "stream",
          "name": "stdout",
          "text": [
            "\n",
            "===== Regresi Linear dengan Basis Fungsi (Polinomial Degree = 2) =====\n",
            "MSE (Mean Squared Error): 1.4394985643426963\n",
            "RMSE (Root Mean Squared Error): 1.1997910502844635\n",
            "R-Squared: 0.9520831123924216\n"
          ]
        }
      ]
    },
    {
      "cell_type": "markdown",
      "source": [
        "* print(\"\\n===== Regresi Linear dengan Basis Fungsi (Polinomial Degree = {}) =====\".format(degree)): Menampilkan judul yang menunjukkan bahwa informasi berikutnya adalah tentang regresi linear dengan basis fungsi polinomial dengan derajat yang telah ditentukan (degree).\n",
        "* print(\"MSE (Mean Squared Error):\", mse_poly): Menampilkan nilai Mean Squared Error (MSE) dari model regresi linear dengan basis fungsi polinomial. MSE memberikan gambaran tentang rata-rata kesalahan kuadrat dalam prediksi model.\n",
        "* print(\"RMSE (Root Mean Squared Error):\", rmse_poly): Menampilkan nilai Root Mean Squared Error (RMSE) dari model. RMSE memberikan ukuran kesalahan dalam satuan yang sama dengan target, sehingga lebih mudah untuk diinterpretasikan.\n",
        "* print(\"R-Squared:\", r2_poly): Menampilkan nilai R² (R-Squared) dari model, yang menunjukkan seberapa baik model dapat menjelaskan variasi dalam data. Nilai R² berkisar dari 0 hingga 1, di mana nilai yang lebih tinggi menunjukkan model yang lebih baik."
      ],
      "metadata": {
        "id": "dyb3FuNVEJz4"
      }
    },
    {
      "cell_type": "code",
      "source": [
        "# Visualisasi Perbandingan\n",
        "# Membuat plot untuk membandingkan prediksi vs nilai aktual pada kedua model\n",
        "plt.figure(figsize=(14, 6))"
      ],
      "metadata": {
        "colab": {
          "base_uri": "https://localhost:8080/",
          "height": 53
        },
        "id": "R0RmP2Gy8Qjo",
        "outputId": "563e0cbb-7e78-492f-f437-52b951ea5911"
      },
      "execution_count": null,
      "outputs": [
        {
          "output_type": "execute_result",
          "data": {
            "text/plain": [
              "<Figure size 1400x600 with 0 Axes>"
            ]
          },
          "metadata": {},
          "execution_count": 19
        },
        {
          "output_type": "display_data",
          "data": {
            "text/plain": [
              "<Figure size 1400x600 with 0 Axes>"
            ]
          },
          "metadata": {}
        }
      ]
    },
    {
      "cell_type": "markdown",
      "source": [
        "* plt.figure(figsize=(14, 6)): Mengatur ukuran figure (gambar) yang akan ditampilkan. Dalam hal ini, lebar figure adalah 14 inci dan tinggi adalah 6 inci. Ini memberikan ruang yang cukup untuk menampilkan dua subplot (grafik) secara berdampingan dengan jelas."
      ],
      "metadata": {
        "id": "OlPP0UP3EUfO"
      }
    },
    {
      "cell_type": "code",
      "source": [
        "# Plot Regresi Linear Sederhana\n",
        "plt.subplot(1, 2, 1)\n",
        "plt.scatter(y_test, y_pred_simple, color='blue', label='Predicted')\n",
        "plt.plot([y_test.min(), y_test.max()], [y_test.min(), y_test.max()], 'k--', lw=3)\n",
        "plt.xlabel('Actual Values')\n",
        "plt.ylabel('Predicted Values')\n",
        "plt.title('Regresi Linear Sederhana')\n",
        "plt.legend()"
      ],
      "metadata": {
        "colab": {
          "base_uri": "https://localhost:8080/",
          "height": 490
        },
        "id": "dbgnAcYO8UdQ",
        "outputId": "46f36557-abcf-4924-e669-090b12134922"
      },
      "execution_count": null,
      "outputs": [
        {
          "output_type": "execute_result",
          "data": {
            "text/plain": [
              "<matplotlib.legend.Legend at 0x7fd7b67ac130>"
            ]
          },
          "metadata": {},
          "execution_count": 20
        },
        {
          "output_type": "display_data",
          "data": {
            "text/plain": [
              "<Figure size 640x480 with 1 Axes>"
            ],
            "image/png": "[encoded data removed]"
          },
          "metadata": {}
        }
      ]
    },
    {
      "cell_type": "markdown",
      "source": [
        "* plt.subplot(1, 2, 1): Menentukan bahwa ini adalah subplot pertama dari dua subplot yang akan ditampilkan dalam satu baris dan dua kolom.\n",
        "* plt.scatter(y_test, y_pred_simple, color='blue', label='Predicted'): Membuat scatter plot untuk menampilkan nilai aktual (y_test) di sumbu x dan nilai prediksi dari model regresi linear sederhana (y_pred_simple) di sumbu y. Titik-titik akan berwarna biru, dan label 'Predicted' akan digunakan dalam legenda.\n",
        "* plt.plot([y_test.min(), y_test.max()], [y_test.min(), y_test.max()], 'k--', lw=3): Menggambar garis diagonal putus-putus yang menunjukkan garis kesempurnaan, di mana nilai aktual sama dengan nilai prediksi. Jika model sempurna, semua titik prediksi akan berada di sepanjang garis ini. Garis ini membantu untuk melihat seberapa dekat prediksi dengan nilai aktual.\n",
        "* plt.xlabel('Actual Values'): Menambahkan label untuk sumbu x, yang menunjukkan bahwa sumbu ini merepresentasikan nilai aktual dari target.\n",
        "* plt.ylabel('Predicted Values'): Menambahkan label untuk sumbu y, yang menunjukkan bahwa sumbu ini merepresentasikan nilai prediksi dari model.\n",
        "* plt.title('Regresi Linear Sederhana'): Menambahkan judul untuk plot ini, yang menjelaskan bahwa ini adalah visualisasi untuk regresi linear sederhana.\n",
        "* plt.legend(): Menampilkan legenda pada plot, sehingga memudahkan pemahaman tentang apa yang diwakili oleh warna dan label pada plot."
      ],
      "metadata": {
        "id": "-8Z0or-JEf03"
      }
    },
    {
      "cell_type": "code",
      "source": [
        "# Plot Regresi Linear dengan Basis Fungsi\n",
        "plt.subplot(1, 2, 2)\n",
        "plt.scatter(y_test, y_pred_poly, color='green', label='Predicted')\n",
        "plt.plot([y_test.min(), y_test.max()], [y_test.min(), y_test.max()], 'k--', lw=3)\n",
        "plt.xlabel('Actual Values')\n",
        "plt.ylabel('Predicted Values')\n",
        "plt.title('Regresi Linear dengan Basis Fungsi (Polinomial)')\n",
        "plt.legend()"
      ],
      "metadata": {
        "colab": {
          "base_uri": "https://localhost:8080/",
          "height": 490
        },
        "id": "Ge-CtbT78YDd",
        "outputId": "5bbf8a55-98ce-4101-d0ed-258cb9b65ed0"
      },
      "execution_count": null,
      "outputs": [
        {
          "output_type": "execute_result",
          "data": {
            "text/plain": [
              "<matplotlib.legend.Legend at 0x7fd7b23167a0>"
            ]
          },
          "metadata": {},
          "execution_count": 21
        },
        {
          "output_type": "display_data",
          "data": {
            "text/plain": [
              "<Figure size 640x480 with 1 Axes>"
            ],
            "image/png": "[encoded data removed]"
          },
          "metadata": {}
        }
      ]
    },
    {
      "cell_type": "markdown",
      "source": [
        "* plt.subplot(1, 2, 2): Menentukan bahwa ini adalah subplot kedua dari dua subplot yang akan ditampilkan dalam satu baris dan dua kolom.\n",
        "* plt.scatter(y_test, y_pred_poly, color='green', label='Predicted'): Membuat scatter plot untuk menampilkan nilai aktual (y_test) di sumbu x dan nilai prediksi dari model regresi linear dengan basis fungsi polinomial (y_pred_poly) di sumbu y. Titik-titik akan berwarna hijau, dan label 'Predicted' akan digunakan dalam legenda.\n",
        "* plt.plot([y_test.min(), y_test.max()], [y_test.min(), y_test.max()], 'k--', lw=3): Menggambar garis diagonal putus-putus yang sama seperti sebelumnya, menunjukkan garis kesempurnaan.\n",
        "* plt.xlabel('Actual Values'): Menambahkan label untuk sumbu x.\n",
        "* plt.ylabel('Predicted Values'): Menambahkan label untuk sumbu y.\n",
        "* plt.title('Regresi Linear dengan Basis Fungsi (Polinomial)'): Menambahkan judul untuk plot ini, yang menjelaskan bahwa ini adalah visualisasi untuk regresi linear dengan basis fungsi polinomial.\n",
        "* plt.legend(): Menampilkan legenda pada plot."
      ],
      "metadata": {
        "id": "LgJfPnyTEyR5"
      }
    },
    {
      "cell_type": "code",
      "source": [
        "# Menampilkan plot\n",
        "plt.suptitle('Perbandingan Hasil Prediksi')\n",
        "plt.show()"
      ],
      "metadata": {
        "colab": {
          "base_uri": "https://localhost:8080/",
          "height": 35
        },
        "id": "OiFPRH9-8dCW",
        "outputId": "c54750b4-d40c-4d4a-e39d-1ed33dc40113"
      },
      "execution_count": null,
      "outputs": [
        {
          "output_type": "display_data",
          "data": {
            "text/plain": [
              "<Figure size 640x480 with 0 Axes>"
            ]
          },
          "metadata": {}
        }
      ]
    },
    {
      "cell_type": "markdown",
      "source": [
        "* plt.suptitle('Perbandingan Hasil Prediksi'): Menambahkan judul umum untuk seluruh figure (dua subplot), menjelaskan bahwa ini adalah perbandingan hasil prediksi dari kedua model.\n",
        "* plt.show(): Menampilkan semua plot yang telah dibuat. Ini adalah langkah terakhir untuk melihat hasil visualisasi, di mana pengguna dapat membandingkan hasil prediksi dari model regresi linear sederhana dan model regresi linear dengan basis fungsi polinomial secara visual."
      ],
      "metadata": {
        "id": "bqj9jkElE972"
      }
    }
  ]
}